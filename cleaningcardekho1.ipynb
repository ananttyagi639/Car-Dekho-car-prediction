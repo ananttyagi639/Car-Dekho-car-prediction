{
 "cells": [
  {
   "cell_type": "code",
   "execution_count": 1665,
   "id": "8bc66153-c725-424a-879e-1510bba99ccb",
   "metadata": {},
   "outputs": [],
   "source": [
    "import pandas as pd \n",
    "import numpy as np\n",
    "from sklearn.impute import SimpleImputer, KNNImputer\n",
    "from scipy.stats import skew"
   ]
  },
  {
   "cell_type": "code",
   "execution_count": null,
   "id": "7d7cdabe-496d-4df4-a9d8-92f79e905d37",
   "metadata": {},
   "outputs": [],
   "source": [
    "import pandas as pd\n",
    "import os\n",
    "\n",
    "# List of file paths for each city's dataset\n",
    "file_paths = [\n",
    "    'D:\\\\Guvi\\\\projects\\\\Car_Dekho\\\\bangalore_cars_Structured.csv',\n",
    "    'D:\\\\Guvi\\\\projects\\\\Car_Dekho\\\\chennai_cars_Structured.csv',\n",
    "    'D:\\\\Guvi\\\\projects\\\\Car_Dekho\\\\delhi_cars_Structured.csv',\n",
    "    'D:\\\\Guvi\\\\projects\\\\Car_Dekho\\\\hyderabad_cars_Structured.csv',\n",
    "    'D:\\\\Guvi\\\\projects\\\\Car_Dekho\\\\jaipur_cars_Structured.csv',\n",
    "    'D:\\\\Guvi\\\\projects\\\\Car_Dekho\\\\kolkata_cars_Structured.csv'\n",
    "]\n",
    "\n",
    "# List to store the individual DataFrames\n",
    "dataframes = []\n",
    "\n",
    "# Loop through each file path and read the CSV file into a DataFrame\n",
    "for file_path in file_paths:\n",
    "    df = pd.read_csv(file_path)\n",
    "    dataframes.append(df)\n",
    "\n",
    "# Concatenate all DataFrames into a single DataFrame\n",
    "combined_df = pd.concat(dataframes, ignore_index=True)\n",
    "\n",
    "# Save the combined DataFrame to the specified path\n",
    "output_path = 'D:\\\\Guvi\\\\projects\\\\Car_Dekho\\\\Car_Dataset_Structured\\\\car_details.csv'\n",
    "combined_df.to_csv(output_path, index=False)\n",
    "\n",
    "print(f\"All datasets concatenated and saved to {output_path}\")"
   ]
  },
  {
   "cell_type": "code",
   "execution_count": 1666,
   "id": "a737f39d-a08f-4e24-bb2f-8cceaae1d178",
   "metadata": {},
   "outputs": [
    {
     "name": "stderr",
     "output_type": "stream",
     "text": [
      "C:\\Users\\anant\\AppData\\Local\\Temp\\ipykernel_13756\\2374094519.py:1: DtypeWarning: Columns (13) have mixed types. Specify dtype option on import or set low_memory=False.\n",
      "  df=pd.read_csv('car_details.csv')\n"
     ]
    }
   ],
   "source": [
    "df=pd.read_csv('car_details.csv')"
   ]
  },
  {
   "cell_type": "code",
   "execution_count": 1667,
   "id": "c7d243b4-1e89-4d30-948a-b7d1db5e3f34",
   "metadata": {},
   "outputs": [
    {
     "data": {
      "text/html": [
       "<div>\n",
       "<style scoped>\n",
       "    .dataframe tbody tr th:only-of-type {\n",
       "        vertical-align: middle;\n",
       "    }\n",
       "\n",
       "    .dataframe tbody tr th {\n",
       "        vertical-align: top;\n",
       "    }\n",
       "\n",
       "    .dataframe thead th {\n",
       "        text-align: right;\n",
       "    }\n",
       "</style>\n",
       "<table border=\"1\" class=\"dataframe\">\n",
       "  <thead>\n",
       "    <tr style=\"text-align: right;\">\n",
       "      <th></th>\n",
       "      <th>it</th>\n",
       "      <th>ft</th>\n",
       "      <th>bt</th>\n",
       "      <th>km</th>\n",
       "      <th>transmission</th>\n",
       "      <th>ownerNo</th>\n",
       "      <th>owner</th>\n",
       "      <th>oem</th>\n",
       "      <th>model</th>\n",
       "      <th>modelYear</th>\n",
       "      <th>...</th>\n",
       "      <th>Rear Brake Type</th>\n",
       "      <th>Top Speed</th>\n",
       "      <th>Acceleration</th>\n",
       "      <th>Tyre Type</th>\n",
       "      <th>No Door Numbers</th>\n",
       "      <th>Cargo Volumn</th>\n",
       "      <th>Wheel Size</th>\n",
       "      <th>Alloy Wheel Size</th>\n",
       "      <th>Ground Clearance Unladen</th>\n",
       "      <th>city</th>\n",
       "    </tr>\n",
       "  </thead>\n",
       "  <tbody>\n",
       "    <tr>\n",
       "      <th>0</th>\n",
       "      <td>0</td>\n",
       "      <td>Petrol</td>\n",
       "      <td>Hatchback</td>\n",
       "      <td>1,20,000</td>\n",
       "      <td>Manual</td>\n",
       "      <td>3</td>\n",
       "      <td>3rd Owner</td>\n",
       "      <td>Maruti</td>\n",
       "      <td>Maruti Celerio</td>\n",
       "      <td>2015</td>\n",
       "      <td>...</td>\n",
       "      <td>Drum</td>\n",
       "      <td>150 Kmph</td>\n",
       "      <td>15.05 Seconds</td>\n",
       "      <td>Tubeless, Radial</td>\n",
       "      <td>5.00</td>\n",
       "      <td>235-litres</td>\n",
       "      <td>NaN</td>\n",
       "      <td>NaN</td>\n",
       "      <td>NaN</td>\n",
       "      <td>Bangalore</td>\n",
       "    </tr>\n",
       "    <tr>\n",
       "      <th>1</th>\n",
       "      <td>0</td>\n",
       "      <td>Petrol</td>\n",
       "      <td>SUV</td>\n",
       "      <td>32,706</td>\n",
       "      <td>Manual</td>\n",
       "      <td>2</td>\n",
       "      <td>2nd Owner</td>\n",
       "      <td>Ford</td>\n",
       "      <td>Ford Ecosport</td>\n",
       "      <td>2018</td>\n",
       "      <td>...</td>\n",
       "      <td>Drum</td>\n",
       "      <td>NaN</td>\n",
       "      <td>NaN</td>\n",
       "      <td>Tubeless,Radial</td>\n",
       "      <td>4.00</td>\n",
       "      <td>352-litres</td>\n",
       "      <td>16</td>\n",
       "      <td>16</td>\n",
       "      <td>NaN</td>\n",
       "      <td>Bangalore</td>\n",
       "    </tr>\n",
       "    <tr>\n",
       "      <th>2</th>\n",
       "      <td>0</td>\n",
       "      <td>Petrol</td>\n",
       "      <td>Hatchback</td>\n",
       "      <td>11,949</td>\n",
       "      <td>Manual</td>\n",
       "      <td>1</td>\n",
       "      <td>1st Owner</td>\n",
       "      <td>Tata</td>\n",
       "      <td>Tata Tiago</td>\n",
       "      <td>2018</td>\n",
       "      <td>...</td>\n",
       "      <td>Drum</td>\n",
       "      <td>150 kmph</td>\n",
       "      <td>14.3 Seconds</td>\n",
       "      <td>Tubeless</td>\n",
       "      <td>5.00</td>\n",
       "      <td>242-litres</td>\n",
       "      <td>14</td>\n",
       "      <td>14</td>\n",
       "      <td>NaN</td>\n",
       "      <td>Bangalore</td>\n",
       "    </tr>\n",
       "    <tr>\n",
       "      <th>3</th>\n",
       "      <td>0</td>\n",
       "      <td>Petrol</td>\n",
       "      <td>Sedan</td>\n",
       "      <td>17,794</td>\n",
       "      <td>Manual</td>\n",
       "      <td>1</td>\n",
       "      <td>1st Owner</td>\n",
       "      <td>Hyundai</td>\n",
       "      <td>Hyundai Xcent</td>\n",
       "      <td>2014</td>\n",
       "      <td>...</td>\n",
       "      <td>Drum</td>\n",
       "      <td>172km/hr</td>\n",
       "      <td>14.2 Seconds</td>\n",
       "      <td>Tubeless,Radial</td>\n",
       "      <td>4.00</td>\n",
       "      <td>407-litres</td>\n",
       "      <td>14</td>\n",
       "      <td>14</td>\n",
       "      <td>NaN</td>\n",
       "      <td>Bangalore</td>\n",
       "    </tr>\n",
       "    <tr>\n",
       "      <th>4</th>\n",
       "      <td>0</td>\n",
       "      <td>Diesel</td>\n",
       "      <td>SUV</td>\n",
       "      <td>60,000</td>\n",
       "      <td>Manual</td>\n",
       "      <td>1</td>\n",
       "      <td>1st Owner</td>\n",
       "      <td>Maruti</td>\n",
       "      <td>Maruti SX4 S Cross</td>\n",
       "      <td>2015</td>\n",
       "      <td>...</td>\n",
       "      <td>Solid Disc</td>\n",
       "      <td>190 Kmph</td>\n",
       "      <td>12 Seconds</td>\n",
       "      <td>Tubeless,Radial</td>\n",
       "      <td>5.00</td>\n",
       "      <td>353-litres</td>\n",
       "      <td>16</td>\n",
       "      <td>16</td>\n",
       "      <td>NaN</td>\n",
       "      <td>Bangalore</td>\n",
       "    </tr>\n",
       "  </tbody>\n",
       "</table>\n",
       "<p>5 rows × 241 columns</p>\n",
       "</div>"
      ],
      "text/plain": [
       "   it      ft         bt        km transmission  ownerNo      owner      oem  \\\n",
       "0   0  Petrol  Hatchback  1,20,000       Manual        3  3rd Owner   Maruti   \n",
       "1   0  Petrol        SUV    32,706       Manual        2  2nd Owner     Ford   \n",
       "2   0  Petrol  Hatchback    11,949       Manual        1  1st Owner     Tata   \n",
       "3   0  Petrol      Sedan    17,794       Manual        1  1st Owner  Hyundai   \n",
       "4   0  Diesel        SUV    60,000       Manual        1  1st Owner   Maruti   \n",
       "\n",
       "                model  modelYear  ...  Rear Brake Type Top Speed  \\\n",
       "0      Maruti Celerio       2015  ...             Drum  150 Kmph   \n",
       "1       Ford Ecosport       2018  ...             Drum       NaN   \n",
       "2          Tata Tiago       2018  ...             Drum  150 kmph   \n",
       "3       Hyundai Xcent       2014  ...             Drum  172km/hr   \n",
       "4  Maruti SX4 S Cross       2015  ...       Solid Disc  190 Kmph   \n",
       "\n",
       "    Acceleration         Tyre Type  No Door Numbers  Cargo Volumn Wheel Size  \\\n",
       "0  15.05 Seconds  Tubeless, Radial             5.00    235-litres        NaN   \n",
       "1            NaN   Tubeless,Radial             4.00    352-litres         16   \n",
       "2   14.3 Seconds          Tubeless             5.00    242-litres         14   \n",
       "3   14.2 Seconds   Tubeless,Radial             4.00    407-litres         14   \n",
       "4     12 Seconds   Tubeless,Radial             5.00    353-litres         16   \n",
       "\n",
       "  Alloy Wheel Size Ground Clearance Unladen       city  \n",
       "0              NaN                      NaN  Bangalore  \n",
       "1               16                      NaN  Bangalore  \n",
       "2               14                      NaN  Bangalore  \n",
       "3               14                      NaN  Bangalore  \n",
       "4               16                      NaN  Bangalore  \n",
       "\n",
       "[5 rows x 241 columns]"
      ]
     },
     "execution_count": 1667,
     "metadata": {},
     "output_type": "execute_result"
    }
   ],
   "source": [
    "df.head(5)"
   ]
  },
  {
   "cell_type": "code",
   "execution_count": 1668,
   "id": "ed5d5bf8-9487-4c96-b1b9-2367048a1c9f",
   "metadata": {},
   "outputs": [
    {
     "data": {
      "text/plain": [
       "np.int64(0)"
      ]
     },
     "execution_count": 1668,
     "metadata": {},
     "output_type": "execute_result"
    }
   ],
   "source": [
    "df['ft'].isnull().sum()"
   ]
  },
  {
   "cell_type": "code",
   "execution_count": 1669,
   "id": "5c0b1a79-073b-4388-9106-345179c26397",
   "metadata": {},
   "outputs": [
    {
     "data": {
      "text/plain": [
       "np.int64(0)"
      ]
     },
     "execution_count": 1669,
     "metadata": {},
     "output_type": "execute_result"
    }
   ],
   "source": [
    "df['ft'].isnull().sum()"
   ]
  },
  {
   "cell_type": "code",
   "execution_count": 1670,
   "id": "d4015811-e194-4d1b-9483-40b0f991736e",
   "metadata": {},
   "outputs": [],
   "source": [
    "df['km']=df['km'].str.replace(\",\",\"\")"
   ]
  },
  {
   "cell_type": "code",
   "execution_count": 1671,
   "id": "83f98ba9-6404-44de-a9f4-fd4eb9e095a5",
   "metadata": {},
   "outputs": [
    {
     "data": {
      "text/plain": [
       "np.int64(0)"
      ]
     },
     "execution_count": 1671,
     "metadata": {},
     "output_type": "execute_result"
    }
   ],
   "source": [
    "df['transmission'].isnull().sum()"
   ]
  },
  {
   "cell_type": "code",
   "execution_count": 1672,
   "id": "e67884bf-3ea8-49ef-af79-82a23a2b26ee",
   "metadata": {},
   "outputs": [
    {
     "data": {
      "text/plain": [
       "np.int64(0)"
      ]
     },
     "execution_count": 1672,
     "metadata": {},
     "output_type": "execute_result"
    }
   ],
   "source": [
    "df['ownerNo'].isnull().sum()"
   ]
  },
  {
   "cell_type": "code",
   "execution_count": 1673,
   "id": "0e4ff6bf-5623-4638-ae2a-78b336ce1fb2",
   "metadata": {},
   "outputs": [],
   "source": [
    "df=df.drop(columns=['owner'])"
   ]
  },
  {
   "cell_type": "code",
   "execution_count": 1674,
   "id": "770e2074-7251-42ee-ac9b-1425cde4b415",
   "metadata": {},
   "outputs": [
    {
     "data": {
      "text/plain": [
       "np.int64(0)"
      ]
     },
     "execution_count": 1674,
     "metadata": {},
     "output_type": "execute_result"
    }
   ],
   "source": [
    "df['oem'].isnull().sum()"
   ]
  },
  {
   "cell_type": "code",
   "execution_count": 1675,
   "id": "84056567-6832-46f8-87d0-4868f2d91705",
   "metadata": {},
   "outputs": [
    {
     "data": {
      "text/plain": [
       "np.int64(0)"
      ]
     },
     "execution_count": 1675,
     "metadata": {},
     "output_type": "execute_result"
    }
   ],
   "source": [
    "df['model'].isnull().sum()"
   ]
  },
  {
   "cell_type": "code",
   "execution_count": 1676,
   "id": "86aaaacc-974d-4c08-be52-e936826fbe81",
   "metadata": {},
   "outputs": [
    {
     "data": {
      "text/plain": [
       "np.int64(0)"
      ]
     },
     "execution_count": 1676,
     "metadata": {},
     "output_type": "execute_result"
    }
   ],
   "source": [
    "df['modelYear'].isnull().sum()"
   ]
  },
  {
   "cell_type": "code",
   "execution_count": 1677,
   "id": "738d5f94-9fc1-4463-8571-093d6d8557d0",
   "metadata": {},
   "outputs": [
    {
     "data": {
      "text/plain": [
       "np.int64(0)"
      ]
     },
     "execution_count": 1677,
     "metadata": {},
     "output_type": "execute_result"
    }
   ],
   "source": [
    "df['centralVariantId'].isnull().sum()"
   ]
  },
  {
   "cell_type": "code",
   "execution_count": 1678,
   "id": "9f3b8676-88e1-4b56-a3e0-5429df402df0",
   "metadata": {},
   "outputs": [
    {
     "data": {
      "text/plain": [
       "np.int64(0)"
      ]
     },
     "execution_count": 1678,
     "metadata": {},
     "output_type": "execute_result"
    }
   ],
   "source": [
    "df['variantName'].isnull().sum()"
   ]
  },
  {
   "cell_type": "code",
   "execution_count": 1679,
   "id": "1591f155-30e3-46cc-9fe6-d199c7e8d5fd",
   "metadata": {},
   "outputs": [],
   "source": [
    "df['price']=df['price'].str.replace(\"₹\",\"\")"
   ]
  },
  {
   "cell_type": "code",
   "execution_count": 1680,
   "id": "9c733744-92d1-480f-9ee4-4b1e7b33c815",
   "metadata": {},
   "outputs": [
    {
     "data": {
      "text/plain": [
       "0           4 Lakh\n",
       "1        8.11 Lakh\n",
       "2        5.85 Lakh\n",
       "3        4.62 Lakh\n",
       "4        7.90 Lakh\n",
       "           ...    \n",
       "8364     5.10 Lakh\n",
       "8365     1.80 Lakh\n",
       "8366     5.50 Lakh\n",
       "8367     1.40 Lakh\n",
       "8368        5 Lakh\n",
       "Name: price, Length: 8369, dtype: object"
      ]
     },
     "execution_count": 1680,
     "metadata": {},
     "output_type": "execute_result"
    }
   ],
   "source": [
    "df['price']"
   ]
  },
  {
   "cell_type": "code",
   "execution_count": 1681,
   "id": "2924ac30-6877-4874-9cea-85169658f2c3",
   "metadata": {},
   "outputs": [],
   "source": [
    "df['price']=df['price'].str.replace(\",\",\"\")"
   ]
  },
  {
   "cell_type": "code",
   "execution_count": 1682,
   "id": "d3f4c38e-8da8-43eb-a286-2753a7f8add1",
   "metadata": {},
   "outputs": [],
   "source": [
    "def convert_to_lakhs(price_str):\n",
    "   \n",
    "    if 'Crore' in price_str:\n",
    "        return float(price_str.replace('Crore', '')) * 100\n",
    "    elif 'Lakh' in price_str:\n",
    "        return float(price_str.replace('Lakh', ''))\n",
    "    elif 'Thousand' in price_str:\n",
    "        return float(price_str.replace('Thousand', '')) / 100\n",
    "    else:\n",
    "        return float(price_str)\n",
    "df['price'] = df['price'].apply(convert_to_lakhs)"
   ]
  },
  {
   "cell_type": "code",
   "execution_count": 1683,
   "id": "866d79be-6b6f-4450-89a5-13bb7b567668",
   "metadata": {},
   "outputs": [
    {
     "data": {
      "text/plain": [
       "array([80.04540566])"
      ]
     },
     "execution_count": 1683,
     "metadata": {},
     "output_type": "execute_result"
    }
   ],
   "source": [
    "df['priceActual'].isnull().sum()/df['priceActual'].shape*100"
   ]
  },
  {
   "cell_type": "code",
   "execution_count": 1684,
   "id": "9ec2b081-982d-416d-aa03-a2d0bd48863a",
   "metadata": {},
   "outputs": [
    {
     "data": {
      "text/plain": [
       "0       NaN\n",
       "1       NaN\n",
       "2       NaN\n",
       "3       NaN\n",
       "4       NaN\n",
       "       ... \n",
       "8364    NaN\n",
       "8365    NaN\n",
       "8366    NaN\n",
       "8367    NaN\n",
       "8368    NaN\n",
       "Name: priceActual, Length: 8369, dtype: object"
      ]
     },
     "execution_count": 1684,
     "metadata": {},
     "output_type": "execute_result"
    }
   ],
   "source": [
    "df['priceActual']"
   ]
  },
  {
   "cell_type": "code",
   "execution_count": 1685,
   "id": "6441aa36-5925-47c5-85ee-999d80f7d45a",
   "metadata": {},
   "outputs": [],
   "source": [
    "df=df.drop(columns=['priceActual']) #dropping the column bcz missing values of the column is more than 50%"
   ]
  },
  {
   "cell_type": "code",
   "execution_count": 1686,
   "id": "a7081d69-7095-4af1-ba34-aa0b8ed7bee2",
   "metadata": {},
   "outputs": [],
   "source": [
    "df=df.drop(columns=['priceFixedText'])  "
   ]
  },
  {
   "cell_type": "code",
   "execution_count": 1687,
   "id": "276b0a34-577b-4b8c-9445-01f703eb26a5",
   "metadata": {},
   "outputs": [],
   "source": [
    "df=df.drop(columns=['trendingText'])  "
   ]
  },
  {
   "cell_type": "code",
   "execution_count": null,
   "id": "34f96b9b-05cf-486b-8579-4c7204f45928",
   "metadata": {},
   "outputs": [],
   "source": []
  },
  {
   "cell_type": "code",
   "execution_count": 1688,
   "id": "c0f855e9-bf9f-484f-8c66-074c2f0683bb",
   "metadata": {},
   "outputs": [],
   "source": [
    "import pandas as pd\n",
    "\n",
    "# Assuming df is your dataframe and 'registration_year' is the column\n",
    "def convert_to_year(val):\n",
    "    if isinstance(val, str) and any(char.isalpha() for char in val):\n",
    "        return '20' + val[-2:]  # Extract the last two digits and add '20'\n",
    "    return val\n",
    "\n",
    "df['Registration Year'] = df['Registration Year'].apply(convert_to_year)"
   ]
  },
  {
   "cell_type": "code",
   "execution_count": 1689,
   "id": "5db1193b-7cee-4dfb-85a5-2c34754004ac",
   "metadata": {},
   "outputs": [],
   "source": [
    "df['Registration Year']=df['Registration Year'].fillna(df['modelYear'])"
   ]
  },
  {
   "cell_type": "code",
   "execution_count": 1690,
   "id": "85a76ee1-2f98-45d1-9107-fab48abfadca",
   "metadata": {},
   "outputs": [
    {
     "data": {
      "text/plain": [
       "np.int64(0)"
      ]
     },
     "execution_count": 1690,
     "metadata": {},
     "output_type": "execute_result"
    }
   ],
   "source": [
    "df['Registration Year'].isnull().sum()"
   ]
  },
  {
   "cell_type": "code",
   "execution_count": 1691,
   "id": "3588f24e-49b4-4ff1-ab17-6cfc79618b5d",
   "metadata": {},
   "outputs": [
    {
     "data": {
      "text/html": [
       "<div>\n",
       "<style scoped>\n",
       "    .dataframe tbody tr th:only-of-type {\n",
       "        vertical-align: middle;\n",
       "    }\n",
       "\n",
       "    .dataframe tbody tr th {\n",
       "        vertical-align: top;\n",
       "    }\n",
       "\n",
       "    .dataframe thead th {\n",
       "        text-align: right;\n",
       "    }\n",
       "</style>\n",
       "<table border=\"1\" class=\"dataframe\">\n",
       "  <thead>\n",
       "    <tr style=\"text-align: right;\">\n",
       "      <th></th>\n",
       "      <th>it</th>\n",
       "      <th>ft</th>\n",
       "      <th>bt</th>\n",
       "      <th>km</th>\n",
       "      <th>transmission</th>\n",
       "      <th>ownerNo</th>\n",
       "      <th>oem</th>\n",
       "      <th>model</th>\n",
       "      <th>modelYear</th>\n",
       "      <th>centralVariantId</th>\n",
       "      <th>...</th>\n",
       "      <th>Rear Brake Type</th>\n",
       "      <th>Top Speed</th>\n",
       "      <th>Acceleration</th>\n",
       "      <th>Tyre Type</th>\n",
       "      <th>No Door Numbers</th>\n",
       "      <th>Cargo Volumn</th>\n",
       "      <th>Wheel Size</th>\n",
       "      <th>Alloy Wheel Size</th>\n",
       "      <th>Ground Clearance Unladen</th>\n",
       "      <th>city</th>\n",
       "    </tr>\n",
       "  </thead>\n",
       "  <tbody>\n",
       "    <tr>\n",
       "      <th>524</th>\n",
       "      <td>0</td>\n",
       "      <td>Petrol</td>\n",
       "      <td>Sedan</td>\n",
       "      <td>114321</td>\n",
       "      <td>Manual</td>\n",
       "      <td>2</td>\n",
       "      <td>Maruti</td>\n",
       "      <td>Maruti Ciaz</td>\n",
       "      <td>2016</td>\n",
       "      <td>4007</td>\n",
       "      <td>...</td>\n",
       "      <td>Drum</td>\n",
       "      <td>190 kmph</td>\n",
       "      <td>14 Seconds</td>\n",
       "      <td>Tubeless, Radial</td>\n",
       "      <td>4.00</td>\n",
       "      <td>510-litres</td>\n",
       "      <td>16</td>\n",
       "      <td>16</td>\n",
       "      <td>NaN</td>\n",
       "      <td>Bangalore</td>\n",
       "    </tr>\n",
       "    <tr>\n",
       "      <th>3022</th>\n",
       "      <td>0</td>\n",
       "      <td>Petrol</td>\n",
       "      <td>Hatchback</td>\n",
       "      <td>62150</td>\n",
       "      <td>Manual</td>\n",
       "      <td>1</td>\n",
       "      <td>Hyundai</td>\n",
       "      <td>Hyundai i10</td>\n",
       "      <td>2015</td>\n",
       "      <td>1569</td>\n",
       "      <td>...</td>\n",
       "      <td>Drum</td>\n",
       "      <td>165 Kmph</td>\n",
       "      <td>14.3 Seconds</td>\n",
       "      <td>Tubeless</td>\n",
       "      <td>5.00</td>\n",
       "      <td>225-litres</td>\n",
       "      <td>NaN</td>\n",
       "      <td>NaN</td>\n",
       "      <td>NaN</td>\n",
       "      <td>Delhi</td>\n",
       "    </tr>\n",
       "    <tr>\n",
       "      <th>6676</th>\n",
       "      <td>0</td>\n",
       "      <td>Diesel</td>\n",
       "      <td>SUV</td>\n",
       "      <td>40220</td>\n",
       "      <td>Manual</td>\n",
       "      <td>1</td>\n",
       "      <td>Mahindra</td>\n",
       "      <td>Mahindra TUV 300</td>\n",
       "      <td>2016</td>\n",
       "      <td>3755</td>\n",
       "      <td>...</td>\n",
       "      <td>Drum</td>\n",
       "      <td>156 Kmph</td>\n",
       "      <td>13.9 Seconds</td>\n",
       "      <td>Tubeless,Radials</td>\n",
       "      <td>5.00</td>\n",
       "      <td>384-litres</td>\n",
       "      <td>15</td>\n",
       "      <td>15</td>\n",
       "      <td>NaN</td>\n",
       "      <td>Jaipur</td>\n",
       "    </tr>\n",
       "  </tbody>\n",
       "</table>\n",
       "<p>3 rows × 237 columns</p>\n",
       "</div>"
      ],
      "text/plain": [
       "      it      ft         bt      km transmission  ownerNo       oem  \\\n",
       "524    0  Petrol      Sedan  114321       Manual        2    Maruti   \n",
       "3022   0  Petrol  Hatchback   62150       Manual        1   Hyundai   \n",
       "6676   0  Diesel        SUV   40220       Manual        1  Mahindra   \n",
       "\n",
       "                 model  modelYear  centralVariantId  ... Rear Brake Type  \\\n",
       "524        Maruti Ciaz       2016              4007  ...            Drum   \n",
       "3022       Hyundai i10       2015              1569  ...            Drum   \n",
       "6676  Mahindra TUV 300       2016              3755  ...            Drum   \n",
       "\n",
       "      Top Speed  Acceleration         Tyre Type No Door Numbers Cargo Volumn  \\\n",
       "524    190 kmph    14 Seconds  Tubeless, Radial            4.00   510-litres   \n",
       "3022   165 Kmph  14.3 Seconds          Tubeless            5.00   225-litres   \n",
       "6676   156 Kmph  13.9 Seconds  Tubeless,Radials            5.00   384-litres   \n",
       "\n",
       "     Wheel Size Alloy Wheel Size Ground Clearance Unladen       city  \n",
       "524          16               16                      NaN  Bangalore  \n",
       "3022        NaN              NaN                      NaN      Delhi  \n",
       "6676         15               15                      NaN     Jaipur  \n",
       "\n",
       "[3 rows x 237 columns]"
      ]
     },
     "execution_count": 1691,
     "metadata": {},
     "output_type": "execute_result"
    }
   ],
   "source": [
    "df[df['Insurance Validity'].isin(['1'])]"
   ]
  },
  {
   "cell_type": "code",
   "execution_count": 1692,
   "id": "d0635eda-12ea-4654-851f-c0d3bb321020",
   "metadata": {},
   "outputs": [],
   "source": [
    "df['Insurance Validity']=df['Insurance Validity'].replace(np.nan,'Not Available')"
   ]
  },
  {
   "cell_type": "code",
   "execution_count": 1693,
   "id": "1899ae4e-1cdf-4527-9329-f67e3de83733",
   "metadata": {},
   "outputs": [],
   "source": [
    "df['Insurance Validity']=df['Insurance Validity'].astype(str)"
   ]
  },
  {
   "cell_type": "code",
   "execution_count": 1694,
   "id": "49c21b8f-d9a1-4061-b47d-e9a6dcab836f",
   "metadata": {},
   "outputs": [],
   "source": [
    "df[\"Insurance Validity\"]=df[\"Insurance Validity\"].str.replace(\"Third Party insurance\",\"Third Party\")"
   ]
  },
  {
   "cell_type": "code",
   "execution_count": 1695,
   "id": "d0d2d2f6-50e1-4657-b998-38ad02ff6cfc",
   "metadata": {},
   "outputs": [
    {
     "data": {
      "text/plain": [
       "np.int64(0)"
      ]
     },
     "execution_count": 1695,
     "metadata": {},
     "output_type": "execute_result"
    }
   ],
   "source": [
    "df['Insurance Validity'].isnull().sum()"
   ]
  },
  {
   "cell_type": "code",
   "execution_count": 1696,
   "id": "6b37d9d6-5fa8-422f-84af-bc639d5a0b89",
   "metadata": {},
   "outputs": [
    {
     "data": {
      "text/plain": [
       "np.int64(0)"
      ]
     },
     "execution_count": 1696,
     "metadata": {},
     "output_type": "execute_result"
    }
   ],
   "source": [
    "df['Fuel Type'].isnull().sum()"
   ]
  },
  {
   "cell_type": "code",
   "execution_count": 1697,
   "id": "62b67dc0-def2-4c72-b107-47e0f1d52d1d",
   "metadata": {},
   "outputs": [
    {
     "data": {
      "text/plain": [
       "np.int64(6)"
      ]
     },
     "execution_count": 1697,
     "metadata": {},
     "output_type": "execute_result"
    }
   ],
   "source": [
    "df['Seats'].isnull().sum()"
   ]
  },
  {
   "cell_type": "code",
   "execution_count": 1698,
   "id": "30d94386-b3e4-4982-8693-b9089f3aa05e",
   "metadata": {},
   "outputs": [],
   "source": [
    "df['Seats']=df['Seats'].str.replace(' Seats','')"
   ]
  },
  {
   "cell_type": "code",
   "execution_count": 1699,
   "id": "36792b62-824d-444b-b55f-94c8f3ba76b3",
   "metadata": {},
   "outputs": [
    {
     "data": {
      "text/plain": [
       "0       5\n",
       "1       5\n",
       "2       5\n",
       "3       5\n",
       "4       5\n",
       "       ..\n",
       "8364    5\n",
       "8365    5\n",
       "8366    5\n",
       "8367    5\n",
       "8368    5\n",
       "Name: Seats, Length: 8369, dtype: object"
      ]
     },
     "execution_count": 1699,
     "metadata": {},
     "output_type": "execute_result"
    }
   ],
   "source": [
    "df['Seats']"
   ]
  },
  {
   "cell_type": "code",
   "execution_count": 1700,
   "id": "32c67959-1a9b-4502-8525-953e208307a5",
   "metadata": {},
   "outputs": [
    {
     "data": {
      "text/plain": [
       "[1175, 3528, 6211, 7608, 7669, 7745]"
      ]
     },
     "execution_count": 1700,
     "metadata": {},
     "output_type": "execute_result"
    }
   ],
   "source": [
    "df[df['Seats'].isnull()].index.tolist()"
   ]
  },
  {
   "cell_type": "code",
   "execution_count": 1701,
   "id": "e2245f3f-7a2e-44c8-bee2-7f00ae4feb2f",
   "metadata": {},
   "outputs": [],
   "source": [
    "df['Seats']=df.at[1175,'Seats']=5"
   ]
  },
  {
   "cell_type": "code",
   "execution_count": 1702,
   "id": "732f3f07-4d6d-41be-b16b-85bf41afdd0a",
   "metadata": {},
   "outputs": [],
   "source": [
    "df['Seats']=df.at[3528,'Seats']=5"
   ]
  },
  {
   "cell_type": "code",
   "execution_count": 1703,
   "id": "f9401d15-c530-46ef-902d-7216bd873099",
   "metadata": {},
   "outputs": [],
   "source": [
    "df['Seats']=df.at[6211,'Seats']=7"
   ]
  },
  {
   "cell_type": "code",
   "execution_count": 1704,
   "id": "53730246-9e00-46ee-9497-d0a318d06a39",
   "metadata": {},
   "outputs": [],
   "source": [
    "df['Seats']=df.at[7608,'Seats']=5"
   ]
  },
  {
   "cell_type": "code",
   "execution_count": 1705,
   "id": "cd054e09-021f-4770-b9e9-530bdb0758ff",
   "metadata": {},
   "outputs": [],
   "source": [
    "df['Seats']=df.at[7669,'Seats']=5"
   ]
  },
  {
   "cell_type": "code",
   "execution_count": 1706,
   "id": "21856539-080c-4999-930a-697a556390bb",
   "metadata": {},
   "outputs": [],
   "source": [
    "df['Seats']=df.at[7745,'Seats']=5"
   ]
  },
  {
   "cell_type": "code",
   "execution_count": 1707,
   "id": "809ce000-6350-4934-bcb2-ae7d43ca03ae",
   "metadata": {},
   "outputs": [],
   "source": [
    "df=df.drop(columns=['Kms Driven'])"
   ]
  },
  {
   "cell_type": "code",
   "execution_count": 1708,
   "id": "e695bbb4-0c0b-43b5-ac70-101e335cf3c1",
   "metadata": {},
   "outputs": [
    {
     "data": {
      "text/plain": [
       "dtype('O')"
      ]
     },
     "execution_count": 1708,
     "metadata": {},
     "output_type": "execute_result"
    }
   ],
   "source": [
    "df['RTO'].dtype"
   ]
  },
  {
   "cell_type": "code",
   "execution_count": 1709,
   "id": "d880e7b9-cbf3-4140-b4f3-61995519fd37",
   "metadata": {},
   "outputs": [],
   "source": [
    "df['RTO']=df['RTO'].astype('object')"
   ]
  },
  {
   "cell_type": "code",
   "execution_count": 1710,
   "id": "e7028fe0-68ae-4c0a-bb5e-844a79f9356c",
   "metadata": {},
   "outputs": [
    {
     "data": {
      "text/plain": [
       "np.int64(894)"
      ]
     },
     "execution_count": 1710,
     "metadata": {},
     "output_type": "execute_result"
    }
   ],
   "source": [
    "df['RTO'].isnull().sum()"
   ]
  },
  {
   "cell_type": "code",
   "execution_count": null,
   "id": "999bf2ae-4e7c-479d-82ef-23c076981275",
   "metadata": {},
   "outputs": [],
   "source": []
  },
  {
   "cell_type": "code",
   "execution_count": 1711,
   "id": "e9caf34b-8bb0-4b16-bb23-4ee828e9d408",
   "metadata": {},
   "outputs": [],
   "source": [
    "df['RTO']=df['RTO'].replace('NaN',np.nan)"
   ]
  },
  {
   "cell_type": "code",
   "execution_count": 1712,
   "id": "de127a41-49b3-42c0-8750-4ab8e9d5dde6",
   "metadata": {},
   "outputs": [
    {
     "name": "stdout",
     "output_type": "stream",
     "text": [
      "\n",
      "DataFrame after imputation:\n",
      "RTO\n",
      "WB02    1346\n",
      "RJ14     367\n",
      "TS07     282\n",
      "TS08     244\n",
      "KA03     244\n",
      "        ... \n",
      "TN99       1\n",
      "TN88       1\n",
      "OR02       1\n",
      "TN51       1\n",
      "AR01       1\n",
      "Name: count, Length: 464, dtype: int64\n"
     ]
    }
   ],
   "source": [
    "imputer = SimpleImputer(strategy='most_frequent')\n",
    "\n",
    "# Fit and transform the data\n",
    "imputed_values = imputer.fit_transform(df[['RTO']])\n",
    "\n",
    "# Ensure the output is flattened to 1D\n",
    "df['RTO'] = imputed_values.flatten()  # or use .ravel()\n",
    "\n",
    "# Check the final state of the DataFrame\n",
    "print(\"\\nDataFrame after imputation:\")\n",
    "print(df['RTO'].value_counts(dropna=False))"
   ]
  },
  {
   "cell_type": "code",
   "execution_count": 1713,
   "id": "d45a0f81-85f4-433c-9eb6-d98422ecf630",
   "metadata": {},
   "outputs": [],
   "source": [
    "df=df.drop(columns=['Ownership'])"
   ]
  },
  {
   "cell_type": "code",
   "execution_count": 1714,
   "id": "6f8901eb-faf2-4189-8df0-1f330de7543f",
   "metadata": {},
   "outputs": [
    {
     "data": {
      "text/plain": [
       "np.int64(4)"
      ]
     },
     "execution_count": 1714,
     "metadata": {},
     "output_type": "execute_result"
    }
   ],
   "source": [
    "df['Engine Displacement'].isnull().sum()"
   ]
  },
  {
   "cell_type": "code",
   "execution_count": 1715,
   "id": "3bb227c0-f4e8-4566-b41e-f8067193a012",
   "metadata": {},
   "outputs": [],
   "source": [
    "df['Engine Displacement']=df['Engine Displacement'].str.replace(' cc','')"
   ]
  },
  {
   "cell_type": "code",
   "execution_count": 1716,
   "id": "81be6144-3e2e-4edb-9755-b72501622b75",
   "metadata": {},
   "outputs": [
    {
     "data": {
      "text/plain": [
       "0        998\n",
       "1       1497\n",
       "2       1199\n",
       "3       1197\n",
       "4       1248\n",
       "        ... \n",
       "8364     998\n",
       "8365     796\n",
       "8366    1796\n",
       "8367    1197\n",
       "8368    1461\n",
       "Name: Engine Displacement, Length: 8369, dtype: object"
      ]
     },
     "execution_count": 1716,
     "metadata": {},
     "output_type": "execute_result"
    }
   ],
   "source": [
    "df['Engine Displacement']\n"
   ]
  },
  {
   "cell_type": "code",
   "execution_count": 1717,
   "id": "4b202c88-6092-482f-9d6b-3c71116e1131",
   "metadata": {},
   "outputs": [
    {
     "data": {
      "text/plain": [
       "dtype('O')"
      ]
     },
     "execution_count": 1717,
     "metadata": {},
     "output_type": "execute_result"
    }
   ],
   "source": [
    "df['Engine Displacement'].dtype"
   ]
  },
  {
   "cell_type": "code",
   "execution_count": 1718,
   "id": "3a74d0ee-fbb5-413e-a010-4af988ae25b3",
   "metadata": {},
   "outputs": [
    {
     "name": "stdout",
     "output_type": "stream",
     "text": [
      "<class 'pandas.core.series.Series'>\n",
      "RangeIndex: 8369 entries, 0 to 8368\n",
      "Series name: Engine Displacement\n",
      "Non-Null Count  Dtype \n",
      "--------------  ----- \n",
      "8365 non-null   object\n",
      "dtypes: object(1)\n",
      "memory usage: 65.5+ KB\n"
     ]
    }
   ],
   "source": [
    "df['Engine Displacement'].info()"
   ]
  },
  {
   "cell_type": "code",
   "execution_count": 1719,
   "id": "9cfa6104-cc24-4ef3-98fc-e089c356a3a8",
   "metadata": {},
   "outputs": [
    {
     "data": {
      "text/plain": [
       "np.float64(1.6150226131267023)"
      ]
     },
     "execution_count": 1719,
     "metadata": {},
     "output_type": "execute_result"
    }
   ],
   "source": [
    "df['Engine Displacement'].skew()"
   ]
  },
  {
   "cell_type": "code",
   "execution_count": 1720,
   "id": "2f97ace7-1254-49fb-b72d-f791cb2b6ac8",
   "metadata": {},
   "outputs": [],
   "source": [
    "imputer=SimpleImputer(strategy='most_frequent')\n",
    "imputed_value=imputer.fit_transform(df[['Engine Displacement']])\n",
    "df['Engine Displacement']=imputed_value.flatten()"
   ]
  },
  {
   "cell_type": "code",
   "execution_count": 1721,
   "id": "c9d635a8-5bad-46bd-b5db-1d911c80068a",
   "metadata": {},
   "outputs": [
    {
     "data": {
      "text/plain": [
       "np.int64(20)"
      ]
     },
     "execution_count": 1721,
     "metadata": {},
     "output_type": "execute_result"
    }
   ],
   "source": [
    "df['Year of Manufacture'].isnull().sum()"
   ]
  },
  {
   "cell_type": "code",
   "execution_count": 1722,
   "id": "6fba5094-e5d7-4295-8936-c3608f419a12",
   "metadata": {},
   "outputs": [],
   "source": [
    "df['Year of Manufacture']=df['Registration Year'].fillna(df['Year of Manufacture'])   "
   ]
  },
  {
   "cell_type": "code",
   "execution_count": 1723,
   "id": "f97b3636-e3b8-440f-b7ab-f0b627e4e3fa",
   "metadata": {},
   "outputs": [
    {
     "name": "stderr",
     "output_type": "stream",
     "text": [
      "C:\\Users\\anant\\AppData\\Local\\Temp\\ipykernel_13756\\1825715321.py:17: FutureWarning: A value is trying to be set on a copy of a DataFrame or Series through chained assignment using an inplace method.\n",
      "The behavior will change in pandas 3.0. This inplace method will never work because the intermediate object on which we are setting values always behaves as a copy.\n",
      "\n",
      "For example, when doing 'df[col].method(value, inplace=True)', try using 'df.method({col: value}, inplace=True)' or df[col] = df[col].method(value) instead, to perform the operation inplace on the original object.\n",
      "\n",
      "\n",
      "  df[col].fillna(numeric_col.median(), inplace=True)  # Impute with median\n",
      "C:\\Users\\anant\\AppData\\Local\\Temp\\ipykernel_13756\\1825715321.py:17: FutureWarning: A value is trying to be set on a copy of a DataFrame or Series through chained assignment using an inplace method.\n",
      "The behavior will change in pandas 3.0. This inplace method will never work because the intermediate object on which we are setting values always behaves as a copy.\n",
      "\n",
      "For example, when doing 'df[col].method(value, inplace=True)', try using 'df.method({col: value}, inplace=True)' or df[col] = df[col].method(value) instead, to perform the operation inplace on the original object.\n",
      "\n",
      "\n",
      "  df[col].fillna(numeric_col.median(), inplace=True)  # Impute with median\n",
      "C:\\Users\\anant\\AppData\\Local\\Temp\\ipykernel_13756\\1825715321.py:19: FutureWarning: A value is trying to be set on a copy of a DataFrame or Series through chained assignment using an inplace method.\n",
      "The behavior will change in pandas 3.0. This inplace method will never work because the intermediate object on which we are setting values always behaves as a copy.\n",
      "\n",
      "For example, when doing 'df[col].method(value, inplace=True)', try using 'df.method({col: value}, inplace=True)' or df[col] = df[col].method(value) instead, to perform the operation inplace on the original object.\n",
      "\n",
      "\n",
      "  df[col].fillna(numeric_col.mean(), inplace=True)  # Impute with mean\n",
      "C:\\Users\\anant\\AppData\\Local\\Temp\\ipykernel_13756\\1825715321.py:17: FutureWarning: A value is trying to be set on a copy of a DataFrame or Series through chained assignment using an inplace method.\n",
      "The behavior will change in pandas 3.0. This inplace method will never work because the intermediate object on which we are setting values always behaves as a copy.\n",
      "\n",
      "For example, when doing 'df[col].method(value, inplace=True)', try using 'df.method({col: value}, inplace=True)' or df[col] = df[col].method(value) instead, to perform the operation inplace on the original object.\n",
      "\n",
      "\n",
      "  df[col].fillna(numeric_col.median(), inplace=True)  # Impute with median\n",
      "C:\\Users\\anant\\AppData\\Local\\Temp\\ipykernel_13756\\1825715321.py:17: FutureWarning: A value is trying to be set on a copy of a DataFrame or Series through chained assignment using an inplace method.\n",
      "The behavior will change in pandas 3.0. This inplace method will never work because the intermediate object on which we are setting values always behaves as a copy.\n",
      "\n",
      "For example, when doing 'df[col].method(value, inplace=True)', try using 'df.method({col: value}, inplace=True)' or df[col] = df[col].method(value) instead, to perform the operation inplace on the original object.\n",
      "\n",
      "\n",
      "  df[col].fillna(numeric_col.median(), inplace=True)  # Impute with median\n",
      "C:\\Users\\anant\\AppData\\Local\\Temp\\ipykernel_13756\\1825715321.py:17: FutureWarning: A value is trying to be set on a copy of a DataFrame or Series through chained assignment using an inplace method.\n",
      "The behavior will change in pandas 3.0. This inplace method will never work because the intermediate object on which we are setting values always behaves as a copy.\n",
      "\n",
      "For example, when doing 'df[col].method(value, inplace=True)', try using 'df.method({col: value}, inplace=True)' or df[col] = df[col].method(value) instead, to perform the operation inplace on the original object.\n",
      "\n",
      "\n",
      "  df[col].fillna(numeric_col.median(), inplace=True)  # Impute with median\n",
      "C:\\Users\\anant\\AppData\\Local\\Temp\\ipykernel_13756\\1825715321.py:17: FutureWarning: A value is trying to be set on a copy of a DataFrame or Series through chained assignment using an inplace method.\n",
      "The behavior will change in pandas 3.0. This inplace method will never work because the intermediate object on which we are setting values always behaves as a copy.\n",
      "\n",
      "For example, when doing 'df[col].method(value, inplace=True)', try using 'df.method({col: value}, inplace=True)' or df[col] = df[col].method(value) instead, to perform the operation inplace on the original object.\n",
      "\n",
      "\n",
      "  df[col].fillna(numeric_col.median(), inplace=True)  # Impute with median\n",
      "C:\\Users\\anant\\AppData\\Local\\Temp\\ipykernel_13756\\1825715321.py:17: FutureWarning: A value is trying to be set on a copy of a DataFrame or Series through chained assignment using an inplace method.\n",
      "The behavior will change in pandas 3.0. This inplace method will never work because the intermediate object on which we are setting values always behaves as a copy.\n",
      "\n",
      "For example, when doing 'df[col].method(value, inplace=True)', try using 'df.method({col: value}, inplace=True)' or df[col] = df[col].method(value) instead, to perform the operation inplace on the original object.\n",
      "\n",
      "\n",
      "  df[col].fillna(numeric_col.median(), inplace=True)  # Impute with median\n",
      "C:\\Users\\anant\\AppData\\Local\\Temp\\ipykernel_13756\\1825715321.py:17: FutureWarning: A value is trying to be set on a copy of a DataFrame or Series through chained assignment using an inplace method.\n",
      "The behavior will change in pandas 3.0. This inplace method will never work because the intermediate object on which we are setting values always behaves as a copy.\n",
      "\n",
      "For example, when doing 'df[col].method(value, inplace=True)', try using 'df.method({col: value}, inplace=True)' or df[col] = df[col].method(value) instead, to perform the operation inplace on the original object.\n",
      "\n",
      "\n",
      "  df[col].fillna(numeric_col.median(), inplace=True)  # Impute with median\n",
      "C:\\Users\\anant\\AppData\\Local\\Temp\\ipykernel_13756\\1825715321.py:17: FutureWarning: A value is trying to be set on a copy of a DataFrame or Series through chained assignment using an inplace method.\n",
      "The behavior will change in pandas 3.0. This inplace method will never work because the intermediate object on which we are setting values always behaves as a copy.\n",
      "\n",
      "For example, when doing 'df[col].method(value, inplace=True)', try using 'df.method({col: value}, inplace=True)' or df[col] = df[col].method(value) instead, to perform the operation inplace on the original object.\n",
      "\n",
      "\n",
      "  df[col].fillna(numeric_col.median(), inplace=True)  # Impute with median\n",
      "C:\\Users\\anant\\AppData\\Local\\Temp\\ipykernel_13756\\1825715321.py:17: FutureWarning: A value is trying to be set on a copy of a DataFrame or Series through chained assignment using an inplace method.\n",
      "The behavior will change in pandas 3.0. This inplace method will never work because the intermediate object on which we are setting values always behaves as a copy.\n",
      "\n",
      "For example, when doing 'df[col].method(value, inplace=True)', try using 'df.method({col: value}, inplace=True)' or df[col] = df[col].method(value) instead, to perform the operation inplace on the original object.\n",
      "\n",
      "\n",
      "  df[col].fillna(numeric_col.median(), inplace=True)  # Impute with median\n",
      "C:\\Users\\anant\\AppData\\Local\\Temp\\ipykernel_13756\\1825715321.py:17: FutureWarning: A value is trying to be set on a copy of a DataFrame or Series through chained assignment using an inplace method.\n",
      "The behavior will change in pandas 3.0. This inplace method will never work because the intermediate object on which we are setting values always behaves as a copy.\n",
      "\n",
      "For example, when doing 'df[col].method(value, inplace=True)', try using 'df.method({col: value}, inplace=True)' or df[col] = df[col].method(value) instead, to perform the operation inplace on the original object.\n",
      "\n",
      "\n",
      "  df[col].fillna(numeric_col.median(), inplace=True)  # Impute with median\n",
      "C:\\Users\\anant\\AppData\\Local\\Temp\\ipykernel_13756\\1825715321.py:17: FutureWarning: A value is trying to be set on a copy of a DataFrame or Series through chained assignment using an inplace method.\n",
      "The behavior will change in pandas 3.0. This inplace method will never work because the intermediate object on which we are setting values always behaves as a copy.\n",
      "\n",
      "For example, when doing 'df[col].method(value, inplace=True)', try using 'df.method({col: value}, inplace=True)' or df[col] = df[col].method(value) instead, to perform the operation inplace on the original object.\n",
      "\n",
      "\n",
      "  df[col].fillna(numeric_col.median(), inplace=True)  # Impute with median\n",
      "C:\\Users\\anant\\AppData\\Local\\Temp\\ipykernel_13756\\1825715321.py:17: FutureWarning: A value is trying to be set on a copy of a DataFrame or Series through chained assignment using an inplace method.\n",
      "The behavior will change in pandas 3.0. This inplace method will never work because the intermediate object on which we are setting values always behaves as a copy.\n",
      "\n",
      "For example, when doing 'df[col].method(value, inplace=True)', try using 'df.method({col: value}, inplace=True)' or df[col] = df[col].method(value) instead, to perform the operation inplace on the original object.\n",
      "\n",
      "\n",
      "  df[col].fillna(numeric_col.median(), inplace=True)  # Impute with median\n",
      "C:\\Users\\anant\\AppData\\Local\\Temp\\ipykernel_13756\\1825715321.py:17: FutureWarning: A value is trying to be set on a copy of a DataFrame or Series through chained assignment using an inplace method.\n",
      "The behavior will change in pandas 3.0. This inplace method will never work because the intermediate object on which we are setting values always behaves as a copy.\n",
      "\n",
      "For example, when doing 'df[col].method(value, inplace=True)', try using 'df.method({col: value}, inplace=True)' or df[col] = df[col].method(value) instead, to perform the operation inplace on the original object.\n",
      "\n",
      "\n",
      "  df[col].fillna(numeric_col.median(), inplace=True)  # Impute with median\n",
      "C:\\Users\\anant\\AppData\\Local\\Temp\\ipykernel_13756\\1825715321.py:17: FutureWarning: A value is trying to be set on a copy of a DataFrame or Series through chained assignment using an inplace method.\n",
      "The behavior will change in pandas 3.0. This inplace method will never work because the intermediate object on which we are setting values always behaves as a copy.\n",
      "\n",
      "For example, when doing 'df[col].method(value, inplace=True)', try using 'df.method({col: value}, inplace=True)' or df[col] = df[col].method(value) instead, to perform the operation inplace on the original object.\n",
      "\n",
      "\n",
      "  df[col].fillna(numeric_col.median(), inplace=True)  # Impute with median\n",
      "C:\\Users\\anant\\AppData\\Local\\Temp\\ipykernel_13756\\1825715321.py:17: FutureWarning: A value is trying to be set on a copy of a DataFrame or Series through chained assignment using an inplace method.\n",
      "The behavior will change in pandas 3.0. This inplace method will never work because the intermediate object on which we are setting values always behaves as a copy.\n",
      "\n",
      "For example, when doing 'df[col].method(value, inplace=True)', try using 'df.method({col: value}, inplace=True)' or df[col] = df[col].method(value) instead, to perform the operation inplace on the original object.\n",
      "\n",
      "\n",
      "  df[col].fillna(numeric_col.median(), inplace=True)  # Impute with median\n",
      "C:\\Users\\anant\\AppData\\Local\\Temp\\ipykernel_13756\\1825715321.py:17: FutureWarning: A value is trying to be set on a copy of a DataFrame or Series through chained assignment using an inplace method.\n",
      "The behavior will change in pandas 3.0. This inplace method will never work because the intermediate object on which we are setting values always behaves as a copy.\n",
      "\n",
      "For example, when doing 'df[col].method(value, inplace=True)', try using 'df.method({col: value}, inplace=True)' or df[col] = df[col].method(value) instead, to perform the operation inplace on the original object.\n",
      "\n",
      "\n",
      "  df[col].fillna(numeric_col.median(), inplace=True)  # Impute with median\n",
      "C:\\Users\\anant\\AppData\\Local\\Temp\\ipykernel_13756\\1825715321.py:19: FutureWarning: A value is trying to be set on a copy of a DataFrame or Series through chained assignment using an inplace method.\n",
      "The behavior will change in pandas 3.0. This inplace method will never work because the intermediate object on which we are setting values always behaves as a copy.\n",
      "\n",
      "For example, when doing 'df[col].method(value, inplace=True)', try using 'df.method({col: value}, inplace=True)' or df[col] = df[col].method(value) instead, to perform the operation inplace on the original object.\n",
      "\n",
      "\n",
      "  df[col].fillna(numeric_col.mean(), inplace=True)  # Impute with mean\n",
      "C:\\Users\\anant\\AppData\\Local\\Temp\\ipykernel_13756\\1825715321.py:17: FutureWarning: A value is trying to be set on a copy of a DataFrame or Series through chained assignment using an inplace method.\n",
      "The behavior will change in pandas 3.0. This inplace method will never work because the intermediate object on which we are setting values always behaves as a copy.\n",
      "\n",
      "For example, when doing 'df[col].method(value, inplace=True)', try using 'df.method({col: value}, inplace=True)' or df[col] = df[col].method(value) instead, to perform the operation inplace on the original object.\n",
      "\n",
      "\n",
      "  df[col].fillna(numeric_col.median(), inplace=True)  # Impute with median\n",
      "C:\\Users\\anant\\AppData\\Local\\Temp\\ipykernel_13756\\1825715321.py:17: FutureWarning: A value is trying to be set on a copy of a DataFrame or Series through chained assignment using an inplace method.\n",
      "The behavior will change in pandas 3.0. This inplace method will never work because the intermediate object on which we are setting values always behaves as a copy.\n",
      "\n",
      "For example, when doing 'df[col].method(value, inplace=True)', try using 'df.method({col: value}, inplace=True)' or df[col] = df[col].method(value) instead, to perform the operation inplace on the original object.\n",
      "\n",
      "\n",
      "  df[col].fillna(numeric_col.median(), inplace=True)  # Impute with median\n",
      "C:\\Users\\anant\\AppData\\Local\\Temp\\ipykernel_13756\\1825715321.py:17: FutureWarning: A value is trying to be set on a copy of a DataFrame or Series through chained assignment using an inplace method.\n",
      "The behavior will change in pandas 3.0. This inplace method will never work because the intermediate object on which we are setting values always behaves as a copy.\n",
      "\n",
      "For example, when doing 'df[col].method(value, inplace=True)', try using 'df.method({col: value}, inplace=True)' or df[col] = df[col].method(value) instead, to perform the operation inplace on the original object.\n",
      "\n",
      "\n",
      "  df[col].fillna(numeric_col.median(), inplace=True)  # Impute with median\n",
      "C:\\Users\\anant\\AppData\\Local\\Temp\\ipykernel_13756\\1825715321.py:17: FutureWarning: A value is trying to be set on a copy of a DataFrame or Series through chained assignment using an inplace method.\n",
      "The behavior will change in pandas 3.0. This inplace method will never work because the intermediate object on which we are setting values always behaves as a copy.\n",
      "\n",
      "For example, when doing 'df[col].method(value, inplace=True)', try using 'df.method({col: value}, inplace=True)' or df[col] = df[col].method(value) instead, to perform the operation inplace on the original object.\n",
      "\n",
      "\n",
      "  df[col].fillna(numeric_col.median(), inplace=True)  # Impute with median\n",
      "C:\\Users\\anant\\AppData\\Local\\Temp\\ipykernel_13756\\1825715321.py:17: FutureWarning: A value is trying to be set on a copy of a DataFrame or Series through chained assignment using an inplace method.\n",
      "The behavior will change in pandas 3.0. This inplace method will never work because the intermediate object on which we are setting values always behaves as a copy.\n",
      "\n",
      "For example, when doing 'df[col].method(value, inplace=True)', try using 'df.method({col: value}, inplace=True)' or df[col] = df[col].method(value) instead, to perform the operation inplace on the original object.\n",
      "\n",
      "\n",
      "  df[col].fillna(numeric_col.median(), inplace=True)  # Impute with median\n",
      "C:\\Users\\anant\\AppData\\Local\\Temp\\ipykernel_13756\\1825715321.py:17: FutureWarning: A value is trying to be set on a copy of a DataFrame or Series through chained assignment using an inplace method.\n",
      "The behavior will change in pandas 3.0. This inplace method will never work because the intermediate object on which we are setting values always behaves as a copy.\n",
      "\n",
      "For example, when doing 'df[col].method(value, inplace=True)', try using 'df.method({col: value}, inplace=True)' or df[col] = df[col].method(value) instead, to perform the operation inplace on the original object.\n",
      "\n",
      "\n",
      "  df[col].fillna(numeric_col.median(), inplace=True)  # Impute with median\n",
      "C:\\Users\\anant\\AppData\\Local\\Temp\\ipykernel_13756\\1825715321.py:17: FutureWarning: A value is trying to be set on a copy of a DataFrame or Series through chained assignment using an inplace method.\n",
      "The behavior will change in pandas 3.0. This inplace method will never work because the intermediate object on which we are setting values always behaves as a copy.\n",
      "\n",
      "For example, when doing 'df[col].method(value, inplace=True)', try using 'df.method({col: value}, inplace=True)' or df[col] = df[col].method(value) instead, to perform the operation inplace on the original object.\n",
      "\n",
      "\n",
      "  df[col].fillna(numeric_col.median(), inplace=True)  # Impute with median\n",
      "C:\\Users\\anant\\AppData\\Local\\Temp\\ipykernel_13756\\1825715321.py:17: FutureWarning: A value is trying to be set on a copy of a DataFrame or Series through chained assignment using an inplace method.\n",
      "The behavior will change in pandas 3.0. This inplace method will never work because the intermediate object on which we are setting values always behaves as a copy.\n",
      "\n",
      "For example, when doing 'df[col].method(value, inplace=True)', try using 'df.method({col: value}, inplace=True)' or df[col] = df[col].method(value) instead, to perform the operation inplace on the original object.\n",
      "\n",
      "\n",
      "  df[col].fillna(numeric_col.median(), inplace=True)  # Impute with median\n",
      "C:\\Users\\anant\\AppData\\Local\\Temp\\ipykernel_13756\\1825715321.py:17: FutureWarning: A value is trying to be set on a copy of a DataFrame or Series through chained assignment using an inplace method.\n",
      "The behavior will change in pandas 3.0. This inplace method will never work because the intermediate object on which we are setting values always behaves as a copy.\n",
      "\n",
      "For example, when doing 'df[col].method(value, inplace=True)', try using 'df.method({col: value}, inplace=True)' or df[col] = df[col].method(value) instead, to perform the operation inplace on the original object.\n",
      "\n",
      "\n",
      "  df[col].fillna(numeric_col.median(), inplace=True)  # Impute with median\n",
      "C:\\Users\\anant\\AppData\\Local\\Temp\\ipykernel_13756\\1825715321.py:17: FutureWarning: A value is trying to be set on a copy of a DataFrame or Series through chained assignment using an inplace method.\n",
      "The behavior will change in pandas 3.0. This inplace method will never work because the intermediate object on which we are setting values always behaves as a copy.\n",
      "\n",
      "For example, when doing 'df[col].method(value, inplace=True)', try using 'df.method({col: value}, inplace=True)' or df[col] = df[col].method(value) instead, to perform the operation inplace on the original object.\n",
      "\n",
      "\n",
      "  df[col].fillna(numeric_col.median(), inplace=True)  # Impute with median\n",
      "C:\\Users\\anant\\AppData\\Local\\Temp\\ipykernel_13756\\1825715321.py:17: FutureWarning: A value is trying to be set on a copy of a DataFrame or Series through chained assignment using an inplace method.\n",
      "The behavior will change in pandas 3.0. This inplace method will never work because the intermediate object on which we are setting values always behaves as a copy.\n",
      "\n",
      "For example, when doing 'df[col].method(value, inplace=True)', try using 'df.method({col: value}, inplace=True)' or df[col] = df[col].method(value) instead, to perform the operation inplace on the original object.\n",
      "\n",
      "\n",
      "  df[col].fillna(numeric_col.median(), inplace=True)  # Impute with median\n",
      "C:\\Users\\anant\\AppData\\Local\\Temp\\ipykernel_13756\\1825715321.py:17: FutureWarning: A value is trying to be set on a copy of a DataFrame or Series through chained assignment using an inplace method.\n",
      "The behavior will change in pandas 3.0. This inplace method will never work because the intermediate object on which we are setting values always behaves as a copy.\n",
      "\n",
      "For example, when doing 'df[col].method(value, inplace=True)', try using 'df.method({col: value}, inplace=True)' or df[col] = df[col].method(value) instead, to perform the operation inplace on the original object.\n",
      "\n",
      "\n",
      "  df[col].fillna(numeric_col.median(), inplace=True)  # Impute with median\n",
      "C:\\Users\\anant\\AppData\\Local\\Temp\\ipykernel_13756\\1825715321.py:17: FutureWarning: A value is trying to be set on a copy of a DataFrame or Series through chained assignment using an inplace method.\n",
      "The behavior will change in pandas 3.0. This inplace method will never work because the intermediate object on which we are setting values always behaves as a copy.\n",
      "\n",
      "For example, when doing 'df[col].method(value, inplace=True)', try using 'df.method({col: value}, inplace=True)' or df[col] = df[col].method(value) instead, to perform the operation inplace on the original object.\n",
      "\n",
      "\n",
      "  df[col].fillna(numeric_col.median(), inplace=True)  # Impute with median\n",
      "C:\\Users\\anant\\AppData\\Local\\Temp\\ipykernel_13756\\1825715321.py:19: FutureWarning: A value is trying to be set on a copy of a DataFrame or Series through chained assignment using an inplace method.\n",
      "The behavior will change in pandas 3.0. This inplace method will never work because the intermediate object on which we are setting values always behaves as a copy.\n",
      "\n",
      "For example, when doing 'df[col].method(value, inplace=True)', try using 'df.method({col: value}, inplace=True)' or df[col] = df[col].method(value) instead, to perform the operation inplace on the original object.\n",
      "\n",
      "\n",
      "  df[col].fillna(numeric_col.mean(), inplace=True)  # Impute with mean\n",
      "C:\\Users\\anant\\AppData\\Local\\Temp\\ipykernel_13756\\1825715321.py:17: FutureWarning: A value is trying to be set on a copy of a DataFrame or Series through chained assignment using an inplace method.\n",
      "The behavior will change in pandas 3.0. This inplace method will never work because the intermediate object on which we are setting values always behaves as a copy.\n",
      "\n",
      "For example, when doing 'df[col].method(value, inplace=True)', try using 'df.method({col: value}, inplace=True)' or df[col] = df[col].method(value) instead, to perform the operation inplace on the original object.\n",
      "\n",
      "\n",
      "  df[col].fillna(numeric_col.median(), inplace=True)  # Impute with median\n",
      "C:\\Users\\anant\\AppData\\Local\\Temp\\ipykernel_13756\\1825715321.py:17: FutureWarning: A value is trying to be set on a copy of a DataFrame or Series through chained assignment using an inplace method.\n",
      "The behavior will change in pandas 3.0. This inplace method will never work because the intermediate object on which we are setting values always behaves as a copy.\n",
      "\n",
      "For example, when doing 'df[col].method(value, inplace=True)', try using 'df.method({col: value}, inplace=True)' or df[col] = df[col].method(value) instead, to perform the operation inplace on the original object.\n",
      "\n",
      "\n",
      "  df[col].fillna(numeric_col.median(), inplace=True)  # Impute with median\n",
      "C:\\Users\\anant\\AppData\\Local\\Temp\\ipykernel_13756\\1825715321.py:17: FutureWarning: A value is trying to be set on a copy of a DataFrame or Series through chained assignment using an inplace method.\n",
      "The behavior will change in pandas 3.0. This inplace method will never work because the intermediate object on which we are setting values always behaves as a copy.\n",
      "\n",
      "For example, when doing 'df[col].method(value, inplace=True)', try using 'df.method({col: value}, inplace=True)' or df[col] = df[col].method(value) instead, to perform the operation inplace on the original object.\n",
      "\n",
      "\n",
      "  df[col].fillna(numeric_col.median(), inplace=True)  # Impute with median\n",
      "C:\\Users\\anant\\AppData\\Local\\Temp\\ipykernel_13756\\1825715321.py:17: FutureWarning: A value is trying to be set on a copy of a DataFrame or Series through chained assignment using an inplace method.\n",
      "The behavior will change in pandas 3.0. This inplace method will never work because the intermediate object on which we are setting values always behaves as a copy.\n",
      "\n",
      "For example, when doing 'df[col].method(value, inplace=True)', try using 'df.method({col: value}, inplace=True)' or df[col] = df[col].method(value) instead, to perform the operation inplace on the original object.\n",
      "\n",
      "\n",
      "  df[col].fillna(numeric_col.median(), inplace=True)  # Impute with median\n",
      "C:\\Users\\anant\\AppData\\Local\\Temp\\ipykernel_13756\\1825715321.py:17: FutureWarning: A value is trying to be set on a copy of a DataFrame or Series through chained assignment using an inplace method.\n",
      "The behavior will change in pandas 3.0. This inplace method will never work because the intermediate object on which we are setting values always behaves as a copy.\n",
      "\n",
      "For example, when doing 'df[col].method(value, inplace=True)', try using 'df.method({col: value}, inplace=True)' or df[col] = df[col].method(value) instead, to perform the operation inplace on the original object.\n",
      "\n",
      "\n",
      "  df[col].fillna(numeric_col.median(), inplace=True)  # Impute with median\n",
      "C:\\Users\\anant\\AppData\\Local\\Temp\\ipykernel_13756\\1825715321.py:17: FutureWarning: A value is trying to be set on a copy of a DataFrame or Series through chained assignment using an inplace method.\n",
      "The behavior will change in pandas 3.0. This inplace method will never work because the intermediate object on which we are setting values always behaves as a copy.\n",
      "\n",
      "For example, when doing 'df[col].method(value, inplace=True)', try using 'df.method({col: value}, inplace=True)' or df[col] = df[col].method(value) instead, to perform the operation inplace on the original object.\n",
      "\n",
      "\n",
      "  df[col].fillna(numeric_col.median(), inplace=True)  # Impute with median\n",
      "C:\\Users\\anant\\AppData\\Local\\Temp\\ipykernel_13756\\1825715321.py:17: FutureWarning: A value is trying to be set on a copy of a DataFrame or Series through chained assignment using an inplace method.\n",
      "The behavior will change in pandas 3.0. This inplace method will never work because the intermediate object on which we are setting values always behaves as a copy.\n",
      "\n",
      "For example, when doing 'df[col].method(value, inplace=True)', try using 'df.method({col: value}, inplace=True)' or df[col] = df[col].method(value) instead, to perform the operation inplace on the original object.\n",
      "\n",
      "\n",
      "  df[col].fillna(numeric_col.median(), inplace=True)  # Impute with median\n",
      "C:\\Users\\anant\\AppData\\Local\\Temp\\ipykernel_13756\\1825715321.py:17: FutureWarning: A value is trying to be set on a copy of a DataFrame or Series through chained assignment using an inplace method.\n",
      "The behavior will change in pandas 3.0. This inplace method will never work because the intermediate object on which we are setting values always behaves as a copy.\n",
      "\n",
      "For example, when doing 'df[col].method(value, inplace=True)', try using 'df.method({col: value}, inplace=True)' or df[col] = df[col].method(value) instead, to perform the operation inplace on the original object.\n",
      "\n",
      "\n",
      "  df[col].fillna(numeric_col.median(), inplace=True)  # Impute with median\n",
      "C:\\Users\\anant\\AppData\\Local\\Temp\\ipykernel_13756\\1825715321.py:19: FutureWarning: A value is trying to be set on a copy of a DataFrame or Series through chained assignment using an inplace method.\n",
      "The behavior will change in pandas 3.0. This inplace method will never work because the intermediate object on which we are setting values always behaves as a copy.\n",
      "\n",
      "For example, when doing 'df[col].method(value, inplace=True)', try using 'df.method({col: value}, inplace=True)' or df[col] = df[col].method(value) instead, to perform the operation inplace on the original object.\n",
      "\n",
      "\n",
      "  df[col].fillna(numeric_col.mean(), inplace=True)  # Impute with mean\n",
      "C:\\Users\\anant\\AppData\\Local\\Temp\\ipykernel_13756\\1825715321.py:17: FutureWarning: A value is trying to be set on a copy of a DataFrame or Series through chained assignment using an inplace method.\n",
      "The behavior will change in pandas 3.0. This inplace method will never work because the intermediate object on which we are setting values always behaves as a copy.\n",
      "\n",
      "For example, when doing 'df[col].method(value, inplace=True)', try using 'df.method({col: value}, inplace=True)' or df[col] = df[col].method(value) instead, to perform the operation inplace on the original object.\n",
      "\n",
      "\n",
      "  df[col].fillna(numeric_col.median(), inplace=True)  # Impute with median\n",
      "C:\\Users\\anant\\AppData\\Local\\Temp\\ipykernel_13756\\1825715321.py:19: FutureWarning: A value is trying to be set on a copy of a DataFrame or Series through chained assignment using an inplace method.\n",
      "The behavior will change in pandas 3.0. This inplace method will never work because the intermediate object on which we are setting values always behaves as a copy.\n",
      "\n",
      "For example, when doing 'df[col].method(value, inplace=True)', try using 'df.method({col: value}, inplace=True)' or df[col] = df[col].method(value) instead, to perform the operation inplace on the original object.\n",
      "\n",
      "\n",
      "  df[col].fillna(numeric_col.mean(), inplace=True)  # Impute with mean\n",
      "C:\\Users\\anant\\AppData\\Local\\Temp\\ipykernel_13756\\1825715321.py:17: FutureWarning: A value is trying to be set on a copy of a DataFrame or Series through chained assignment using an inplace method.\n",
      "The behavior will change in pandas 3.0. This inplace method will never work because the intermediate object on which we are setting values always behaves as a copy.\n",
      "\n",
      "For example, when doing 'df[col].method(value, inplace=True)', try using 'df.method({col: value}, inplace=True)' or df[col] = df[col].method(value) instead, to perform the operation inplace on the original object.\n",
      "\n",
      "\n",
      "  df[col].fillna(numeric_col.median(), inplace=True)  # Impute with median\n",
      "C:\\Users\\anant\\AppData\\Local\\Temp\\ipykernel_13756\\1825715321.py:17: FutureWarning: A value is trying to be set on a copy of a DataFrame or Series through chained assignment using an inplace method.\n",
      "The behavior will change in pandas 3.0. This inplace method will never work because the intermediate object on which we are setting values always behaves as a copy.\n",
      "\n",
      "For example, when doing 'df[col].method(value, inplace=True)', try using 'df.method({col: value}, inplace=True)' or df[col] = df[col].method(value) instead, to perform the operation inplace on the original object.\n",
      "\n",
      "\n",
      "  df[col].fillna(numeric_col.median(), inplace=True)  # Impute with median\n",
      "C:\\Users\\anant\\AppData\\Local\\Temp\\ipykernel_13756\\1825715321.py:19: FutureWarning: A value is trying to be set on a copy of a DataFrame or Series through chained assignment using an inplace method.\n",
      "The behavior will change in pandas 3.0. This inplace method will never work because the intermediate object on which we are setting values always behaves as a copy.\n",
      "\n",
      "For example, when doing 'df[col].method(value, inplace=True)', try using 'df.method({col: value}, inplace=True)' or df[col] = df[col].method(value) instead, to perform the operation inplace on the original object.\n",
      "\n",
      "\n",
      "  df[col].fillna(numeric_col.mean(), inplace=True)  # Impute with mean\n",
      "C:\\Users\\anant\\AppData\\Local\\Temp\\ipykernel_13756\\1825715321.py:17: FutureWarning: A value is trying to be set on a copy of a DataFrame or Series through chained assignment using an inplace method.\n",
      "The behavior will change in pandas 3.0. This inplace method will never work because the intermediate object on which we are setting values always behaves as a copy.\n",
      "\n",
      "For example, when doing 'df[col].method(value, inplace=True)', try using 'df.method({col: value}, inplace=True)' or df[col] = df[col].method(value) instead, to perform the operation inplace on the original object.\n",
      "\n",
      "\n",
      "  df[col].fillna(numeric_col.median(), inplace=True)  # Impute with median\n",
      "C:\\Users\\anant\\AppData\\Local\\Temp\\ipykernel_13756\\1825715321.py:17: FutureWarning: A value is trying to be set on a copy of a DataFrame or Series through chained assignment using an inplace method.\n",
      "The behavior will change in pandas 3.0. This inplace method will never work because the intermediate object on which we are setting values always behaves as a copy.\n",
      "\n",
      "For example, when doing 'df[col].method(value, inplace=True)', try using 'df.method({col: value}, inplace=True)' or df[col] = df[col].method(value) instead, to perform the operation inplace on the original object.\n",
      "\n",
      "\n",
      "  df[col].fillna(numeric_col.median(), inplace=True)  # Impute with median\n",
      "C:\\Users\\anant\\AppData\\Local\\Temp\\ipykernel_13756\\1825715321.py:19: FutureWarning: A value is trying to be set on a copy of a DataFrame or Series through chained assignment using an inplace method.\n",
      "The behavior will change in pandas 3.0. This inplace method will never work because the intermediate object on which we are setting values always behaves as a copy.\n",
      "\n",
      "For example, when doing 'df[col].method(value, inplace=True)', try using 'df.method({col: value}, inplace=True)' or df[col] = df[col].method(value) instead, to perform the operation inplace on the original object.\n",
      "\n",
      "\n",
      "  df[col].fillna(numeric_col.mean(), inplace=True)  # Impute with mean\n",
      "C:\\Users\\anant\\AppData\\Local\\Temp\\ipykernel_13756\\1825715321.py:17: FutureWarning: A value is trying to be set on a copy of a DataFrame or Series through chained assignment using an inplace method.\n",
      "The behavior will change in pandas 3.0. This inplace method will never work because the intermediate object on which we are setting values always behaves as a copy.\n",
      "\n",
      "For example, when doing 'df[col].method(value, inplace=True)', try using 'df.method({col: value}, inplace=True)' or df[col] = df[col].method(value) instead, to perform the operation inplace on the original object.\n",
      "\n",
      "\n",
      "  df[col].fillna(numeric_col.median(), inplace=True)  # Impute with median\n",
      "C:\\Users\\anant\\AppData\\Local\\Temp\\ipykernel_13756\\1825715321.py:17: FutureWarning: A value is trying to be set on a copy of a DataFrame or Series through chained assignment using an inplace method.\n",
      "The behavior will change in pandas 3.0. This inplace method will never work because the intermediate object on which we are setting values always behaves as a copy.\n",
      "\n",
      "For example, when doing 'df[col].method(value, inplace=True)', try using 'df.method({col: value}, inplace=True)' or df[col] = df[col].method(value) instead, to perform the operation inplace on the original object.\n",
      "\n",
      "\n",
      "  df[col].fillna(numeric_col.median(), inplace=True)  # Impute with median\n",
      "C:\\Users\\anant\\AppData\\Local\\Temp\\ipykernel_13756\\1825715321.py:17: FutureWarning: A value is trying to be set on a copy of a DataFrame or Series through chained assignment using an inplace method.\n",
      "The behavior will change in pandas 3.0. This inplace method will never work because the intermediate object on which we are setting values always behaves as a copy.\n",
      "\n",
      "For example, when doing 'df[col].method(value, inplace=True)', try using 'df.method({col: value}, inplace=True)' or df[col] = df[col].method(value) instead, to perform the operation inplace on the original object.\n",
      "\n",
      "\n",
      "  df[col].fillna(numeric_col.median(), inplace=True)  # Impute with median\n",
      "C:\\Users\\anant\\AppData\\Local\\Temp\\ipykernel_13756\\1825715321.py:17: FutureWarning: A value is trying to be set on a copy of a DataFrame or Series through chained assignment using an inplace method.\n",
      "The behavior will change in pandas 3.0. This inplace method will never work because the intermediate object on which we are setting values always behaves as a copy.\n",
      "\n",
      "For example, when doing 'df[col].method(value, inplace=True)', try using 'df.method({col: value}, inplace=True)' or df[col] = df[col].method(value) instead, to perform the operation inplace on the original object.\n",
      "\n",
      "\n",
      "  df[col].fillna(numeric_col.median(), inplace=True)  # Impute with median\n",
      "C:\\Users\\anant\\AppData\\Local\\Temp\\ipykernel_13756\\1825715321.py:17: FutureWarning: A value is trying to be set on a copy of a DataFrame or Series through chained assignment using an inplace method.\n",
      "The behavior will change in pandas 3.0. This inplace method will never work because the intermediate object on which we are setting values always behaves as a copy.\n",
      "\n",
      "For example, when doing 'df[col].method(value, inplace=True)', try using 'df.method({col: value}, inplace=True)' or df[col] = df[col].method(value) instead, to perform the operation inplace on the original object.\n",
      "\n",
      "\n",
      "  df[col].fillna(numeric_col.median(), inplace=True)  # Impute with median\n",
      "C:\\Users\\anant\\AppData\\Local\\Temp\\ipykernel_13756\\1825715321.py:17: FutureWarning: A value is trying to be set on a copy of a DataFrame or Series through chained assignment using an inplace method.\n",
      "The behavior will change in pandas 3.0. This inplace method will never work because the intermediate object on which we are setting values always behaves as a copy.\n",
      "\n",
      "For example, when doing 'df[col].method(value, inplace=True)', try using 'df.method({col: value}, inplace=True)' or df[col] = df[col].method(value) instead, to perform the operation inplace on the original object.\n",
      "\n",
      "\n",
      "  df[col].fillna(numeric_col.median(), inplace=True)  # Impute with median\n",
      "C:\\Users\\anant\\AppData\\Local\\Temp\\ipykernel_13756\\1825715321.py:17: FutureWarning: A value is trying to be set on a copy of a DataFrame or Series through chained assignment using an inplace method.\n",
      "The behavior will change in pandas 3.0. This inplace method will never work because the intermediate object on which we are setting values always behaves as a copy.\n",
      "\n",
      "For example, when doing 'df[col].method(value, inplace=True)', try using 'df.method({col: value}, inplace=True)' or df[col] = df[col].method(value) instead, to perform the operation inplace on the original object.\n",
      "\n",
      "\n",
      "  df[col].fillna(numeric_col.median(), inplace=True)  # Impute with median\n",
      "C:\\Users\\anant\\AppData\\Local\\Temp\\ipykernel_13756\\1825715321.py:17: FutureWarning: A value is trying to be set on a copy of a DataFrame or Series through chained assignment using an inplace method.\n",
      "The behavior will change in pandas 3.0. This inplace method will never work because the intermediate object on which we are setting values always behaves as a copy.\n",
      "\n",
      "For example, when doing 'df[col].method(value, inplace=True)', try using 'df.method({col: value}, inplace=True)' or df[col] = df[col].method(value) instead, to perform the operation inplace on the original object.\n",
      "\n",
      "\n",
      "  df[col].fillna(numeric_col.median(), inplace=True)  # Impute with median\n",
      "C:\\Users\\anant\\AppData\\Local\\Temp\\ipykernel_13756\\1825715321.py:17: FutureWarning: A value is trying to be set on a copy of a DataFrame or Series through chained assignment using an inplace method.\n",
      "The behavior will change in pandas 3.0. This inplace method will never work because the intermediate object on which we are setting values always behaves as a copy.\n",
      "\n",
      "For example, when doing 'df[col].method(value, inplace=True)', try using 'df.method({col: value}, inplace=True)' or df[col] = df[col].method(value) instead, to perform the operation inplace on the original object.\n",
      "\n",
      "\n",
      "  df[col].fillna(numeric_col.median(), inplace=True)  # Impute with median\n",
      "C:\\Users\\anant\\AppData\\Local\\Temp\\ipykernel_13756\\1825715321.py:17: FutureWarning: A value is trying to be set on a copy of a DataFrame or Series through chained assignment using an inplace method.\n",
      "The behavior will change in pandas 3.0. This inplace method will never work because the intermediate object on which we are setting values always behaves as a copy.\n",
      "\n",
      "For example, when doing 'df[col].method(value, inplace=True)', try using 'df.method({col: value}, inplace=True)' or df[col] = df[col].method(value) instead, to perform the operation inplace on the original object.\n",
      "\n",
      "\n",
      "  df[col].fillna(numeric_col.median(), inplace=True)  # Impute with median\n",
      "C:\\Users\\anant\\AppData\\Local\\Temp\\ipykernel_13756\\1825715321.py:17: FutureWarning: A value is trying to be set on a copy of a DataFrame or Series through chained assignment using an inplace method.\n",
      "The behavior will change in pandas 3.0. This inplace method will never work because the intermediate object on which we are setting values always behaves as a copy.\n",
      "\n",
      "For example, when doing 'df[col].method(value, inplace=True)', try using 'df.method({col: value}, inplace=True)' or df[col] = df[col].method(value) instead, to perform the operation inplace on the original object.\n",
      "\n",
      "\n",
      "  df[col].fillna(numeric_col.median(), inplace=True)  # Impute with median\n",
      "C:\\Users\\anant\\AppData\\Local\\Temp\\ipykernel_13756\\1825715321.py:17: FutureWarning: A value is trying to be set on a copy of a DataFrame or Series through chained assignment using an inplace method.\n",
      "The behavior will change in pandas 3.0. This inplace method will never work because the intermediate object on which we are setting values always behaves as a copy.\n",
      "\n",
      "For example, when doing 'df[col].method(value, inplace=True)', try using 'df.method({col: value}, inplace=True)' or df[col] = df[col].method(value) instead, to perform the operation inplace on the original object.\n",
      "\n",
      "\n",
      "  df[col].fillna(numeric_col.median(), inplace=True)  # Impute with median\n",
      "C:\\Users\\anant\\AppData\\Local\\Temp\\ipykernel_13756\\1825715321.py:19: FutureWarning: A value is trying to be set on a copy of a DataFrame or Series through chained assignment using an inplace method.\n",
      "The behavior will change in pandas 3.0. This inplace method will never work because the intermediate object on which we are setting values always behaves as a copy.\n",
      "\n",
      "For example, when doing 'df[col].method(value, inplace=True)', try using 'df.method({col: value}, inplace=True)' or df[col] = df[col].method(value) instead, to perform the operation inplace on the original object.\n",
      "\n",
      "\n",
      "  df[col].fillna(numeric_col.mean(), inplace=True)  # Impute with mean\n",
      "C:\\Users\\anant\\AppData\\Local\\Temp\\ipykernel_13756\\1825715321.py:17: FutureWarning: A value is trying to be set on a copy of a DataFrame or Series through chained assignment using an inplace method.\n",
      "The behavior will change in pandas 3.0. This inplace method will never work because the intermediate object on which we are setting values always behaves as a copy.\n",
      "\n",
      "For example, when doing 'df[col].method(value, inplace=True)', try using 'df.method({col: value}, inplace=True)' or df[col] = df[col].method(value) instead, to perform the operation inplace on the original object.\n",
      "\n",
      "\n",
      "  df[col].fillna(numeric_col.median(), inplace=True)  # Impute with median\n",
      "C:\\Users\\anant\\AppData\\Local\\Temp\\ipykernel_13756\\1825715321.py:17: FutureWarning: A value is trying to be set on a copy of a DataFrame or Series through chained assignment using an inplace method.\n",
      "The behavior will change in pandas 3.0. This inplace method will never work because the intermediate object on which we are setting values always behaves as a copy.\n",
      "\n",
      "For example, when doing 'df[col].method(value, inplace=True)', try using 'df.method({col: value}, inplace=True)' or df[col] = df[col].method(value) instead, to perform the operation inplace on the original object.\n",
      "\n",
      "\n",
      "  df[col].fillna(numeric_col.median(), inplace=True)  # Impute with median\n",
      "C:\\Users\\anant\\AppData\\Local\\Temp\\ipykernel_13756\\1825715321.py:17: FutureWarning: A value is trying to be set on a copy of a DataFrame or Series through chained assignment using an inplace method.\n",
      "The behavior will change in pandas 3.0. This inplace method will never work because the intermediate object on which we are setting values always behaves as a copy.\n",
      "\n",
      "For example, when doing 'df[col].method(value, inplace=True)', try using 'df.method({col: value}, inplace=True)' or df[col] = df[col].method(value) instead, to perform the operation inplace on the original object.\n",
      "\n",
      "\n",
      "  df[col].fillna(numeric_col.median(), inplace=True)  # Impute with median\n",
      "C:\\Users\\anant\\AppData\\Local\\Temp\\ipykernel_13756\\1825715321.py:19: FutureWarning: A value is trying to be set on a copy of a DataFrame or Series through chained assignment using an inplace method.\n",
      "The behavior will change in pandas 3.0. This inplace method will never work because the intermediate object on which we are setting values always behaves as a copy.\n",
      "\n",
      "For example, when doing 'df[col].method(value, inplace=True)', try using 'df.method({col: value}, inplace=True)' or df[col] = df[col].method(value) instead, to perform the operation inplace on the original object.\n",
      "\n",
      "\n",
      "  df[col].fillna(numeric_col.mean(), inplace=True)  # Impute with mean\n",
      "C:\\Users\\anant\\AppData\\Local\\Temp\\ipykernel_13756\\1825715321.py:17: FutureWarning: A value is trying to be set on a copy of a DataFrame or Series through chained assignment using an inplace method.\n",
      "The behavior will change in pandas 3.0. This inplace method will never work because the intermediate object on which we are setting values always behaves as a copy.\n",
      "\n",
      "For example, when doing 'df[col].method(value, inplace=True)', try using 'df.method({col: value}, inplace=True)' or df[col] = df[col].method(value) instead, to perform the operation inplace on the original object.\n",
      "\n",
      "\n",
      "  df[col].fillna(numeric_col.median(), inplace=True)  # Impute with median\n",
      "C:\\Users\\anant\\AppData\\Local\\Temp\\ipykernel_13756\\1825715321.py:17: FutureWarning: A value is trying to be set on a copy of a DataFrame or Series through chained assignment using an inplace method.\n",
      "The behavior will change in pandas 3.0. This inplace method will never work because the intermediate object on which we are setting values always behaves as a copy.\n",
      "\n",
      "For example, when doing 'df[col].method(value, inplace=True)', try using 'df.method({col: value}, inplace=True)' or df[col] = df[col].method(value) instead, to perform the operation inplace on the original object.\n",
      "\n",
      "\n",
      "  df[col].fillna(numeric_col.median(), inplace=True)  # Impute with median\n",
      "C:\\Users\\anant\\AppData\\Local\\Temp\\ipykernel_13756\\1825715321.py:17: FutureWarning: A value is trying to be set on a copy of a DataFrame or Series through chained assignment using an inplace method.\n",
      "The behavior will change in pandas 3.0. This inplace method will never work because the intermediate object on which we are setting values always behaves as a copy.\n",
      "\n",
      "For example, when doing 'df[col].method(value, inplace=True)', try using 'df.method({col: value}, inplace=True)' or df[col] = df[col].method(value) instead, to perform the operation inplace on the original object.\n",
      "\n",
      "\n",
      "  df[col].fillna(numeric_col.median(), inplace=True)  # Impute with median\n",
      "C:\\Users\\anant\\AppData\\Local\\Temp\\ipykernel_13756\\1825715321.py:17: FutureWarning: A value is trying to be set on a copy of a DataFrame or Series through chained assignment using an inplace method.\n",
      "The behavior will change in pandas 3.0. This inplace method will never work because the intermediate object on which we are setting values always behaves as a copy.\n",
      "\n",
      "For example, when doing 'df[col].method(value, inplace=True)', try using 'df.method({col: value}, inplace=True)' or df[col] = df[col].method(value) instead, to perform the operation inplace on the original object.\n",
      "\n",
      "\n",
      "  df[col].fillna(numeric_col.median(), inplace=True)  # Impute with median\n",
      "C:\\Users\\anant\\AppData\\Local\\Temp\\ipykernel_13756\\1825715321.py:17: FutureWarning: A value is trying to be set on a copy of a DataFrame or Series through chained assignment using an inplace method.\n",
      "The behavior will change in pandas 3.0. This inplace method will never work because the intermediate object on which we are setting values always behaves as a copy.\n",
      "\n",
      "For example, when doing 'df[col].method(value, inplace=True)', try using 'df.method({col: value}, inplace=True)' or df[col] = df[col].method(value) instead, to perform the operation inplace on the original object.\n",
      "\n",
      "\n",
      "  df[col].fillna(numeric_col.median(), inplace=True)  # Impute with median\n",
      "C:\\Users\\anant\\AppData\\Local\\Temp\\ipykernel_13756\\1825715321.py:17: FutureWarning: A value is trying to be set on a copy of a DataFrame or Series through chained assignment using an inplace method.\n",
      "The behavior will change in pandas 3.0. This inplace method will never work because the intermediate object on which we are setting values always behaves as a copy.\n",
      "\n",
      "For example, when doing 'df[col].method(value, inplace=True)', try using 'df.method({col: value}, inplace=True)' or df[col] = df[col].method(value) instead, to perform the operation inplace on the original object.\n",
      "\n",
      "\n",
      "  df[col].fillna(numeric_col.median(), inplace=True)  # Impute with median\n",
      "C:\\Users\\anant\\AppData\\Local\\Temp\\ipykernel_13756\\1825715321.py:19: FutureWarning: A value is trying to be set on a copy of a DataFrame or Series through chained assignment using an inplace method.\n",
      "The behavior will change in pandas 3.0. This inplace method will never work because the intermediate object on which we are setting values always behaves as a copy.\n",
      "\n",
      "For example, when doing 'df[col].method(value, inplace=True)', try using 'df.method({col: value}, inplace=True)' or df[col] = df[col].method(value) instead, to perform the operation inplace on the original object.\n",
      "\n",
      "\n",
      "  df[col].fillna(numeric_col.mean(), inplace=True)  # Impute with mean\n",
      "C:\\Users\\anant\\AppData\\Local\\Temp\\ipykernel_13756\\1825715321.py:17: FutureWarning: A value is trying to be set on a copy of a DataFrame or Series through chained assignment using an inplace method.\n",
      "The behavior will change in pandas 3.0. This inplace method will never work because the intermediate object on which we are setting values always behaves as a copy.\n",
      "\n",
      "For example, when doing 'df[col].method(value, inplace=True)', try using 'df.method({col: value}, inplace=True)' or df[col] = df[col].method(value) instead, to perform the operation inplace on the original object.\n",
      "\n",
      "\n",
      "  df[col].fillna(numeric_col.median(), inplace=True)  # Impute with median\n",
      "C:\\Users\\anant\\AppData\\Local\\Temp\\ipykernel_13756\\1825715321.py:17: FutureWarning: A value is trying to be set on a copy of a DataFrame or Series through chained assignment using an inplace method.\n",
      "The behavior will change in pandas 3.0. This inplace method will never work because the intermediate object on which we are setting values always behaves as a copy.\n",
      "\n",
      "For example, when doing 'df[col].method(value, inplace=True)', try using 'df.method({col: value}, inplace=True)' or df[col] = df[col].method(value) instead, to perform the operation inplace on the original object.\n",
      "\n",
      "\n",
      "  df[col].fillna(numeric_col.median(), inplace=True)  # Impute with median\n",
      "C:\\Users\\anant\\AppData\\Local\\Temp\\ipykernel_13756\\1825715321.py:17: FutureWarning: A value is trying to be set on a copy of a DataFrame or Series through chained assignment using an inplace method.\n",
      "The behavior will change in pandas 3.0. This inplace method will never work because the intermediate object on which we are setting values always behaves as a copy.\n",
      "\n",
      "For example, when doing 'df[col].method(value, inplace=True)', try using 'df.method({col: value}, inplace=True)' or df[col] = df[col].method(value) instead, to perform the operation inplace on the original object.\n",
      "\n",
      "\n",
      "  df[col].fillna(numeric_col.median(), inplace=True)  # Impute with median\n",
      "C:\\Users\\anant\\AppData\\Local\\Temp\\ipykernel_13756\\1825715321.py:19: FutureWarning: A value is trying to be set on a copy of a DataFrame or Series through chained assignment using an inplace method.\n",
      "The behavior will change in pandas 3.0. This inplace method will never work because the intermediate object on which we are setting values always behaves as a copy.\n",
      "\n",
      "For example, when doing 'df[col].method(value, inplace=True)', try using 'df.method({col: value}, inplace=True)' or df[col] = df[col].method(value) instead, to perform the operation inplace on the original object.\n",
      "\n",
      "\n",
      "  df[col].fillna(numeric_col.mean(), inplace=True)  # Impute with mean\n",
      "C:\\Users\\anant\\AppData\\Local\\Temp\\ipykernel_13756\\1825715321.py:17: FutureWarning: A value is trying to be set on a copy of a DataFrame or Series through chained assignment using an inplace method.\n",
      "The behavior will change in pandas 3.0. This inplace method will never work because the intermediate object on which we are setting values always behaves as a copy.\n",
      "\n",
      "For example, when doing 'df[col].method(value, inplace=True)', try using 'df.method({col: value}, inplace=True)' or df[col] = df[col].method(value) instead, to perform the operation inplace on the original object.\n",
      "\n",
      "\n",
      "  df[col].fillna(numeric_col.median(), inplace=True)  # Impute with median\n",
      "C:\\Users\\anant\\AppData\\Local\\Temp\\ipykernel_13756\\1825715321.py:17: FutureWarning: A value is trying to be set on a copy of a DataFrame or Series through chained assignment using an inplace method.\n",
      "The behavior will change in pandas 3.0. This inplace method will never work because the intermediate object on which we are setting values always behaves as a copy.\n",
      "\n",
      "For example, when doing 'df[col].method(value, inplace=True)', try using 'df.method({col: value}, inplace=True)' or df[col] = df[col].method(value) instead, to perform the operation inplace on the original object.\n",
      "\n",
      "\n",
      "  df[col].fillna(numeric_col.median(), inplace=True)  # Impute with median\n",
      "C:\\Users\\anant\\AppData\\Local\\Temp\\ipykernel_13756\\1825715321.py:19: FutureWarning: A value is trying to be set on a copy of a DataFrame or Series through chained assignment using an inplace method.\n",
      "The behavior will change in pandas 3.0. This inplace method will never work because the intermediate object on which we are setting values always behaves as a copy.\n",
      "\n",
      "For example, when doing 'df[col].method(value, inplace=True)', try using 'df.method({col: value}, inplace=True)' or df[col] = df[col].method(value) instead, to perform the operation inplace on the original object.\n",
      "\n",
      "\n",
      "  df[col].fillna(numeric_col.mean(), inplace=True)  # Impute with mean\n",
      "C:\\Users\\anant\\AppData\\Local\\Temp\\ipykernel_13756\\1825715321.py:17: FutureWarning: A value is trying to be set on a copy of a DataFrame or Series through chained assignment using an inplace method.\n",
      "The behavior will change in pandas 3.0. This inplace method will never work because the intermediate object on which we are setting values always behaves as a copy.\n",
      "\n",
      "For example, when doing 'df[col].method(value, inplace=True)', try using 'df.method({col: value}, inplace=True)' or df[col] = df[col].method(value) instead, to perform the operation inplace on the original object.\n",
      "\n",
      "\n",
      "  df[col].fillna(numeric_col.median(), inplace=True)  # Impute with median\n",
      "C:\\Users\\anant\\AppData\\Local\\Temp\\ipykernel_13756\\1825715321.py:17: FutureWarning: A value is trying to be set on a copy of a DataFrame or Series through chained assignment using an inplace method.\n",
      "The behavior will change in pandas 3.0. This inplace method will never work because the intermediate object on which we are setting values always behaves as a copy.\n",
      "\n",
      "For example, when doing 'df[col].method(value, inplace=True)', try using 'df.method({col: value}, inplace=True)' or df[col] = df[col].method(value) instead, to perform the operation inplace on the original object.\n",
      "\n",
      "\n",
      "  df[col].fillna(numeric_col.median(), inplace=True)  # Impute with median\n",
      "C:\\Users\\anant\\AppData\\Local\\Temp\\ipykernel_13756\\1825715321.py:17: FutureWarning: A value is trying to be set on a copy of a DataFrame or Series through chained assignment using an inplace method.\n",
      "The behavior will change in pandas 3.0. This inplace method will never work because the intermediate object on which we are setting values always behaves as a copy.\n",
      "\n",
      "For example, when doing 'df[col].method(value, inplace=True)', try using 'df.method({col: value}, inplace=True)' or df[col] = df[col].method(value) instead, to perform the operation inplace on the original object.\n",
      "\n",
      "\n",
      "  df[col].fillna(numeric_col.median(), inplace=True)  # Impute with median\n",
      "C:\\Users\\anant\\AppData\\Local\\Temp\\ipykernel_13756\\1825715321.py:17: FutureWarning: A value is trying to be set on a copy of a DataFrame or Series through chained assignment using an inplace method.\n",
      "The behavior will change in pandas 3.0. This inplace method will never work because the intermediate object on which we are setting values always behaves as a copy.\n",
      "\n",
      "For example, when doing 'df[col].method(value, inplace=True)', try using 'df.method({col: value}, inplace=True)' or df[col] = df[col].method(value) instead, to perform the operation inplace on the original object.\n",
      "\n",
      "\n",
      "  df[col].fillna(numeric_col.median(), inplace=True)  # Impute with median\n",
      "C:\\Users\\anant\\AppData\\Local\\Temp\\ipykernel_13756\\1825715321.py:17: FutureWarning: A value is trying to be set on a copy of a DataFrame or Series through chained assignment using an inplace method.\n",
      "The behavior will change in pandas 3.0. This inplace method will never work because the intermediate object on which we are setting values always behaves as a copy.\n",
      "\n",
      "For example, when doing 'df[col].method(value, inplace=True)', try using 'df.method({col: value}, inplace=True)' or df[col] = df[col].method(value) instead, to perform the operation inplace on the original object.\n",
      "\n",
      "\n",
      "  df[col].fillna(numeric_col.median(), inplace=True)  # Impute with median\n",
      "C:\\Users\\anant\\AppData\\Local\\Temp\\ipykernel_13756\\1825715321.py:17: FutureWarning: A value is trying to be set on a copy of a DataFrame or Series through chained assignment using an inplace method.\n",
      "The behavior will change in pandas 3.0. This inplace method will never work because the intermediate object on which we are setting values always behaves as a copy.\n",
      "\n",
      "For example, when doing 'df[col].method(value, inplace=True)', try using 'df.method({col: value}, inplace=True)' or df[col] = df[col].method(value) instead, to perform the operation inplace on the original object.\n",
      "\n",
      "\n",
      "  df[col].fillna(numeric_col.median(), inplace=True)  # Impute with median\n",
      "C:\\Users\\anant\\AppData\\Local\\Temp\\ipykernel_13756\\1825715321.py:17: FutureWarning: A value is trying to be set on a copy of a DataFrame or Series through chained assignment using an inplace method.\n",
      "The behavior will change in pandas 3.0. This inplace method will never work because the intermediate object on which we are setting values always behaves as a copy.\n",
      "\n",
      "For example, when doing 'df[col].method(value, inplace=True)', try using 'df.method({col: value}, inplace=True)' or df[col] = df[col].method(value) instead, to perform the operation inplace on the original object.\n",
      "\n",
      "\n",
      "  df[col].fillna(numeric_col.median(), inplace=True)  # Impute with median\n",
      "C:\\Users\\anant\\AppData\\Local\\Temp\\ipykernel_13756\\1825715321.py:17: FutureWarning: A value is trying to be set on a copy of a DataFrame or Series through chained assignment using an inplace method.\n",
      "The behavior will change in pandas 3.0. This inplace method will never work because the intermediate object on which we are setting values always behaves as a copy.\n",
      "\n",
      "For example, when doing 'df[col].method(value, inplace=True)', try using 'df.method({col: value}, inplace=True)' or df[col] = df[col].method(value) instead, to perform the operation inplace on the original object.\n",
      "\n",
      "\n",
      "  df[col].fillna(numeric_col.median(), inplace=True)  # Impute with median\n",
      "C:\\Users\\anant\\AppData\\Local\\Temp\\ipykernel_13756\\1825715321.py:17: FutureWarning: A value is trying to be set on a copy of a DataFrame or Series through chained assignment using an inplace method.\n",
      "The behavior will change in pandas 3.0. This inplace method will never work because the intermediate object on which we are setting values always behaves as a copy.\n",
      "\n",
      "For example, when doing 'df[col].method(value, inplace=True)', try using 'df.method({col: value}, inplace=True)' or df[col] = df[col].method(value) instead, to perform the operation inplace on the original object.\n",
      "\n",
      "\n",
      "  df[col].fillna(numeric_col.median(), inplace=True)  # Impute with median\n",
      "C:\\Users\\anant\\AppData\\Local\\Temp\\ipykernel_13756\\1825715321.py:17: FutureWarning: A value is trying to be set on a copy of a DataFrame or Series through chained assignment using an inplace method.\n",
      "The behavior will change in pandas 3.0. This inplace method will never work because the intermediate object on which we are setting values always behaves as a copy.\n",
      "\n",
      "For example, when doing 'df[col].method(value, inplace=True)', try using 'df.method({col: value}, inplace=True)' or df[col] = df[col].method(value) instead, to perform the operation inplace on the original object.\n",
      "\n",
      "\n",
      "  df[col].fillna(numeric_col.median(), inplace=True)  # Impute with median\n",
      "C:\\Users\\anant\\AppData\\Local\\Temp\\ipykernel_13756\\1825715321.py:17: FutureWarning: A value is trying to be set on a copy of a DataFrame or Series through chained assignment using an inplace method.\n",
      "The behavior will change in pandas 3.0. This inplace method will never work because the intermediate object on which we are setting values always behaves as a copy.\n",
      "\n",
      "For example, when doing 'df[col].method(value, inplace=True)', try using 'df.method({col: value}, inplace=True)' or df[col] = df[col].method(value) instead, to perform the operation inplace on the original object.\n",
      "\n",
      "\n",
      "  df[col].fillna(numeric_col.median(), inplace=True)  # Impute with median\n",
      "C:\\Users\\anant\\AppData\\Local\\Temp\\ipykernel_13756\\1825715321.py:17: FutureWarning: A value is trying to be set on a copy of a DataFrame or Series through chained assignment using an inplace method.\n",
      "The behavior will change in pandas 3.0. This inplace method will never work because the intermediate object on which we are setting values always behaves as a copy.\n",
      "\n",
      "For example, when doing 'df[col].method(value, inplace=True)', try using 'df.method({col: value}, inplace=True)' or df[col] = df[col].method(value) instead, to perform the operation inplace on the original object.\n",
      "\n",
      "\n",
      "  df[col].fillna(numeric_col.median(), inplace=True)  # Impute with median\n",
      "C:\\Users\\anant\\AppData\\Local\\Temp\\ipykernel_13756\\1825715321.py:17: FutureWarning: A value is trying to be set on a copy of a DataFrame or Series through chained assignment using an inplace method.\n",
      "The behavior will change in pandas 3.0. This inplace method will never work because the intermediate object on which we are setting values always behaves as a copy.\n",
      "\n",
      "For example, when doing 'df[col].method(value, inplace=True)', try using 'df.method({col: value}, inplace=True)' or df[col] = df[col].method(value) instead, to perform the operation inplace on the original object.\n",
      "\n",
      "\n",
      "  df[col].fillna(numeric_col.median(), inplace=True)  # Impute with median\n",
      "C:\\Users\\anant\\AppData\\Local\\Temp\\ipykernel_13756\\1825715321.py:19: FutureWarning: A value is trying to be set on a copy of a DataFrame or Series through chained assignment using an inplace method.\n",
      "The behavior will change in pandas 3.0. This inplace method will never work because the intermediate object on which we are setting values always behaves as a copy.\n",
      "\n",
      "For example, when doing 'df[col].method(value, inplace=True)', try using 'df.method({col: value}, inplace=True)' or df[col] = df[col].method(value) instead, to perform the operation inplace on the original object.\n",
      "\n",
      "\n",
      "  df[col].fillna(numeric_col.mean(), inplace=True)  # Impute with mean\n",
      "C:\\Users\\anant\\AppData\\Local\\Temp\\ipykernel_13756\\1825715321.py:17: FutureWarning: A value is trying to be set on a copy of a DataFrame or Series through chained assignment using an inplace method.\n",
      "The behavior will change in pandas 3.0. This inplace method will never work because the intermediate object on which we are setting values always behaves as a copy.\n",
      "\n",
      "For example, when doing 'df[col].method(value, inplace=True)', try using 'df.method({col: value}, inplace=True)' or df[col] = df[col].method(value) instead, to perform the operation inplace on the original object.\n",
      "\n",
      "\n",
      "  df[col].fillna(numeric_col.median(), inplace=True)  # Impute with median\n",
      "C:\\Users\\anant\\AppData\\Local\\Temp\\ipykernel_13756\\1825715321.py:17: FutureWarning: A value is trying to be set on a copy of a DataFrame or Series through chained assignment using an inplace method.\n",
      "The behavior will change in pandas 3.0. This inplace method will never work because the intermediate object on which we are setting values always behaves as a copy.\n",
      "\n",
      "For example, when doing 'df[col].method(value, inplace=True)', try using 'df.method({col: value}, inplace=True)' or df[col] = df[col].method(value) instead, to perform the operation inplace on the original object.\n",
      "\n",
      "\n",
      "  df[col].fillna(numeric_col.median(), inplace=True)  # Impute with median\n",
      "C:\\Users\\anant\\AppData\\Local\\Temp\\ipykernel_13756\\1825715321.py:17: FutureWarning: A value is trying to be set on a copy of a DataFrame or Series through chained assignment using an inplace method.\n",
      "The behavior will change in pandas 3.0. This inplace method will never work because the intermediate object on which we are setting values always behaves as a copy.\n",
      "\n",
      "For example, when doing 'df[col].method(value, inplace=True)', try using 'df.method({col: value}, inplace=True)' or df[col] = df[col].method(value) instead, to perform the operation inplace on the original object.\n",
      "\n",
      "\n",
      "  df[col].fillna(numeric_col.median(), inplace=True)  # Impute with median\n",
      "C:\\Users\\anant\\AppData\\Local\\Temp\\ipykernel_13756\\1825715321.py:17: FutureWarning: A value is trying to be set on a copy of a DataFrame or Series through chained assignment using an inplace method.\n",
      "The behavior will change in pandas 3.0. This inplace method will never work because the intermediate object on which we are setting values always behaves as a copy.\n",
      "\n",
      "For example, when doing 'df[col].method(value, inplace=True)', try using 'df.method({col: value}, inplace=True)' or df[col] = df[col].method(value) instead, to perform the operation inplace on the original object.\n",
      "\n",
      "\n",
      "  df[col].fillna(numeric_col.median(), inplace=True)  # Impute with median\n",
      "C:\\Users\\anant\\AppData\\Local\\Temp\\ipykernel_13756\\1825715321.py:17: FutureWarning: A value is trying to be set on a copy of a DataFrame or Series through chained assignment using an inplace method.\n",
      "The behavior will change in pandas 3.0. This inplace method will never work because the intermediate object on which we are setting values always behaves as a copy.\n",
      "\n",
      "For example, when doing 'df[col].method(value, inplace=True)', try using 'df.method({col: value}, inplace=True)' or df[col] = df[col].method(value) instead, to perform the operation inplace on the original object.\n",
      "\n",
      "\n",
      "  df[col].fillna(numeric_col.median(), inplace=True)  # Impute with median\n",
      "C:\\Users\\anant\\AppData\\Local\\Temp\\ipykernel_13756\\1825715321.py:17: FutureWarning: A value is trying to be set on a copy of a DataFrame or Series through chained assignment using an inplace method.\n",
      "The behavior will change in pandas 3.0. This inplace method will never work because the intermediate object on which we are setting values always behaves as a copy.\n",
      "\n",
      "For example, when doing 'df[col].method(value, inplace=True)', try using 'df.method({col: value}, inplace=True)' or df[col] = df[col].method(value) instead, to perform the operation inplace on the original object.\n",
      "\n",
      "\n",
      "  df[col].fillna(numeric_col.median(), inplace=True)  # Impute with median\n",
      "C:\\Users\\anant\\AppData\\Local\\Temp\\ipykernel_13756\\1825715321.py:17: FutureWarning: A value is trying to be set on a copy of a DataFrame or Series through chained assignment using an inplace method.\n",
      "The behavior will change in pandas 3.0. This inplace method will never work because the intermediate object on which we are setting values always behaves as a copy.\n",
      "\n",
      "For example, when doing 'df[col].method(value, inplace=True)', try using 'df.method({col: value}, inplace=True)' or df[col] = df[col].method(value) instead, to perform the operation inplace on the original object.\n",
      "\n",
      "\n",
      "  df[col].fillna(numeric_col.median(), inplace=True)  # Impute with median\n",
      "C:\\Users\\anant\\AppData\\Local\\Temp\\ipykernel_13756\\1825715321.py:17: FutureWarning: A value is trying to be set on a copy of a DataFrame or Series through chained assignment using an inplace method.\n",
      "The behavior will change in pandas 3.0. This inplace method will never work because the intermediate object on which we are setting values always behaves as a copy.\n",
      "\n",
      "For example, when doing 'df[col].method(value, inplace=True)', try using 'df.method({col: value}, inplace=True)' or df[col] = df[col].method(value) instead, to perform the operation inplace on the original object.\n",
      "\n",
      "\n",
      "  df[col].fillna(numeric_col.median(), inplace=True)  # Impute with median\n",
      "C:\\Users\\anant\\AppData\\Local\\Temp\\ipykernel_13756\\1825715321.py:17: FutureWarning: A value is trying to be set on a copy of a DataFrame or Series through chained assignment using an inplace method.\n",
      "The behavior will change in pandas 3.0. This inplace method will never work because the intermediate object on which we are setting values always behaves as a copy.\n",
      "\n",
      "For example, when doing 'df[col].method(value, inplace=True)', try using 'df.method({col: value}, inplace=True)' or df[col] = df[col].method(value) instead, to perform the operation inplace on the original object.\n",
      "\n",
      "\n",
      "  df[col].fillna(numeric_col.median(), inplace=True)  # Impute with median\n",
      "C:\\Users\\anant\\AppData\\Local\\Temp\\ipykernel_13756\\1825715321.py:17: FutureWarning: A value is trying to be set on a copy of a DataFrame or Series through chained assignment using an inplace method.\n",
      "The behavior will change in pandas 3.0. This inplace method will never work because the intermediate object on which we are setting values always behaves as a copy.\n",
      "\n",
      "For example, when doing 'df[col].method(value, inplace=True)', try using 'df.method({col: value}, inplace=True)' or df[col] = df[col].method(value) instead, to perform the operation inplace on the original object.\n",
      "\n",
      "\n",
      "  df[col].fillna(numeric_col.median(), inplace=True)  # Impute with median\n",
      "C:\\Users\\anant\\AppData\\Local\\Temp\\ipykernel_13756\\1825715321.py:17: FutureWarning: A value is trying to be set on a copy of a DataFrame or Series through chained assignment using an inplace method.\n",
      "The behavior will change in pandas 3.0. This inplace method will never work because the intermediate object on which we are setting values always behaves as a copy.\n",
      "\n",
      "For example, when doing 'df[col].method(value, inplace=True)', try using 'df.method({col: value}, inplace=True)' or df[col] = df[col].method(value) instead, to perform the operation inplace on the original object.\n",
      "\n",
      "\n",
      "  df[col].fillna(numeric_col.median(), inplace=True)  # Impute with median\n",
      "C:\\Users\\anant\\AppData\\Local\\Temp\\ipykernel_13756\\1825715321.py:17: FutureWarning: A value is trying to be set on a copy of a DataFrame or Series through chained assignment using an inplace method.\n",
      "The behavior will change in pandas 3.0. This inplace method will never work because the intermediate object on which we are setting values always behaves as a copy.\n",
      "\n",
      "For example, when doing 'df[col].method(value, inplace=True)', try using 'df.method({col: value}, inplace=True)' or df[col] = df[col].method(value) instead, to perform the operation inplace on the original object.\n",
      "\n",
      "\n",
      "  df[col].fillna(numeric_col.median(), inplace=True)  # Impute with median\n",
      "C:\\Users\\anant\\AppData\\Local\\Temp\\ipykernel_13756\\1825715321.py:17: FutureWarning: A value is trying to be set on a copy of a DataFrame or Series through chained assignment using an inplace method.\n",
      "The behavior will change in pandas 3.0. This inplace method will never work because the intermediate object on which we are setting values always behaves as a copy.\n",
      "\n",
      "For example, when doing 'df[col].method(value, inplace=True)', try using 'df.method({col: value}, inplace=True)' or df[col] = df[col].method(value) instead, to perform the operation inplace on the original object.\n",
      "\n",
      "\n",
      "  df[col].fillna(numeric_col.median(), inplace=True)  # Impute with median\n",
      "C:\\Users\\anant\\AppData\\Local\\Temp\\ipykernel_13756\\1825715321.py:17: FutureWarning: A value is trying to be set on a copy of a DataFrame or Series through chained assignment using an inplace method.\n",
      "The behavior will change in pandas 3.0. This inplace method will never work because the intermediate object on which we are setting values always behaves as a copy.\n",
      "\n",
      "For example, when doing 'df[col].method(value, inplace=True)', try using 'df.method({col: value}, inplace=True)' or df[col] = df[col].method(value) instead, to perform the operation inplace on the original object.\n",
      "\n",
      "\n",
      "  df[col].fillna(numeric_col.median(), inplace=True)  # Impute with median\n",
      "C:\\Users\\anant\\AppData\\Local\\Temp\\ipykernel_13756\\1825715321.py:17: FutureWarning: A value is trying to be set on a copy of a DataFrame or Series through chained assignment using an inplace method.\n",
      "The behavior will change in pandas 3.0. This inplace method will never work because the intermediate object on which we are setting values always behaves as a copy.\n",
      "\n",
      "For example, when doing 'df[col].method(value, inplace=True)', try using 'df.method({col: value}, inplace=True)' or df[col] = df[col].method(value) instead, to perform the operation inplace on the original object.\n",
      "\n",
      "\n",
      "  df[col].fillna(numeric_col.median(), inplace=True)  # Impute with median\n",
      "C:\\Users\\anant\\AppData\\Local\\Temp\\ipykernel_13756\\1825715321.py:17: FutureWarning: A value is trying to be set on a copy of a DataFrame or Series through chained assignment using an inplace method.\n",
      "The behavior will change in pandas 3.0. This inplace method will never work because the intermediate object on which we are setting values always behaves as a copy.\n",
      "\n",
      "For example, when doing 'df[col].method(value, inplace=True)', try using 'df.method({col: value}, inplace=True)' or df[col] = df[col].method(value) instead, to perform the operation inplace on the original object.\n",
      "\n",
      "\n",
      "  df[col].fillna(numeric_col.median(), inplace=True)  # Impute with median\n",
      "C:\\Users\\anant\\AppData\\Local\\Temp\\ipykernel_13756\\1825715321.py:17: FutureWarning: A value is trying to be set on a copy of a DataFrame or Series through chained assignment using an inplace method.\n",
      "The behavior will change in pandas 3.0. This inplace method will never work because the intermediate object on which we are setting values always behaves as a copy.\n",
      "\n",
      "For example, when doing 'df[col].method(value, inplace=True)', try using 'df.method({col: value}, inplace=True)' or df[col] = df[col].method(value) instead, to perform the operation inplace on the original object.\n",
      "\n",
      "\n",
      "  df[col].fillna(numeric_col.median(), inplace=True)  # Impute with median\n",
      "C:\\Users\\anant\\AppData\\Local\\Temp\\ipykernel_13756\\1825715321.py:17: FutureWarning: A value is trying to be set on a copy of a DataFrame or Series through chained assignment using an inplace method.\n",
      "The behavior will change in pandas 3.0. This inplace method will never work because the intermediate object on which we are setting values always behaves as a copy.\n",
      "\n",
      "For example, when doing 'df[col].method(value, inplace=True)', try using 'df.method({col: value}, inplace=True)' or df[col] = df[col].method(value) instead, to perform the operation inplace on the original object.\n",
      "\n",
      "\n",
      "  df[col].fillna(numeric_col.median(), inplace=True)  # Impute with median\n",
      "C:\\Users\\anant\\AppData\\Local\\Temp\\ipykernel_13756\\1825715321.py:17: FutureWarning: A value is trying to be set on a copy of a DataFrame or Series through chained assignment using an inplace method.\n",
      "The behavior will change in pandas 3.0. This inplace method will never work because the intermediate object on which we are setting values always behaves as a copy.\n",
      "\n",
      "For example, when doing 'df[col].method(value, inplace=True)', try using 'df.method({col: value}, inplace=True)' or df[col] = df[col].method(value) instead, to perform the operation inplace on the original object.\n",
      "\n",
      "\n",
      "  df[col].fillna(numeric_col.median(), inplace=True)  # Impute with median\n",
      "C:\\Users\\anant\\AppData\\Local\\Temp\\ipykernel_13756\\1825715321.py:17: FutureWarning: A value is trying to be set on a copy of a DataFrame or Series through chained assignment using an inplace method.\n",
      "The behavior will change in pandas 3.0. This inplace method will never work because the intermediate object on which we are setting values always behaves as a copy.\n",
      "\n",
      "For example, when doing 'df[col].method(value, inplace=True)', try using 'df.method({col: value}, inplace=True)' or df[col] = df[col].method(value) instead, to perform the operation inplace on the original object.\n",
      "\n",
      "\n",
      "  df[col].fillna(numeric_col.median(), inplace=True)  # Impute with median\n",
      "C:\\Users\\anant\\AppData\\Local\\Temp\\ipykernel_13756\\1825715321.py:17: FutureWarning: A value is trying to be set on a copy of a DataFrame or Series through chained assignment using an inplace method.\n",
      "The behavior will change in pandas 3.0. This inplace method will never work because the intermediate object on which we are setting values always behaves as a copy.\n",
      "\n",
      "For example, when doing 'df[col].method(value, inplace=True)', try using 'df.method({col: value}, inplace=True)' or df[col] = df[col].method(value) instead, to perform the operation inplace on the original object.\n",
      "\n",
      "\n",
      "  df[col].fillna(numeric_col.median(), inplace=True)  # Impute with median\n",
      "C:\\Users\\anant\\AppData\\Local\\Temp\\ipykernel_13756\\1825715321.py:17: FutureWarning: A value is trying to be set on a copy of a DataFrame or Series through chained assignment using an inplace method.\n",
      "The behavior will change in pandas 3.0. This inplace method will never work because the intermediate object on which we are setting values always behaves as a copy.\n",
      "\n",
      "For example, when doing 'df[col].method(value, inplace=True)', try using 'df.method({col: value}, inplace=True)' or df[col] = df[col].method(value) instead, to perform the operation inplace on the original object.\n",
      "\n",
      "\n",
      "  df[col].fillna(numeric_col.median(), inplace=True)  # Impute with median\n",
      "C:\\Users\\anant\\AppData\\Local\\Temp\\ipykernel_13756\\1825715321.py:17: FutureWarning: A value is trying to be set on a copy of a DataFrame or Series through chained assignment using an inplace method.\n",
      "The behavior will change in pandas 3.0. This inplace method will never work because the intermediate object on which we are setting values always behaves as a copy.\n",
      "\n",
      "For example, when doing 'df[col].method(value, inplace=True)', try using 'df.method({col: value}, inplace=True)' or df[col] = df[col].method(value) instead, to perform the operation inplace on the original object.\n",
      "\n",
      "\n",
      "  df[col].fillna(numeric_col.median(), inplace=True)  # Impute with median\n",
      "C:\\Users\\anant\\AppData\\Local\\Temp\\ipykernel_13756\\1825715321.py:17: FutureWarning: A value is trying to be set on a copy of a DataFrame or Series through chained assignment using an inplace method.\n",
      "The behavior will change in pandas 3.0. This inplace method will never work because the intermediate object on which we are setting values always behaves as a copy.\n",
      "\n",
      "For example, when doing 'df[col].method(value, inplace=True)', try using 'df.method({col: value}, inplace=True)' or df[col] = df[col].method(value) instead, to perform the operation inplace on the original object.\n",
      "\n",
      "\n",
      "  df[col].fillna(numeric_col.median(), inplace=True)  # Impute with median\n",
      "C:\\Users\\anant\\AppData\\Local\\Temp\\ipykernel_13756\\1825715321.py:17: FutureWarning: A value is trying to be set on a copy of a DataFrame or Series through chained assignment using an inplace method.\n",
      "The behavior will change in pandas 3.0. This inplace method will never work because the intermediate object on which we are setting values always behaves as a copy.\n",
      "\n",
      "For example, when doing 'df[col].method(value, inplace=True)', try using 'df.method({col: value}, inplace=True)' or df[col] = df[col].method(value) instead, to perform the operation inplace on the original object.\n",
      "\n",
      "\n",
      "  df[col].fillna(numeric_col.median(), inplace=True)  # Impute with median\n",
      "C:\\Users\\anant\\AppData\\Local\\Temp\\ipykernel_13756\\1825715321.py:17: FutureWarning: A value is trying to be set on a copy of a DataFrame or Series through chained assignment using an inplace method.\n",
      "The behavior will change in pandas 3.0. This inplace method will never work because the intermediate object on which we are setting values always behaves as a copy.\n",
      "\n",
      "For example, when doing 'df[col].method(value, inplace=True)', try using 'df.method({col: value}, inplace=True)' or df[col] = df[col].method(value) instead, to perform the operation inplace on the original object.\n",
      "\n",
      "\n",
      "  df[col].fillna(numeric_col.median(), inplace=True)  # Impute with median\n",
      "C:\\Users\\anant\\AppData\\Local\\Temp\\ipykernel_13756\\1825715321.py:17: FutureWarning: A value is trying to be set on a copy of a DataFrame or Series through chained assignment using an inplace method.\n",
      "The behavior will change in pandas 3.0. This inplace method will never work because the intermediate object on which we are setting values always behaves as a copy.\n",
      "\n",
      "For example, when doing 'df[col].method(value, inplace=True)', try using 'df.method({col: value}, inplace=True)' or df[col] = df[col].method(value) instead, to perform the operation inplace on the original object.\n",
      "\n",
      "\n",
      "  df[col].fillna(numeric_col.median(), inplace=True)  # Impute with median\n",
      "C:\\Users\\anant\\AppData\\Local\\Temp\\ipykernel_13756\\1825715321.py:17: FutureWarning: A value is trying to be set on a copy of a DataFrame or Series through chained assignment using an inplace method.\n",
      "The behavior will change in pandas 3.0. This inplace method will never work because the intermediate object on which we are setting values always behaves as a copy.\n",
      "\n",
      "For example, when doing 'df[col].method(value, inplace=True)', try using 'df.method({col: value}, inplace=True)' or df[col] = df[col].method(value) instead, to perform the operation inplace on the original object.\n",
      "\n",
      "\n",
      "  df[col].fillna(numeric_col.median(), inplace=True)  # Impute with median\n",
      "C:\\Users\\anant\\AppData\\Local\\Temp\\ipykernel_13756\\1825715321.py:17: FutureWarning: A value is trying to be set on a copy of a DataFrame or Series through chained assignment using an inplace method.\n",
      "The behavior will change in pandas 3.0. This inplace method will never work because the intermediate object on which we are setting values always behaves as a copy.\n",
      "\n",
      "For example, when doing 'df[col].method(value, inplace=True)', try using 'df.method({col: value}, inplace=True)' or df[col] = df[col].method(value) instead, to perform the operation inplace on the original object.\n",
      "\n",
      "\n",
      "  df[col].fillna(numeric_col.median(), inplace=True)  # Impute with median\n",
      "C:\\Users\\anant\\AppData\\Local\\Temp\\ipykernel_13756\\1825715321.py:17: FutureWarning: A value is trying to be set on a copy of a DataFrame or Series through chained assignment using an inplace method.\n",
      "The behavior will change in pandas 3.0. This inplace method will never work because the intermediate object on which we are setting values always behaves as a copy.\n",
      "\n",
      "For example, when doing 'df[col].method(value, inplace=True)', try using 'df.method({col: value}, inplace=True)' or df[col] = df[col].method(value) instead, to perform the operation inplace on the original object.\n",
      "\n",
      "\n",
      "  df[col].fillna(numeric_col.median(), inplace=True)  # Impute with median\n",
      "C:\\Users\\anant\\AppData\\Local\\Temp\\ipykernel_13756\\1825715321.py:17: FutureWarning: A value is trying to be set on a copy of a DataFrame or Series through chained assignment using an inplace method.\n",
      "The behavior will change in pandas 3.0. This inplace method will never work because the intermediate object on which we are setting values always behaves as a copy.\n",
      "\n",
      "For example, when doing 'df[col].method(value, inplace=True)', try using 'df.method({col: value}, inplace=True)' or df[col] = df[col].method(value) instead, to perform the operation inplace on the original object.\n",
      "\n",
      "\n",
      "  df[col].fillna(numeric_col.median(), inplace=True)  # Impute with median\n",
      "C:\\Users\\anant\\AppData\\Local\\Temp\\ipykernel_13756\\1825715321.py:17: FutureWarning: A value is trying to be set on a copy of a DataFrame or Series through chained assignment using an inplace method.\n",
      "The behavior will change in pandas 3.0. This inplace method will never work because the intermediate object on which we are setting values always behaves as a copy.\n",
      "\n",
      "For example, when doing 'df[col].method(value, inplace=True)', try using 'df.method({col: value}, inplace=True)' or df[col] = df[col].method(value) instead, to perform the operation inplace on the original object.\n",
      "\n",
      "\n",
      "  df[col].fillna(numeric_col.median(), inplace=True)  # Impute with median\n",
      "C:\\Users\\anant\\AppData\\Local\\Temp\\ipykernel_13756\\1825715321.py:17: FutureWarning: A value is trying to be set on a copy of a DataFrame or Series through chained assignment using an inplace method.\n",
      "The behavior will change in pandas 3.0. This inplace method will never work because the intermediate object on which we are setting values always behaves as a copy.\n",
      "\n",
      "For example, when doing 'df[col].method(value, inplace=True)', try using 'df.method({col: value}, inplace=True)' or df[col] = df[col].method(value) instead, to perform the operation inplace on the original object.\n",
      "\n",
      "\n",
      "  df[col].fillna(numeric_col.median(), inplace=True)  # Impute with median\n",
      "C:\\Users\\anant\\AppData\\Local\\Temp\\ipykernel_13756\\1825715321.py:17: FutureWarning: A value is trying to be set on a copy of a DataFrame or Series through chained assignment using an inplace method.\n",
      "The behavior will change in pandas 3.0. This inplace method will never work because the intermediate object on which we are setting values always behaves as a copy.\n",
      "\n",
      "For example, when doing 'df[col].method(value, inplace=True)', try using 'df.method({col: value}, inplace=True)' or df[col] = df[col].method(value) instead, to perform the operation inplace on the original object.\n",
      "\n",
      "\n",
      "  df[col].fillna(numeric_col.median(), inplace=True)  # Impute with median\n",
      "C:\\Users\\anant\\AppData\\Local\\Temp\\ipykernel_13756\\1825715321.py:17: FutureWarning: A value is trying to be set on a copy of a DataFrame or Series through chained assignment using an inplace method.\n",
      "The behavior will change in pandas 3.0. This inplace method will never work because the intermediate object on which we are setting values always behaves as a copy.\n",
      "\n",
      "For example, when doing 'df[col].method(value, inplace=True)', try using 'df.method({col: value}, inplace=True)' or df[col] = df[col].method(value) instead, to perform the operation inplace on the original object.\n",
      "\n",
      "\n",
      "  df[col].fillna(numeric_col.median(), inplace=True)  # Impute with median\n",
      "C:\\Users\\anant\\AppData\\Local\\Temp\\ipykernel_13756\\1825715321.py:17: FutureWarning: A value is trying to be set on a copy of a DataFrame or Series through chained assignment using an inplace method.\n",
      "The behavior will change in pandas 3.0. This inplace method will never work because the intermediate object on which we are setting values always behaves as a copy.\n",
      "\n",
      "For example, when doing 'df[col].method(value, inplace=True)', try using 'df.method({col: value}, inplace=True)' or df[col] = df[col].method(value) instead, to perform the operation inplace on the original object.\n",
      "\n",
      "\n",
      "  df[col].fillna(numeric_col.median(), inplace=True)  # Impute with median\n",
      "C:\\Users\\anant\\AppData\\Local\\Temp\\ipykernel_13756\\1825715321.py:17: FutureWarning: A value is trying to be set on a copy of a DataFrame or Series through chained assignment using an inplace method.\n",
      "The behavior will change in pandas 3.0. This inplace method will never work because the intermediate object on which we are setting values always behaves as a copy.\n",
      "\n",
      "For example, when doing 'df[col].method(value, inplace=True)', try using 'df.method({col: value}, inplace=True)' or df[col] = df[col].method(value) instead, to perform the operation inplace on the original object.\n",
      "\n",
      "\n",
      "  df[col].fillna(numeric_col.median(), inplace=True)  # Impute with median\n",
      "C:\\Users\\anant\\AppData\\Local\\Temp\\ipykernel_13756\\1825715321.py:17: FutureWarning: A value is trying to be set on a copy of a DataFrame or Series through chained assignment using an inplace method.\n",
      "The behavior will change in pandas 3.0. This inplace method will never work because the intermediate object on which we are setting values always behaves as a copy.\n",
      "\n",
      "For example, when doing 'df[col].method(value, inplace=True)', try using 'df.method({col: value}, inplace=True)' or df[col] = df[col].method(value) instead, to perform the operation inplace on the original object.\n",
      "\n",
      "\n",
      "  df[col].fillna(numeric_col.median(), inplace=True)  # Impute with median\n",
      "C:\\Users\\anant\\AppData\\Local\\Temp\\ipykernel_13756\\1825715321.py:17: FutureWarning: A value is trying to be set on a copy of a DataFrame or Series through chained assignment using an inplace method.\n",
      "The behavior will change in pandas 3.0. This inplace method will never work because the intermediate object on which we are setting values always behaves as a copy.\n",
      "\n",
      "For example, when doing 'df[col].method(value, inplace=True)', try using 'df.method({col: value}, inplace=True)' or df[col] = df[col].method(value) instead, to perform the operation inplace on the original object.\n",
      "\n",
      "\n",
      "  df[col].fillna(numeric_col.median(), inplace=True)  # Impute with median\n",
      "C:\\Users\\anant\\AppData\\Local\\Temp\\ipykernel_13756\\1825715321.py:17: FutureWarning: A value is trying to be set on a copy of a DataFrame or Series through chained assignment using an inplace method.\n",
      "The behavior will change in pandas 3.0. This inplace method will never work because the intermediate object on which we are setting values always behaves as a copy.\n",
      "\n",
      "For example, when doing 'df[col].method(value, inplace=True)', try using 'df.method({col: value}, inplace=True)' or df[col] = df[col].method(value) instead, to perform the operation inplace on the original object.\n",
      "\n",
      "\n",
      "  df[col].fillna(numeric_col.median(), inplace=True)  # Impute with median\n",
      "C:\\Users\\anant\\AppData\\Local\\Temp\\ipykernel_13756\\1825715321.py:17: FutureWarning: A value is trying to be set on a copy of a DataFrame or Series through chained assignment using an inplace method.\n",
      "The behavior will change in pandas 3.0. This inplace method will never work because the intermediate object on which we are setting values always behaves as a copy.\n",
      "\n",
      "For example, when doing 'df[col].method(value, inplace=True)', try using 'df.method({col: value}, inplace=True)' or df[col] = df[col].method(value) instead, to perform the operation inplace on the original object.\n",
      "\n",
      "\n",
      "  df[col].fillna(numeric_col.median(), inplace=True)  # Impute with median\n",
      "C:\\Users\\anant\\AppData\\Local\\Temp\\ipykernel_13756\\1825715321.py:17: FutureWarning: A value is trying to be set on a copy of a DataFrame or Series through chained assignment using an inplace method.\n",
      "The behavior will change in pandas 3.0. This inplace method will never work because the intermediate object on which we are setting values always behaves as a copy.\n",
      "\n",
      "For example, when doing 'df[col].method(value, inplace=True)', try using 'df.method({col: value}, inplace=True)' or df[col] = df[col].method(value) instead, to perform the operation inplace on the original object.\n",
      "\n",
      "\n",
      "  df[col].fillna(numeric_col.median(), inplace=True)  # Impute with median\n",
      "C:\\Users\\anant\\AppData\\Local\\Temp\\ipykernel_13756\\1825715321.py:17: FutureWarning: A value is trying to be set on a copy of a DataFrame or Series through chained assignment using an inplace method.\n",
      "The behavior will change in pandas 3.0. This inplace method will never work because the intermediate object on which we are setting values always behaves as a copy.\n",
      "\n",
      "For example, when doing 'df[col].method(value, inplace=True)', try using 'df.method({col: value}, inplace=True)' or df[col] = df[col].method(value) instead, to perform the operation inplace on the original object.\n",
      "\n",
      "\n",
      "  df[col].fillna(numeric_col.median(), inplace=True)  # Impute with median\n",
      "C:\\Users\\anant\\AppData\\Local\\Temp\\ipykernel_13756\\1825715321.py:17: FutureWarning: A value is trying to be set on a copy of a DataFrame or Series through chained assignment using an inplace method.\n",
      "The behavior will change in pandas 3.0. This inplace method will never work because the intermediate object on which we are setting values always behaves as a copy.\n",
      "\n",
      "For example, when doing 'df[col].method(value, inplace=True)', try using 'df.method({col: value}, inplace=True)' or df[col] = df[col].method(value) instead, to perform the operation inplace on the original object.\n",
      "\n",
      "\n",
      "  df[col].fillna(numeric_col.median(), inplace=True)  # Impute with median\n",
      "C:\\Users\\anant\\AppData\\Local\\Temp\\ipykernel_13756\\1825715321.py:17: FutureWarning: A value is trying to be set on a copy of a DataFrame or Series through chained assignment using an inplace method.\n",
      "The behavior will change in pandas 3.0. This inplace method will never work because the intermediate object on which we are setting values always behaves as a copy.\n",
      "\n",
      "For example, when doing 'df[col].method(value, inplace=True)', try using 'df.method({col: value}, inplace=True)' or df[col] = df[col].method(value) instead, to perform the operation inplace on the original object.\n",
      "\n",
      "\n",
      "  df[col].fillna(numeric_col.median(), inplace=True)  # Impute with median\n",
      "C:\\Users\\anant\\AppData\\Local\\Temp\\ipykernel_13756\\1825715321.py:17: FutureWarning: A value is trying to be set on a copy of a DataFrame or Series through chained assignment using an inplace method.\n",
      "The behavior will change in pandas 3.0. This inplace method will never work because the intermediate object on which we are setting values always behaves as a copy.\n",
      "\n",
      "For example, when doing 'df[col].method(value, inplace=True)', try using 'df.method({col: value}, inplace=True)' or df[col] = df[col].method(value) instead, to perform the operation inplace on the original object.\n",
      "\n",
      "\n",
      "  df[col].fillna(numeric_col.median(), inplace=True)  # Impute with median\n",
      "C:\\Users\\anant\\AppData\\Local\\Temp\\ipykernel_13756\\1825715321.py:17: FutureWarning: A value is trying to be set on a copy of a DataFrame or Series through chained assignment using an inplace method.\n",
      "The behavior will change in pandas 3.0. This inplace method will never work because the intermediate object on which we are setting values always behaves as a copy.\n",
      "\n",
      "For example, when doing 'df[col].method(value, inplace=True)', try using 'df.method({col: value}, inplace=True)' or df[col] = df[col].method(value) instead, to perform the operation inplace on the original object.\n",
      "\n",
      "\n",
      "  df[col].fillna(numeric_col.median(), inplace=True)  # Impute with median\n",
      "C:\\Users\\anant\\AppData\\Local\\Temp\\ipykernel_13756\\1825715321.py:17: FutureWarning: A value is trying to be set on a copy of a DataFrame or Series through chained assignment using an inplace method.\n",
      "The behavior will change in pandas 3.0. This inplace method will never work because the intermediate object on which we are setting values always behaves as a copy.\n",
      "\n",
      "For example, when doing 'df[col].method(value, inplace=True)', try using 'df.method({col: value}, inplace=True)' or df[col] = df[col].method(value) instead, to perform the operation inplace on the original object.\n",
      "\n",
      "\n",
      "  df[col].fillna(numeric_col.median(), inplace=True)  # Impute with median\n",
      "C:\\Users\\anant\\AppData\\Local\\Temp\\ipykernel_13756\\1825715321.py:17: FutureWarning: A value is trying to be set on a copy of a DataFrame or Series through chained assignment using an inplace method.\n",
      "The behavior will change in pandas 3.0. This inplace method will never work because the intermediate object on which we are setting values always behaves as a copy.\n",
      "\n",
      "For example, when doing 'df[col].method(value, inplace=True)', try using 'df.method({col: value}, inplace=True)' or df[col] = df[col].method(value) instead, to perform the operation inplace on the original object.\n",
      "\n",
      "\n",
      "  df[col].fillna(numeric_col.median(), inplace=True)  # Impute with median\n",
      "C:\\Users\\anant\\AppData\\Local\\Temp\\ipykernel_13756\\1825715321.py:17: FutureWarning: A value is trying to be set on a copy of a DataFrame or Series through chained assignment using an inplace method.\n",
      "The behavior will change in pandas 3.0. This inplace method will never work because the intermediate object on which we are setting values always behaves as a copy.\n",
      "\n",
      "For example, when doing 'df[col].method(value, inplace=True)', try using 'df.method({col: value}, inplace=True)' or df[col] = df[col].method(value) instead, to perform the operation inplace on the original object.\n",
      "\n",
      "\n",
      "  df[col].fillna(numeric_col.median(), inplace=True)  # Impute with median\n",
      "C:\\Users\\anant\\AppData\\Local\\Temp\\ipykernel_13756\\1825715321.py:17: FutureWarning: A value is trying to be set on a copy of a DataFrame or Series through chained assignment using an inplace method.\n",
      "The behavior will change in pandas 3.0. This inplace method will never work because the intermediate object on which we are setting values always behaves as a copy.\n",
      "\n",
      "For example, when doing 'df[col].method(value, inplace=True)', try using 'df.method({col: value}, inplace=True)' or df[col] = df[col].method(value) instead, to perform the operation inplace on the original object.\n",
      "\n",
      "\n",
      "  df[col].fillna(numeric_col.median(), inplace=True)  # Impute with median\n",
      "C:\\Users\\anant\\AppData\\Local\\Temp\\ipykernel_13756\\1825715321.py:17: FutureWarning: A value is trying to be set on a copy of a DataFrame or Series through chained assignment using an inplace method.\n",
      "The behavior will change in pandas 3.0. This inplace method will never work because the intermediate object on which we are setting values always behaves as a copy.\n",
      "\n",
      "For example, when doing 'df[col].method(value, inplace=True)', try using 'df.method({col: value}, inplace=True)' or df[col] = df[col].method(value) instead, to perform the operation inplace on the original object.\n",
      "\n",
      "\n",
      "  df[col].fillna(numeric_col.median(), inplace=True)  # Impute with median\n",
      "C:\\Users\\anant\\AppData\\Local\\Temp\\ipykernel_13756\\1825715321.py:17: FutureWarning: A value is trying to be set on a copy of a DataFrame or Series through chained assignment using an inplace method.\n",
      "The behavior will change in pandas 3.0. This inplace method will never work because the intermediate object on which we are setting values always behaves as a copy.\n",
      "\n",
      "For example, when doing 'df[col].method(value, inplace=True)', try using 'df.method({col: value}, inplace=True)' or df[col] = df[col].method(value) instead, to perform the operation inplace on the original object.\n",
      "\n",
      "\n",
      "  df[col].fillna(numeric_col.median(), inplace=True)  # Impute with median\n",
      "C:\\Users\\anant\\AppData\\Local\\Temp\\ipykernel_13756\\1825715321.py:17: FutureWarning: A value is trying to be set on a copy of a DataFrame or Series through chained assignment using an inplace method.\n",
      "The behavior will change in pandas 3.0. This inplace method will never work because the intermediate object on which we are setting values always behaves as a copy.\n",
      "\n",
      "For example, when doing 'df[col].method(value, inplace=True)', try using 'df.method({col: value}, inplace=True)' or df[col] = df[col].method(value) instead, to perform the operation inplace on the original object.\n",
      "\n",
      "\n",
      "  df[col].fillna(numeric_col.median(), inplace=True)  # Impute with median\n",
      "C:\\Users\\anant\\AppData\\Local\\Temp\\ipykernel_13756\\1825715321.py:17: FutureWarning: A value is trying to be set on a copy of a DataFrame or Series through chained assignment using an inplace method.\n",
      "The behavior will change in pandas 3.0. This inplace method will never work because the intermediate object on which we are setting values always behaves as a copy.\n",
      "\n",
      "For example, when doing 'df[col].method(value, inplace=True)', try using 'df.method({col: value}, inplace=True)' or df[col] = df[col].method(value) instead, to perform the operation inplace on the original object.\n",
      "\n",
      "\n",
      "  df[col].fillna(numeric_col.median(), inplace=True)  # Impute with median\n",
      "C:\\Users\\anant\\AppData\\Local\\Temp\\ipykernel_13756\\1825715321.py:17: FutureWarning: A value is trying to be set on a copy of a DataFrame or Series through chained assignment using an inplace method.\n",
      "The behavior will change in pandas 3.0. This inplace method will never work because the intermediate object on which we are setting values always behaves as a copy.\n",
      "\n",
      "For example, when doing 'df[col].method(value, inplace=True)', try using 'df.method({col: value}, inplace=True)' or df[col] = df[col].method(value) instead, to perform the operation inplace on the original object.\n",
      "\n",
      "\n",
      "  df[col].fillna(numeric_col.median(), inplace=True)  # Impute with median\n",
      "C:\\Users\\anant\\AppData\\Local\\Temp\\ipykernel_13756\\1825715321.py:17: FutureWarning: A value is trying to be set on a copy of a DataFrame or Series through chained assignment using an inplace method.\n",
      "The behavior will change in pandas 3.0. This inplace method will never work because the intermediate object on which we are setting values always behaves as a copy.\n",
      "\n",
      "For example, when doing 'df[col].method(value, inplace=True)', try using 'df.method({col: value}, inplace=True)' or df[col] = df[col].method(value) instead, to perform the operation inplace on the original object.\n",
      "\n",
      "\n",
      "  df[col].fillna(numeric_col.median(), inplace=True)  # Impute with median\n",
      "C:\\Users\\anant\\AppData\\Local\\Temp\\ipykernel_13756\\1825715321.py:17: FutureWarning: A value is trying to be set on a copy of a DataFrame or Series through chained assignment using an inplace method.\n",
      "The behavior will change in pandas 3.0. This inplace method will never work because the intermediate object on which we are setting values always behaves as a copy.\n",
      "\n",
      "For example, when doing 'df[col].method(value, inplace=True)', try using 'df.method({col: value}, inplace=True)' or df[col] = df[col].method(value) instead, to perform the operation inplace on the original object.\n",
      "\n",
      "\n",
      "  df[col].fillna(numeric_col.median(), inplace=True)  # Impute with median\n",
      "C:\\Users\\anant\\AppData\\Local\\Temp\\ipykernel_13756\\1825715321.py:17: FutureWarning: A value is trying to be set on a copy of a DataFrame or Series through chained assignment using an inplace method.\n",
      "The behavior will change in pandas 3.0. This inplace method will never work because the intermediate object on which we are setting values always behaves as a copy.\n",
      "\n",
      "For example, when doing 'df[col].method(value, inplace=True)', try using 'df.method({col: value}, inplace=True)' or df[col] = df[col].method(value) instead, to perform the operation inplace on the original object.\n",
      "\n",
      "\n",
      "  df[col].fillna(numeric_col.median(), inplace=True)  # Impute with median\n",
      "C:\\Users\\anant\\AppData\\Local\\Temp\\ipykernel_13756\\1825715321.py:17: FutureWarning: A value is trying to be set on a copy of a DataFrame or Series through chained assignment using an inplace method.\n",
      "The behavior will change in pandas 3.0. This inplace method will never work because the intermediate object on which we are setting values always behaves as a copy.\n",
      "\n",
      "For example, when doing 'df[col].method(value, inplace=True)', try using 'df.method({col: value}, inplace=True)' or df[col] = df[col].method(value) instead, to perform the operation inplace on the original object.\n",
      "\n",
      "\n",
      "  df[col].fillna(numeric_col.median(), inplace=True)  # Impute with median\n",
      "C:\\Users\\anant\\AppData\\Local\\Temp\\ipykernel_13756\\1825715321.py:17: FutureWarning: A value is trying to be set on a copy of a DataFrame or Series through chained assignment using an inplace method.\n",
      "The behavior will change in pandas 3.0. This inplace method will never work because the intermediate object on which we are setting values always behaves as a copy.\n",
      "\n",
      "For example, when doing 'df[col].method(value, inplace=True)', try using 'df.method({col: value}, inplace=True)' or df[col] = df[col].method(value) instead, to perform the operation inplace on the original object.\n",
      "\n",
      "\n",
      "  df[col].fillna(numeric_col.median(), inplace=True)  # Impute with median\n",
      "C:\\Users\\anant\\AppData\\Local\\Temp\\ipykernel_13756\\1825715321.py:17: FutureWarning: A value is trying to be set on a copy of a DataFrame or Series through chained assignment using an inplace method.\n",
      "The behavior will change in pandas 3.0. This inplace method will never work because the intermediate object on which we are setting values always behaves as a copy.\n",
      "\n",
      "For example, when doing 'df[col].method(value, inplace=True)', try using 'df.method({col: value}, inplace=True)' or df[col] = df[col].method(value) instead, to perform the operation inplace on the original object.\n",
      "\n",
      "\n",
      "  df[col].fillna(numeric_col.median(), inplace=True)  # Impute with median\n",
      "C:\\Users\\anant\\AppData\\Local\\Temp\\ipykernel_13756\\1825715321.py:17: FutureWarning: A value is trying to be set on a copy of a DataFrame or Series through chained assignment using an inplace method.\n",
      "The behavior will change in pandas 3.0. This inplace method will never work because the intermediate object on which we are setting values always behaves as a copy.\n",
      "\n",
      "For example, when doing 'df[col].method(value, inplace=True)', try using 'df.method({col: value}, inplace=True)' or df[col] = df[col].method(value) instead, to perform the operation inplace on the original object.\n",
      "\n",
      "\n",
      "  df[col].fillna(numeric_col.median(), inplace=True)  # Impute with median\n",
      "C:\\Users\\anant\\AppData\\Local\\Temp\\ipykernel_13756\\1825715321.py:17: FutureWarning: A value is trying to be set on a copy of a DataFrame or Series through chained assignment using an inplace method.\n",
      "The behavior will change in pandas 3.0. This inplace method will never work because the intermediate object on which we are setting values always behaves as a copy.\n",
      "\n",
      "For example, when doing 'df[col].method(value, inplace=True)', try using 'df.method({col: value}, inplace=True)' or df[col] = df[col].method(value) instead, to perform the operation inplace on the original object.\n",
      "\n",
      "\n",
      "  df[col].fillna(numeric_col.median(), inplace=True)  # Impute with median\n",
      "C:\\Users\\anant\\AppData\\Local\\Temp\\ipykernel_13756\\1825715321.py:17: FutureWarning: A value is trying to be set on a copy of a DataFrame or Series through chained assignment using an inplace method.\n",
      "The behavior will change in pandas 3.0. This inplace method will never work because the intermediate object on which we are setting values always behaves as a copy.\n",
      "\n",
      "For example, when doing 'df[col].method(value, inplace=True)', try using 'df.method({col: value}, inplace=True)' or df[col] = df[col].method(value) instead, to perform the operation inplace on the original object.\n",
      "\n",
      "\n",
      "  df[col].fillna(numeric_col.median(), inplace=True)  # Impute with median\n",
      "C:\\Users\\anant\\AppData\\Local\\Temp\\ipykernel_13756\\1825715321.py:17: FutureWarning: A value is trying to be set on a copy of a DataFrame or Series through chained assignment using an inplace method.\n",
      "The behavior will change in pandas 3.0. This inplace method will never work because the intermediate object on which we are setting values always behaves as a copy.\n",
      "\n",
      "For example, when doing 'df[col].method(value, inplace=True)', try using 'df.method({col: value}, inplace=True)' or df[col] = df[col].method(value) instead, to perform the operation inplace on the original object.\n",
      "\n",
      "\n",
      "  df[col].fillna(numeric_col.median(), inplace=True)  # Impute with median\n",
      "C:\\Users\\anant\\AppData\\Local\\Temp\\ipykernel_13756\\1825715321.py:17: FutureWarning: A value is trying to be set on a copy of a DataFrame or Series through chained assignment using an inplace method.\n",
      "The behavior will change in pandas 3.0. This inplace method will never work because the intermediate object on which we are setting values always behaves as a copy.\n",
      "\n",
      "For example, when doing 'df[col].method(value, inplace=True)', try using 'df.method({col: value}, inplace=True)' or df[col] = df[col].method(value) instead, to perform the operation inplace on the original object.\n",
      "\n",
      "\n",
      "  df[col].fillna(numeric_col.median(), inplace=True)  # Impute with median\n"
     ]
    },
    {
     "name": "stdout",
     "output_type": "stream",
     "text": [
      "      Power Windows Front  Power Windows Rear  Remote Trunk Opener  \\\n",
      "0                       1                   1                    1   \n",
      "1                       1                   1                    1   \n",
      "2                       1                   1                    1   \n",
      "3                       1                   1                    1   \n",
      "4                       1                   1                    1   \n",
      "...                   ...                 ...                  ...   \n",
      "8364                    1                   1                    0   \n",
      "8365                    1                   0                    1   \n",
      "8366                    1                   1                    1   \n",
      "8367                    1                   1                    1   \n",
      "8368                    1                   1                    1   \n",
      "\n",
      "      Remote Fuel Lid Opener  Low Fuel Warning Light  Accessory Power Outlet  \\\n",
      "0                          1                       1                       1   \n",
      "1                          1                       1                       1   \n",
      "2                          1                       1                       1   \n",
      "3                          0                       1                       1   \n",
      "4                          1                       1                       1   \n",
      "...                      ...                     ...                     ...   \n",
      "8364                       0                       1                       1   \n",
      "8365                       1                       1                       0   \n",
      "8366                       1                       1                       1   \n",
      "8367                       1                       1                       1   \n",
      "8368                       0                       1                       1   \n",
      "\n",
      "      Vanity Mirror  Rear Seat Headrest  Cup Holders Front  Air Conditioner  \\\n",
      "0                 1                   1                  1                1   \n",
      "1                 1                   1                  1                1   \n",
      "2                 1                   1                  1                1   \n",
      "3                 1                   1                  1                1   \n",
      "4                 1                   1                  1                1   \n",
      "...             ...                 ...                ...              ...   \n",
      "8364              1                   1                  1                1   \n",
      "8365              0                   1                  1                1   \n",
      "8366              1                   1                  1                1   \n",
      "8367              1                   1                  1                1   \n",
      "8368              1                   1                  1                1   \n",
      "\n",
      "      ...  Sos Emergency Assistance  Cassette Player  Find My Car Location  \\\n",
      "0     ...                         0                0                     0   \n",
      "1     ...                         0                0                     0   \n",
      "2     ...                         0                0                     0   \n",
      "3     ...                         0                0                     0   \n",
      "4     ...                         0                0                     0   \n",
      "...   ...                       ...              ...                   ...   \n",
      "8364  ...                         0                0                     0   \n",
      "8365  ...                         0                0                     0   \n",
      "8366  ...                         0                0                     0   \n",
      "8367  ...                         0                0                     0   \n",
      "8368  ...                         0                0                     0   \n",
      "\n",
      "      Wifi Connectivity  Headlamp Washers  Real Time Vehicle Tracking  \\\n",
      "0                     0              0.00                           0   \n",
      "1                     0              0.00                           0   \n",
      "2                     0              0.00                           0   \n",
      "3                     0              0.00                           0   \n",
      "4                     0              0.00                           0   \n",
      "...                 ...               ...                         ...   \n",
      "8364                  0              0.00                           0   \n",
      "8365                  0              0.00                           0   \n",
      "8366                  0              0.00                           0   \n",
      "8367                  0              0.00                           0   \n",
      "8368                  0              0.00                           0   \n",
      "\n",
      "      Roof Carrier  Smart Key Band  Lane Watch Camera  \\\n",
      "0                0            0.00                  0   \n",
      "1                0            0.00                  0   \n",
      "2                0            0.00                  0   \n",
      "3                0            0.00                  0   \n",
      "4                0            0.00                  0   \n",
      "...            ...             ...                ...   \n",
      "8364             0            0.00                  0   \n",
      "8365             0            0.00                  0   \n",
      "8366             0            0.00                  0   \n",
      "8367             0            0.00                  0   \n",
      "8368             0            0.00                  0   \n",
      "\n",
      "      Removable Convertible Top  \n",
      "0                             0  \n",
      "1                             0  \n",
      "2                             0  \n",
      "3                             0  \n",
      "4                             0  \n",
      "...                         ...  \n",
      "8364                          0  \n",
      "8365                          0  \n",
      "8366                          0  \n",
      "8367                          0  \n",
      "8368                          0  \n",
      "\n",
      "[8369 rows x 171 columns]\n",
      "\n",
      "Skewness after imputation:\n",
      "Power Windows Front: -4.08084506085285\n",
      "Power Windows Rear: -1.9438940629070665\n",
      "Remote Trunk Opener: -0.37064563157486413\n",
      "Remote Fuel Lid Opener: -0.11946215172281772\n",
      "Low Fuel Warning Light: -5.1888245897719\n",
      "Accessory Power Outlet: -2.9444761174575103\n",
      "Vanity Mirror: -1.1659635496380298\n",
      "Rear Seat Headrest: -4.014864968574679\n",
      "Cup Holders Front: -1.7343783223429117\n",
      "Air Conditioner: -7.371544809973116\n",
      "Heater: -6.463502590921799\n",
      "Digital Odometer: -1.998124498766142\n",
      "Electronic Multi Tripmeter: -3.229345789076908\n",
      "Fabric Upholstery: -1.1959064289507035\n",
      "Glove Compartment: -7.99794739557939\n",
      "Digital Clock: -2.0816863184723697\n",
      "Adjustable Head Lights: -3.436126614028004\n",
      "Manually Adjustable Exterior Rear View Mirror: 1.473921138446601\n",
      "Wheel Covers: 0.5118601219949545\n",
      "Power Antenna: 0.2375281145042139\n",
      "Chrome Grille: -0.21900962169735855\n",
      "Centeral Locking: -3.1008361929217227\n",
      "Child Safety Locks: -2.855683877124383\n",
      "Day Night Rear View Mirror: -0.7594683504253453\n",
      "Passenger Side Rear View Mirror: -4.920394961896173\n",
      "Halogen Headlamps: -0.9474802466974812\n",
      "Rear Seat Belts: -6.21783114499149\n",
      "Door Ajar Warning: -1.0406636232420252\n",
      "Side Impact Beams: -1.5775626747450253\n",
      "Front Impact Beams: -1.2458668904144528\n",
      "Adjustable Seats: -4.476296440364576\n",
      "Centrally Mounted Fuel Tank: -1.237293898419435\n",
      "Engine Immobilizer: -3.050682632814401\n",
      "Anti Theft Device: -0.6634473749267467\n",
      "Trunk Light: -0.1060155189676363\n",
      "Multifunction Steering Wheel: -0.943599192684394\n",
      "Navigation System: 0.760638643866947\n",
      "Smart Access Card Entry: 1.1913772350193446\n",
      "Engine Start Stop Button: 0.6606542322254862\n",
      "Gear Shift Indicator: 0.9008378064361642\n",
      "Luggage Hook And Net: 3.1621275131242617\n",
      "Adjustable Steering: -1.5367017202595\n",
      "Tachometer: -2.093234107500426\n",
      "Leather Steering Wheel: 0.4177128578605896\n",
      "Outside Temperature Display: 0.5783898128857142\n",
      "Height Adjustable Driver Seat: -0.1758460409220808\n",
      "Fog Lights Front: -0.5129116698384732\n",
      "Power Adjustable Exterior Rear View Mirror: -1.4858826574493706\n",
      "Electric Folding Rear View Mirror: -0.133887242116726\n",
      "Rear Window Wiper: 0.4371336740247708\n",
      "Rear Window Washer: 0.6301549606957685\n",
      "Rear Window Defogger: -0.7006530089588543\n",
      "Alloy Wheels: -0.14351540101693686\n",
      "Integrated Antenna: 0.05139705647638382\n",
      "Outside Rear View Mirror Turn Indicators: -0.6000504605037125\n",
      "Roof Rail: 0.991428521969937\n",
      "Anti Lock Braking System: -1.6464178579685125\n",
      "Power Door Locks: -1.6589385745328216\n",
      "Driver Air Bag: -1.642269804601937\n",
      "Passenger Air Bag: -1.1607833851621907\n",
      "Seat Belt Warning: -1.9994751414635394\n",
      "Keyless Entry: -1.582509046486272\n",
      "Engine Check Warning: -0.6274022628277675\n",
      "Crash Sensor: -1.2380712240427934\n",
      "Ebd: -0.8110281879831311\n",
      "Follow Me Home Headlamps: 1.1719052646261634\n",
      "Rear Camera: 0.46959601742655394\n",
      "Speed Sensing Auto Door Lock: 0.5800077892661138\n",
      "Pretensioners And Force Limiter Seatbelts: 0.5940746952601486\n",
      "Impact Sensing Auto Door Lock: 1.5706675951612363\n",
      "No Of Airbags: 0.17729670077539317\n",
      "Cd Player: 0.17391225571505714\n",
      "Radio: -1.8917824568868828\n",
      "Speakers Front: -2.0267793491581263\n",
      "Speakers Rear: -1.4164788331936982\n",
      "Integrated2Din Audio: -0.5045103811012706\n",
      "Usb Auxiliary Input: -0.7776854563187303\n",
      "Bluetooth: -0.7379391863850966\n",
      "Touch Screen: 0.3520881312056716\n",
      "Number Of Speaker: -0.05857451333373033\n",
      "Glove Box Cooling: 1.309760309065798\n",
      "Driving Experience Control Eco: 1.77032273526585\n",
      "Tinted Glass: 0.6961091221423548\n",
      "Rear Spoiler: 0.42945372411273874\n",
      "Chrome Garnish: 1.0999367623935643\n",
      "Vehicle Stability Control System: 1.4575263946281198\n",
      "Rear Reading Lamp: 0.4721872331080348\n",
      "Rear Seat Centre Arm Rest: 0.18165035591820675\n",
      "Cup Holders Rear: 0.10265617016182131\n",
      "Rear ACVents: 0.11561868815240683\n",
      "Air Quality Control: 0.6318081437546517\n",
      "Height Adjustable Front Seat Belts: 0.832165087234426\n",
      "Cruise Control: 0.8297374578760839\n",
      "Voice Control: 0.7747358938510381\n",
      "Audio System Remote Control: 1.6156114020808499\n",
      "Leather Seats: 1.1898705063555366\n",
      "Fog Lights Rear: 1.5696854063264194\n",
      "Traction Control: 1.7703227352658508\n",
      "Seat Lumbar Support: 0.6334625051952671\n",
      "Battery Saver: 2.6336501366069696\n",
      "Lane Change Indicator: 1.5746033956621677\n",
      "Sun Roof: 1.5195540656622206\n",
      "Automatic Driving Lights: 3.5858299879332596\n",
      "Anti Theft Alarm: 0.27917736701255175\n",
      "Automatic Head Lamps: 1.141694033417542\n",
      "Isofix Child Seat Mounts: 0.63070589104347\n",
      "Hill Assist: 1.7657767820460777\n",
      "Tailgate Ajar: 1.829675574988463\n",
      "Steering Wheel Gearshift Paddles: 2.8108297584124986\n",
      "LEDTaillights: 1.7829040347253555\n",
      "Brake Assist: 0.8895238616108103\n",
      "Cigarette Lighter: 2.0532466719423397\n",
      "Rain Sensing Wiper: 1.506362387571432\n",
      "Drive Modes: 2.73910541304861\n",
      "Active Noise Cancellation: 13.68246435185676\n",
      "Adjustable Headrest: 1.294331707605537\n",
      "Hands Free Tailgate: 4.965684961234293\n",
      "Dual Tone Dashboard: 1.2838684079495706\n",
      "Leather Wrap Gear Shift Selector: 3.8217161496016057\n",
      "Dual Tone Body Colour: 8.758850815962203\n",
      "LEDDRLs: 1.9464889074817922\n",
      "LEDHeadlights: 2.8059327048503415\n",
      "Cornering Headlamps: 7.094001046479135\n",
      "Cornering Foglamps: 5.648040125567058\n",
      "Side Air Bag Front: 1.3595890263812875\n",
      "Side Air Bag Rear: 3.355680405973393\n",
      "Tyre Pressure Monitor: 1.6993682555953162\n",
      "Clutch Lock: 4.799030958662736\n",
      "Anti Pinch Power Windows: 2.351472730395523\n",
      "Knee Airbags: 5.753415298636212\n",
      "Apple Car Play: 1.7714616313092009\n",
      "Android Auto: 1.7669118291167931\n",
      "Mirror Link: 12.692681769320645\n",
      "Wireless Phone Charging: 3.715042459418568\n",
      "Compass: 11.303686619907847\n",
      "Moon Roof: 2.1210672385295974\n",
      "Projector Headlamps: 2.7745100960944806\n",
      "Speed Alert: 1.2967569808159318\n",
      "Eletronic Stability Control: 2.1956429372107293\n",
      "Touch Screen Size: 2.9471730273730845\n",
      "Xenon Headlamps: 3.249123001621028\n",
      "Cd Changer: 5.138109292828064\n",
      "Power Boot: 2.517669528852195\n",
      "Rear Folding Table: 7.99794739557939\n",
      "Smoke Headlamps: 2.5457604367570106\n",
      "Dvd Player: 3.87038368126887\n",
      "Internal Storage: 5.7805895479281535\n",
      "Rear Entertainment System: 9.953435116885363\n",
      "Remote Engine Start Stop: 5.240868540352737\n",
      "Ventilated Seats: 4.555463996520896\n",
      "LEDFog Lamps: 3.9722814884478104\n",
      "View360Camera: 4.8414873763824895\n",
      "Geo Fence Alert: 5.67389956190892\n",
      "Steering Mounted Tripmeter: 7.899262281733625\n",
      "Remote Climate Control: 8.549569403516614\n",
      "Remote Horn Light Control: 8.891645394414459\n",
      "Heated Wing Mirror: 6.285406924644009\n",
      "Side Stepper: 4.80744597226296\n",
      "Blind Spot Monitor: 6.35502163455522\n",
      "Hill Descent Control: 4.562836275835936\n",
      "Heads Up Display: 8.100194683703114\n",
      "Sos Emergency Assistance: 8.549569403516616\n",
      "Cassette Player: 18.59331087533822\n",
      "Find My Car Location: 5.921816129235765\n",
      "Wifi Connectivity: 9.770828228610611\n",
      "Headlamp Washers: 18.996639729924823\n",
      "Real Time Vehicle Tracking: 9.379685839231666\n",
      "Roof Carrier: 14.181920686928445\n",
      "Smart Key Band: 24.388263364352966\n",
      "Lane Watch Camera: 17.201634051871302\n",
      "Removable Convertible Top: 17.201634051871302\n"
     ]
    }
   ],
   "source": [
    "start_col_index = df.columns.get_loc('Power Steering')\n",
    "end_col_index = df.columns.get_loc('Power Folding3rd Row Seat')\n",
    "\n",
    "# Select all columns between \"Power Steering\" and \"Power Folding3rd Row Seat\"\n",
    "columns_to_impute = df.columns[start_col_index + 1:end_col_index]\n",
    "\n",
    "# Loop through each selected column for imputation\n",
    "for col in columns_to_impute:\n",
    "    # Calculate skewness after converting to numeric\n",
    "    skewness_value = skew(pd.to_numeric(df[col], errors='coerce').dropna())\n",
    "    \n",
    "    # Convert column to numeric\n",
    "    numeric_col = pd.to_numeric(df[col], errors='coerce')\n",
    "    \n",
    "    # Impute missing values based on skewness\n",
    "    if skewness_value < -0.5 or skewness_value > 0.5:  # Negatively or positively skewed\n",
    "        df[col].fillna(numeric_col.median(), inplace=True)  # Impute with median\n",
    "    elif -0.5 <= skewness_value <= 0.5:  # Approximately symmetric\n",
    "        df[col].fillna(numeric_col.mean(), inplace=True)  # Impute with mean\n",
    "    else:\n",
    "        df[col].fillna(numeric_col.mode()[0], inplace=True)  # Impute with mode\n",
    "\n",
    "# Display the imputed DataFrame (optional)\n",
    "print(df[columns_to_impute])  # Only display the columns that were imputed\n",
    "\n",
    "# Check skewness after imputation for the selected columns\n",
    "print(\"\\nSkewness after imputation:\")\n",
    "for column in columns_to_impute:\n",
    "    numeric_data = pd.to_numeric(df[column], errors='coerce')  # Convert to numeric\n",
    "    print(f\"{column}: {skew(numeric_data.dropna())}\")"
   ]
  },
  {
   "cell_type": "code",
   "execution_count": 1724,
   "id": "1596604d-88d8-4c1a-aa65-976f83898380",
   "metadata": {},
   "outputs": [
    {
     "data": {
      "text/plain": [
       "np.int64(2501)"
      ]
     },
     "execution_count": 1724,
     "metadata": {},
     "output_type": "execute_result"
    }
   ],
   "source": [
    "df['Power Folding3rd Row Seat'].isnull().sum()"
   ]
  },
  {
   "cell_type": "code",
   "execution_count": 1725,
   "id": "1dd094ec-c3c3-47da-94bd-92339c3e62cf",
   "metadata": {},
   "outputs": [
    {
     "data": {
      "text/plain": [
       "np.int64(287)"
      ]
     },
     "execution_count": 1725,
     "metadata": {},
     "output_type": "execute_result"
    }
   ],
   "source": [
    "df['Mileage'].isnull().sum()"
   ]
  },
  {
   "cell_type": "code",
   "execution_count": 1726,
   "id": "05ac17bf-317d-4083-848f-365cf3dcc289",
   "metadata": {},
   "outputs": [
    {
     "name": "stdout",
     "output_type": "stream",
     "text": [
      "<class 'pandas.core.series.Series'>\n",
      "RangeIndex: 8369 entries, 0 to 8368\n",
      "Series name: Mileage\n",
      "Non-Null Count  Dtype \n",
      "--------------  ----- \n",
      "8082 non-null   object\n",
      "dtypes: object(1)\n",
      "memory usage: 65.5+ KB\n"
     ]
    }
   ],
   "source": [
    "df['Mileage'].info()"
   ]
  },
  {
   "cell_type": "code",
   "execution_count": 1727,
   "id": "853031c3-1d3a-40b7-80bf-4e13dd051f37",
   "metadata": {},
   "outputs": [],
   "source": [
    "df['Mileage']=df['Mileage'].str.replace(' kmpl','')"
   ]
  },
  {
   "cell_type": "code",
   "execution_count": 1728,
   "id": "2de4f325-bd28-46bc-aa28-f5b64d22c8b2",
   "metadata": {},
   "outputs": [
    {
     "data": {
      "text/plain": [
       "0        23.1\n",
       "1          17\n",
       "2       23.84\n",
       "3        19.1\n",
       "4       23.65\n",
       "        ...  \n",
       "8364    25.24\n",
       "8365    22.74\n",
       "8366    11.74\n",
       "8367     18.5\n",
       "8368    19.72\n",
       "Name: Mileage, Length: 8369, dtype: object"
      ]
     },
     "execution_count": 1728,
     "metadata": {},
     "output_type": "execute_result"
    }
   ],
   "source": [
    "df['Mileage']"
   ]
  },
  {
   "cell_type": "code",
   "execution_count": 1729,
   "id": "ae30cb95-111b-4cb0-83e4-66c543dc7bfb",
   "metadata": {},
   "outputs": [],
   "source": [
    "df['Mileage']=df['Mileage'].str.replace(' km/kg','')"
   ]
  },
  {
   "cell_type": "code",
   "execution_count": 1730,
   "id": "f59883a8-47af-49b8-807d-ff64b18b4bd3",
   "metadata": {},
   "outputs": [],
   "source": [
    "df['Mileage']=df['Mileage'].astype(float)"
   ]
  },
  {
   "cell_type": "code",
   "execution_count": 1731,
   "id": "c4dafa5f-0ad4-4bf0-9b8f-eff3d1070378",
   "metadata": {},
   "outputs": [
    {
     "data": {
      "text/plain": [
       "np.int64(287)"
      ]
     },
     "execution_count": 1731,
     "metadata": {},
     "output_type": "execute_result"
    }
   ],
   "source": [
    "df['Mileage'].isnull().sum()"
   ]
  },
  {
   "cell_type": "code",
   "execution_count": 1732,
   "id": "a46648c6-1ed7-4ef8-977e-18d91e873d41",
   "metadata": {},
   "outputs": [
    {
     "data": {
      "text/plain": [
       "np.float64(4.86096771732891)"
      ]
     },
     "execution_count": 1732,
     "metadata": {},
     "output_type": "execute_result"
    }
   ],
   "source": [
    "df['Mileage'].skew()"
   ]
  },
  {
   "cell_type": "code",
   "execution_count": 1733,
   "id": "21076ae8-3d88-40ea-a47c-0b05ff201b61",
   "metadata": {},
   "outputs": [],
   "source": [
    "imputer=SimpleImputer(strategy='median')\n",
    "df['Mileage']=imputer.fit_transform(df[['Mileage']])"
   ]
  },
  {
   "cell_type": "code",
   "execution_count": 1734,
   "id": "78b8527f-6f17-403b-9918-b156c84c4717",
   "metadata": {},
   "outputs": [
    {
     "data": {
      "text/plain": [
       "np.int64(4)"
      ]
     },
     "execution_count": 1734,
     "metadata": {},
     "output_type": "execute_result"
    }
   ],
   "source": [
    "df['Engine'].isnull().sum()"
   ]
  },
  {
   "cell_type": "code",
   "execution_count": 1735,
   "id": "f852d1ea-2fab-4edb-b16d-8d31e0370563",
   "metadata": {},
   "outputs": [],
   "source": [
    "df['Engine']=df['Engine'].str.replace(' CC','')"
   ]
  },
  {
   "cell_type": "code",
   "execution_count": 1736,
   "id": "ec47d263-9e1b-443d-9461-003745e7c306",
   "metadata": {},
   "outputs": [
    {
     "name": "stdout",
     "output_type": "stream",
     "text": [
      "<class 'pandas.core.series.Series'>\n",
      "RangeIndex: 8369 entries, 0 to 8368\n",
      "Series name: Engine\n",
      "Non-Null Count  Dtype \n",
      "--------------  ----- \n",
      "8365 non-null   object\n",
      "dtypes: object(1)\n",
      "memory usage: 65.5+ KB\n"
     ]
    }
   ],
   "source": [
    "df['Engine'].info()"
   ]
  },
  {
   "cell_type": "code",
   "execution_count": 1737,
   "id": "80e27ee9-4f32-4b9f-9c0c-aba7c4609927",
   "metadata": {},
   "outputs": [
    {
     "data": {
      "text/plain": [
       "0        998\n",
       "1       1497\n",
       "2       1199\n",
       "3       1197\n",
       "4       1248\n",
       "        ... \n",
       "8364     998\n",
       "8365     796\n",
       "8366    1796\n",
       "8367    1197\n",
       "8368    1461\n",
       "Name: Engine, Length: 8369, dtype: object"
      ]
     },
     "execution_count": 1737,
     "metadata": {},
     "output_type": "execute_result"
    }
   ],
   "source": [
    "df['Engine']"
   ]
  },
  {
   "cell_type": "code",
   "execution_count": 1738,
   "id": "6069f7a2-3201-4f31-86b1-a6b2fc8bb0c0",
   "metadata": {},
   "outputs": [],
   "source": [
    "df['Engine']=df['Engine'].astype(float)"
   ]
  },
  {
   "cell_type": "code",
   "execution_count": 1739,
   "id": "9d41d042-4a05-4a12-abd6-93b9a7a68815",
   "metadata": {},
   "outputs": [
    {
     "data": {
      "text/plain": [
       "np.float64(1.6150226131267023)"
      ]
     },
     "execution_count": 1739,
     "metadata": {},
     "output_type": "execute_result"
    }
   ],
   "source": [
    "df['Engine'].skew()"
   ]
  },
  {
   "cell_type": "code",
   "execution_count": null,
   "id": "7299ed6a-6cba-426c-a9e7-26035b112699",
   "metadata": {},
   "outputs": [],
   "source": []
  },
  {
   "cell_type": "code",
   "execution_count": 1740,
   "id": "cbdf1484-3cc1-4b1a-87f8-88891f26bf5d",
   "metadata": {},
   "outputs": [],
   "source": [
    "imputer=SimpleImputer(strategy='mean')\n",
    "df['Engine']=imputer.fit_transform(df[['Engine']])"
   ]
  },
  {
   "cell_type": "code",
   "execution_count": 1741,
   "id": "0255b5b4-bf86-405a-8181-4763e30436f2",
   "metadata": {},
   "outputs": [
    {
     "data": {
      "text/plain": [
       "np.int64(0)"
      ]
     },
     "execution_count": 1741,
     "metadata": {},
     "output_type": "execute_result"
    }
   ],
   "source": [
    "df['Engine'].isnull().sum()"
   ]
  },
  {
   "cell_type": "code",
   "execution_count": 1742,
   "id": "2eea7b34-9b9f-4d4b-8b22-205c5cceaded",
   "metadata": {},
   "outputs": [],
   "source": [
    "df['Engine']=df['Engine'].astype(int)"
   ]
  },
  {
   "cell_type": "code",
   "execution_count": 1743,
   "id": "fa2e6abe-97ea-47c4-8b13-64beca6f92ab",
   "metadata": {},
   "outputs": [],
   "source": [
    "df['RPM']=df['Max Power'].str.split('@').str[1]"
   ]
  },
  {
   "cell_type": "code",
   "execution_count": 1744,
   "id": "14f64aa2-059c-4fab-a992-db28c31ecaf4",
   "metadata": {},
   "outputs": [
    {
     "data": {
      "text/plain": [
       "0        67.04bhp@6000rpm\n",
       "1       121.31bhp@6500rpm\n",
       "2           84bhp@6000rpm\n",
       "3        81.86bhp@6000rpm\n",
       "4         88.5bhp@4000rpm\n",
       "              ...        \n",
       "8364     65.71bhp@5500rpm\n",
       "8365      47.3bhp@6000rpm\n",
       "8366       186bhp@5600rpm\n",
       "8367     85.80bhp@6000rpm\n",
       "8368    108.45bhp@4000rpm\n",
       "Name: Max Power, Length: 8369, dtype: object"
      ]
     },
     "execution_count": 1744,
     "metadata": {},
     "output_type": "execute_result"
    }
   ],
   "source": [
    "df['Max Power']"
   ]
  },
  {
   "cell_type": "code",
   "execution_count": 1745,
   "id": "34308eda-4cb9-4be4-9da2-d3308f7c1fee",
   "metadata": {},
   "outputs": [],
   "source": [
    "df['Max Power']=df['Max Power'].str.split('bhp').str[0]"
   ]
  },
  {
   "cell_type": "code",
   "execution_count": 1785,
   "id": "a7c2b8d7-1b79-423f-ae16-0e4e9e97a674",
   "metadata": {},
   "outputs": [],
   "source": [
    "df['Max Power']=df['Max Power'].str.split(' ').str[0]"
   ]
  },
  {
   "cell_type": "code",
   "execution_count": 1747,
   "id": "2a8478fe-18ee-4b1f-8f6d-55f8d2c5e358",
   "metadata": {},
   "outputs": [],
   "source": [
    "df['Max Power']=df['Max Power'].str.split('(').str[0]"
   ]
  },
  {
   "cell_type": "code",
   "execution_count": 1748,
   "id": "e50c0b3a-0433-418f-bb39-a46346a1c3d4",
   "metadata": {},
   "outputs": [],
   "source": [
    "df['Max Power']=df['Max Power'].str.replace('hp','')"
   ]
  },
  {
   "cell_type": "code",
   "execution_count": null,
   "id": "760767a9-1ded-4f3d-bdfe-89e14fb4af0d",
   "metadata": {},
   "outputs": [],
   "source": [
    "df['Max Power']=df['Max Power'].str.replace(' PS','')"
   ]
  },
  {
   "cell_type": "code",
   "execution_count": 1750,
   "id": "26c0827d-a50f-4e8d-a06a-4044c1edf61c",
   "metadata": {},
   "outputs": [
    {
     "name": "stdout",
     "output_type": "stream",
     "text": [
      "<class 'pandas.core.series.Series'>\n",
      "RangeIndex: 8369 entries, 0 to 8368\n",
      "Series name: Max Power\n",
      "Non-Null Count  Dtype \n",
      "--------------  ----- \n",
      "8309 non-null   object\n",
      "dtypes: object(1)\n",
      "memory usage: 65.5+ KB\n"
     ]
    }
   ],
   "source": [
    "df['Max Power'].info()"
   ]
  },
  {
   "cell_type": "code",
   "execution_count": 1793,
   "id": "ea7cf353-2893-44db-8155-c3ac801a750a",
   "metadata": {},
   "outputs": [],
   "source": [
    "df['Max Power']=df['Max Power'].astype(float)"
   ]
  },
  {
   "cell_type": "code",
   "execution_count": 1794,
   "id": "2d9bda13-5720-40db-92dc-d6a5882f3971",
   "metadata": {},
   "outputs": [
    {
     "data": {
      "text/plain": [
       "np.int64(60)"
      ]
     },
     "execution_count": 1794,
     "metadata": {},
     "output_type": "execute_result"
    }
   ],
   "source": [
    "df['Max Power'].isnull().sum()"
   ]
  },
  {
   "cell_type": "code",
   "execution_count": 1795,
   "id": "d7047085-557e-42b7-a2f7-af14f71ed659",
   "metadata": {},
   "outputs": [
    {
     "data": {
      "text/plain": [
       "np.float64(2.3025687517250657)"
      ]
     },
     "execution_count": 1795,
     "metadata": {},
     "output_type": "execute_result"
    }
   ],
   "source": [
    "df['Max Power'].skew()"
   ]
  },
  {
   "cell_type": "code",
   "execution_count": 1796,
   "id": "4ddcfe4f-89c4-4e1b-aa71-23a42a6a35b3",
   "metadata": {},
   "outputs": [
    {
     "data": {
      "text/plain": [
       "np.float64(105.19881790829221)"
      ]
     },
     "execution_count": 1796,
     "metadata": {},
     "output_type": "execute_result"
    }
   ],
   "source": [
    "df['Max Power'].mean()"
   ]
  },
  {
   "cell_type": "code",
   "execution_count": 1797,
   "id": "7ab91cba-e0c5-4678-b9d5-7911954c51b3",
   "metadata": {},
   "outputs": [],
   "source": [
    "imputer=SimpleImputer(strategy='mean')\n",
    "df['Max Power']=imputer.fit_transform(df[['Max Power']])"
   ]
  },
  {
   "cell_type": "code",
   "execution_count": 1798,
   "id": "c49637cf-3140-4dc1-a2ee-a4843a965da9",
   "metadata": {},
   "outputs": [
    {
     "data": {
      "text/plain": [
       "np.int64(0)"
      ]
     },
     "execution_count": 1798,
     "metadata": {},
     "output_type": "execute_result"
    }
   ],
   "source": [
    "df['Max Power'].isnull().sum()"
   ]
  },
  {
   "cell_type": "code",
   "execution_count": 1799,
   "id": "7cff8af2-3462-414c-917a-31112a471ebc",
   "metadata": {},
   "outputs": [
    {
     "data": {
      "text/plain": [
       "np.int64(224)"
      ]
     },
     "execution_count": 1799,
     "metadata": {},
     "output_type": "execute_result"
    }
   ],
   "source": [
    "df['RPM'].isnull().sum()"
   ]
  },
  {
   "cell_type": "code",
   "execution_count": 1801,
   "id": "275108d8-8fcd-471c-84d3-9368bded3aae",
   "metadata": {},
   "outputs": [
    {
     "data": {
      "text/plain": [
       "0       6000\n",
       "1       6500\n",
       "2       6000\n",
       "3       6000\n",
       "4       4000\n",
       "        ... \n",
       "8364    5500\n",
       "8365    6000\n",
       "8366    5600\n",
       "8367    6000\n",
       "8368    4000\n",
       "Name: RPM, Length: 8369, dtype: object"
      ]
     },
     "execution_count": 1801,
     "metadata": {},
     "output_type": "execute_result"
    }
   ],
   "source": [
    "df['RPM']\n"
   ]
  },
  {
   "cell_type": "code",
   "execution_count": 1756,
   "id": "5511108f-9ffe-4100-813d-5a67a8598848",
   "metadata": {},
   "outputs": [],
   "source": [
    "df['RPM']=df['RPM'].str.replace('rpm','')"
   ]
  },
  {
   "cell_type": "code",
   "execution_count": 1806,
   "id": "d8cbcc0d-ea9d-4527-8e98-5d36ea48a8bb",
   "metadata": {},
   "outputs": [],
   "source": [
    "df['RPM']=df['RPM'].str.split('Ã¢').str[0]"
   ]
  },
  {
   "cell_type": "code",
   "execution_count": 1813,
   "id": "a4ccd829-c0c8-4a5c-a7f7-afff31bd5996",
   "metadata": {},
   "outputs": [],
   "source": [
    "df['RPM']=df['RPM'].str.split('–').str[0]"
   ]
  },
  {
   "cell_type": "code",
   "execution_count": 1809,
   "id": "33459111-ae2e-4896-b7cf-4aaa2f10036e",
   "metadata": {},
   "outputs": [],
   "source": [
    "df['RPM']=df['RPM'].str.replace('+','')"
   ]
  },
  {
   "cell_type": "code",
   "execution_count": 1811,
   "id": "9e78e557-7e97-4270-8fb5-d984f37feac5",
   "metadata": {},
   "outputs": [],
   "source": [
    "df['RPM']=df['RPM'].str.replace('pm','')"
   ]
  },
  {
   "cell_type": "code",
   "execution_count": 1761,
   "id": "f8b07d86-523d-40f8-8f90-d5fae4849a19",
   "metadata": {},
   "outputs": [
    {
     "name": "stdout",
     "output_type": "stream",
     "text": [
      "<class 'pandas.core.series.Series'>\n",
      "RangeIndex: 8369 entries, 0 to 8368\n",
      "Series name: RPM\n",
      "Non-Null Count  Dtype \n",
      "--------------  ----- \n",
      "8145 non-null   object\n",
      "dtypes: object(1)\n",
      "memory usage: 65.5+ KB\n"
     ]
    }
   ],
   "source": [
    "df['RPM'].info()"
   ]
  },
  {
   "cell_type": "code",
   "execution_count": 1814,
   "id": "a2d5bdf1-cb23-4296-9f0d-6b05a1dbc4dd",
   "metadata": {},
   "outputs": [],
   "source": [
    "df['RPM']=df['RPM'].astype(float)"
   ]
  },
  {
   "cell_type": "code",
   "execution_count": 1815,
   "id": "b955d411-d285-4e04-b21e-806e4bec499a",
   "metadata": {},
   "outputs": [
    {
     "data": {
      "text/plain": [
       "np.float64(12.022861062457384)"
      ]
     },
     "execution_count": 1815,
     "metadata": {},
     "output_type": "execute_result"
    }
   ],
   "source": [
    "df['RPM'].skew()"
   ]
  },
  {
   "cell_type": "code",
   "execution_count": 1816,
   "id": "1fcb61b0-349c-4077-9950-4f64d394c41a",
   "metadata": {},
   "outputs": [
    {
     "data": {
      "text/plain": [
       "0   6000.00\n",
       "Name: RPM, dtype: float64"
      ]
     },
     "execution_count": 1816,
     "metadata": {},
     "output_type": "execute_result"
    }
   ],
   "source": [
    "df['RPM'].mode()"
   ]
  },
  {
   "cell_type": "code",
   "execution_count": 1817,
   "id": "49376583-1730-4971-9a65-1828480e27bf",
   "metadata": {},
   "outputs": [
    {
     "data": {
      "text/plain": [
       "np.float64(5244.683241252302)"
      ]
     },
     "execution_count": 1817,
     "metadata": {},
     "output_type": "execute_result"
    }
   ],
   "source": [
    "df['RPM'].mean()"
   ]
  },
  {
   "cell_type": "code",
   "execution_count": 1818,
   "id": "b04b94a4-200c-40a2-a623-ccdbed6601fe",
   "metadata": {},
   "outputs": [
    {
     "data": {
      "text/plain": [
       "np.float64(5678.0)"
      ]
     },
     "execution_count": 1818,
     "metadata": {},
     "output_type": "execute_result"
    }
   ],
   "source": [
    "df['RPM'].median()"
   ]
  },
  {
   "cell_type": "code",
   "execution_count": 1819,
   "id": "d3b9bda9-202b-480a-a543-06ca692d3500",
   "metadata": {},
   "outputs": [],
   "source": [
    "imputer=SimpleImputer(strategy='most_frequent')\n",
    "df['RPM']=imputer.fit_transform(df[['RPM']])"
   ]
  },
  {
   "cell_type": "code",
   "execution_count": 1820,
   "id": "06972f36-5523-4fb7-acfd-c88f444f9775",
   "metadata": {},
   "outputs": [
    {
     "data": {
      "text/plain": [
       "np.int64(0)"
      ]
     },
     "execution_count": 1820,
     "metadata": {},
     "output_type": "execute_result"
    }
   ],
   "source": [
    "df['RPM'].isnull().sum()"
   ]
  },
  {
   "cell_type": "code",
   "execution_count": 1821,
   "id": "baea97cd-f5fc-4e7a-8c70-f5bbc92accc3",
   "metadata": {},
   "outputs": [],
   "source": [
    "df['RPM']=df['RPM'].astype(int)"
   ]
  },
  {
   "cell_type": "code",
   "execution_count": 1822,
   "id": "5b79e66c-92d4-43e0-89d6-c5267566bc4d",
   "metadata": {},
   "outputs": [
    {
     "data": {
      "text/plain": [
       "0           90Nm\n",
       "1          150Nm\n",
       "2          114Nm\n",
       "3       113.75Nm\n",
       "4          200Nm\n",
       "          ...   \n",
       "8364        89Nm\n",
       "8365        69Nm\n",
       "8366       285Nm\n",
       "8367       114Nm\n",
       "8368       245Nm\n",
       "Name: Torque, Length: 8369, dtype: object"
      ]
     },
     "execution_count": 1822,
     "metadata": {},
     "output_type": "execute_result"
    }
   ],
   "source": [
    "df['Torque']"
   ]
  },
  {
   "cell_type": "code",
   "execution_count": 1833,
   "id": "20c0c061-55f2-43e9-8946-ea72ea7ac70c",
   "metadata": {},
   "outputs": [],
   "source": [
    "df['Torque']=df['Torque'].str.split('/').str[0]"
   ]
  },
  {
   "cell_type": "code",
   "execution_count": 1824,
   "id": "6bd4a819-ca73-4601-8abd-e75510a158e5",
   "metadata": {},
   "outputs": [],
   "source": [
    "df['Torque']=df['Torque'].str.split('at').str[0]"
   ]
  },
  {
   "cell_type": "code",
   "execution_count": 1829,
   "id": "8d0021c3-e7c5-4943-bb83-c84440e6295c",
   "metadata": {},
   "outputs": [],
   "source": [
    "df['Torque']=df['Torque'].str.replace('NM','')"
   ]
  },
  {
   "cell_type": "code",
   "execution_count": 1774,
   "id": "61d08802-4513-44e9-a266-0d2c4908dab2",
   "metadata": {},
   "outputs": [
    {
     "name": "stdout",
     "output_type": "stream",
     "text": [
      "<class 'pandas.core.series.Series'>\n",
      "RangeIndex: 8369 entries, 0 to 8368\n",
      "Series name: Torque\n",
      "Non-Null Count  Dtype \n",
      "--------------  ----- \n",
      "8309 non-null   object\n",
      "dtypes: object(1)\n",
      "memory usage: 65.5+ KB\n"
     ]
    }
   ],
   "source": [
    "df['Torque'].info()\n"
   ]
  },
  {
   "cell_type": "code",
   "execution_count": 1834,
   "id": "490d8d35-3de0-42ac-b11e-b071ba9814c5",
   "metadata": {},
   "outputs": [],
   "source": [
    "def convert_to_nm(Torque_nm):\n",
    "    \n",
    "    if isinstance(Torque_nm, str):\n",
    "        if 'KGM' in Torque_nm:\n",
    "            return float(Torque_nm.replace('KGM', '')) * 9.8\n",
    "        elif 'kgm' in Torque_nm:\n",
    "            return float(Torque_nm.replace('kgm', '')) * 9.8\n",
    "  \n",
    "    return float(Torque_nm)\n",
    "\n",
    "df['Torque'] = df['Torque'].apply(convert_to_nm)"
   ]
  },
  {
   "cell_type": "code",
   "execution_count": 1835,
   "id": "8507020e-2b9e-4635-9f49-65d5b671f736",
   "metadata": {},
   "outputs": [
    {
     "data": {
      "text/plain": [
       "np.int64(60)"
      ]
     },
     "execution_count": 1835,
     "metadata": {},
     "output_type": "execute_result"
    }
   ],
   "source": [
    "df['Torque'].isnull().sum()"
   ]
  },
  {
   "cell_type": "code",
   "execution_count": 1836,
   "id": "b674f22e-3db0-4377-8ca9-1f5cde5d5478",
   "metadata": {},
   "outputs": [
    {
     "data": {
      "text/plain": [
       "np.float64(1.6229296662603616)"
      ]
     },
     "execution_count": 1836,
     "metadata": {},
     "output_type": "execute_result"
    }
   ],
   "source": [
    "df['Torque'].skew()"
   ]
  },
  {
   "cell_type": "code",
   "execution_count": 1837,
   "id": "437cf89d-12ca-4e6b-bc01-b63a6f2b8bb7",
   "metadata": {},
   "outputs": [],
   "source": [
    "imputer=SimpleImputer(strategy='median')\n",
    "df['Torque']=imputer.fit_transform(df[['Torque']])"
   ]
  },
  {
   "cell_type": "code",
   "execution_count": 1838,
   "id": "dad323db-9a14-4a6c-9542-398a6f5776a2",
   "metadata": {},
   "outputs": [
    {
     "data": {
      "text/plain": [
       "np.int64(0)"
      ]
     },
     "execution_count": 1838,
     "metadata": {},
     "output_type": "execute_result"
    }
   ],
   "source": [
    "df['Torque'].isnull().sum()"
   ]
  },
  {
   "cell_type": "code",
   "execution_count": 1839,
   "id": "57d23caa-a9d6-4b2b-b813-ccb0787f8d71",
   "metadata": {},
   "outputs": [],
   "source": [
    "df=df.drop(columns='Seats.1')"
   ]
  },
  {
   "cell_type": "code",
   "execution_count": 1840,
   "id": "f27f871d-424a-42cb-b4a9-2b80a0dfd0d9",
   "metadata": {},
   "outputs": [
    {
     "data": {
      "text/plain": [
       "0        White\n",
       "1        White\n",
       "2          Red\n",
       "3       Others\n",
       "4         Gray\n",
       "         ...  \n",
       "8364    Others\n",
       "8365    Others\n",
       "8366    Others\n",
       "8367    Others\n",
       "8368    Others\n",
       "Name: Color, Length: 8369, dtype: object"
      ]
     },
     "execution_count": 1840,
     "metadata": {},
     "output_type": "execute_result"
    }
   ],
   "source": [
    "df['Color']"
   ]
  },
  {
   "cell_type": "code",
   "execution_count": 1841,
   "id": "70f02c78-4aa2-4c1b-a383-74e09c4eb468",
   "metadata": {},
   "outputs": [
    {
     "data": {
      "text/plain": [
       "np.int64(3)"
      ]
     },
     "execution_count": 1841,
     "metadata": {},
     "output_type": "execute_result"
    }
   ],
   "source": [
    "df['Color'].isnull().sum()"
   ]
  },
  {
   "cell_type": "code",
   "execution_count": 1842,
   "id": "b7936ba6-49bb-43e1-b2f3-24a7c9aeb438",
   "metadata": {},
   "outputs": [],
   "source": [
    "imputer=SimpleImputer(strategy='most_frequent')\n",
    "imputed_value=imputer.fit_transform(df[['Color']])\n",
    "df['Color']=imputed_value.flatten()"
   ]
  },
  {
   "cell_type": "code",
   "execution_count": 1843,
   "id": "0c8faa56-0a86-42b9-a16a-a2924c60bb26",
   "metadata": {},
   "outputs": [
    {
     "data": {
      "text/plain": [
       "np.int64(0)"
      ]
     },
     "execution_count": 1843,
     "metadata": {},
     "output_type": "execute_result"
    }
   ],
   "source": [
    "df['Color'].isnull().sum()"
   ]
  },
  {
   "cell_type": "code",
   "execution_count": 1844,
   "id": "4f79ddd1-9443-458b-a3bf-b516b7f6fb8e",
   "metadata": {},
   "outputs": [
    {
     "name": "stdout",
     "output_type": "stream",
     "text": [
      "<class 'pandas.core.series.Series'>\n",
      "RangeIndex: 8369 entries, 0 to 8368\n",
      "Series name: Engine Type\n",
      "Non-Null Count  Dtype \n",
      "--------------  ----- \n",
      "8074 non-null   object\n",
      "dtypes: object(1)\n",
      "memory usage: 65.5+ KB\n"
     ]
    }
   ],
   "source": [
    "df['Engine Type'].info()"
   ]
  },
  {
   "cell_type": "code",
   "execution_count": 1845,
   "id": "2ea14285-7863-4d63-afa6-f0bee3d005bd",
   "metadata": {},
   "outputs": [
    {
     "data": {
      "text/plain": [
       "np.int64(295)"
      ]
     },
     "execution_count": 1845,
     "metadata": {},
     "output_type": "execute_result"
    }
   ],
   "source": [
    "df['Engine Type'].isnull().sum()"
   ]
  },
  {
   "cell_type": "code",
   "execution_count": 1846,
   "id": "d771e9d7-04cb-47d9-9a11-9b8b9e7caed5",
   "metadata": {},
   "outputs": [],
   "source": [
    "imputer=SimpleImputer(strategy='most_frequent')\n",
    "imputed_value=imputer.fit_transform(df[['Engine Type']])\n",
    "df['Engine Type']=imputed_value.flatten()"
   ]
  },
  {
   "cell_type": "code",
   "execution_count": 1847,
   "id": "6310df90-cba0-48c3-b8d1-dd0cca9eb9b9",
   "metadata": {},
   "outputs": [
    {
     "data": {
      "text/plain": [
       "np.int64(0)"
      ]
     },
     "execution_count": 1847,
     "metadata": {},
     "output_type": "execute_result"
    }
   ],
   "source": [
    "df['Engine Type'].isnull().sum()"
   ]
  },
  {
   "cell_type": "code",
   "execution_count": 1848,
   "id": "7d362dd6-64a2-49cb-8cab-a084a1cc2692",
   "metadata": {},
   "outputs": [],
   "source": [
    "df=df.drop(columns='Displacement')"
   ]
  },
  {
   "cell_type": "code",
   "execution_count": 1849,
   "id": "3fd2ac66-17d4-48fa-9735-33884e83d59e",
   "metadata": {},
   "outputs": [],
   "source": [
    "df=df.drop(columns='Max Torque')"
   ]
  },
  {
   "cell_type": "code",
   "execution_count": 1850,
   "id": "e2fdbd79-8f20-4c0a-b256-78e072533b37",
   "metadata": {},
   "outputs": [
    {
     "data": {
      "text/plain": [
       "0      3.00\n",
       "1      3.00\n",
       "2      3.00\n",
       "3      4.00\n",
       "4      4.00\n",
       "       ... \n",
       "8364   3.00\n",
       "8365   3.00\n",
       "8366   4.00\n",
       "8367   4.00\n",
       "8368   4.00\n",
       "Name: No of Cylinder, Length: 8369, dtype: float64"
      ]
     },
     "execution_count": 1850,
     "metadata": {},
     "output_type": "execute_result"
    }
   ],
   "source": [
    "df['No of Cylinder']"
   ]
  },
  {
   "cell_type": "code",
   "execution_count": 1851,
   "id": "9bcb29bb-b8c6-4200-98a6-99f9a82edfbc",
   "metadata": {},
   "outputs": [
    {
     "data": {
      "text/plain": [
       "np.int64(31)"
      ]
     },
     "execution_count": 1851,
     "metadata": {},
     "output_type": "execute_result"
    }
   ],
   "source": [
    "df['No of Cylinder'].isnull().sum()"
   ]
  },
  {
   "cell_type": "code",
   "execution_count": 1852,
   "id": "a540650e-306d-470d-bb4c-454b7cf19b1d",
   "metadata": {},
   "outputs": [
    {
     "data": {
      "text/plain": [
       "np.float64(4.9763198053644935)"
      ]
     },
     "execution_count": 1852,
     "metadata": {},
     "output_type": "execute_result"
    }
   ],
   "source": [
    "df['No of Cylinder'].skew()"
   ]
  },
  {
   "cell_type": "code",
   "execution_count": 1853,
   "id": "362ccc2d-ee19-4de0-8a6d-8f1f10e88fca",
   "metadata": {},
   "outputs": [
    {
     "data": {
      "text/plain": [
       "np.float64(4.0)"
      ]
     },
     "execution_count": 1853,
     "metadata": {},
     "output_type": "execute_result"
    }
   ],
   "source": [
    "df['No of Cylinder'].median()"
   ]
  },
  {
   "cell_type": "code",
   "execution_count": 1854,
   "id": "de779371-1f2f-4d94-b9fa-47c169a8b8d5",
   "metadata": {},
   "outputs": [
    {
     "data": {
      "text/plain": [
       "0   4.00\n",
       "Name: No of Cylinder, dtype: float64"
      ]
     },
     "execution_count": 1854,
     "metadata": {},
     "output_type": "execute_result"
    }
   ],
   "source": [
    "df['No of Cylinder'].mode()"
   ]
  },
  {
   "cell_type": "code",
   "execution_count": 1855,
   "id": "fe69529f-23c2-4e7c-ae99-9603202d7a95",
   "metadata": {},
   "outputs": [],
   "source": [
    "imputer=SimpleImputer(strategy='median')\n",
    "df['No of Cylinder']=imputer.fit_transform(df[['No of Cylinder']])"
   ]
  },
  {
   "cell_type": "code",
   "execution_count": 1856,
   "id": "f8255ad0-c8a2-46f1-83c8-dbb0c34867cd",
   "metadata": {},
   "outputs": [],
   "source": [
    "df['No of Cylinder']=df['No of Cylinder'].astype(int)"
   ]
  },
  {
   "cell_type": "code",
   "execution_count": 1857,
   "id": "ed59eb66-3c2f-405b-92bd-494534b5902a",
   "metadata": {},
   "outputs": [
    {
     "data": {
      "text/plain": [
       "np.int64(0)"
      ]
     },
     "execution_count": 1857,
     "metadata": {},
     "output_type": "execute_result"
    }
   ],
   "source": [
    "df['No of Cylinder'].isnull().sum()"
   ]
  },
  {
   "cell_type": "code",
   "execution_count": 1858,
   "id": "bee2809f-7f82-4739-a2a4-180c46897a82",
   "metadata": {},
   "outputs": [
    {
     "data": {
      "text/plain": [
       "0      4.00\n",
       "1      4.00\n",
       "2      4.00\n",
       "3      4.00\n",
       "4      4.00\n",
       "       ... \n",
       "8364   4.00\n",
       "8365   4.00\n",
       "8366   4.00\n",
       "8367   4.00\n",
       "8368   4.00\n",
       "Name: Values per Cylinder, Length: 8369, dtype: float64"
      ]
     },
     "execution_count": 1858,
     "metadata": {},
     "output_type": "execute_result"
    }
   ],
   "source": [
    "df['Values per Cylinder']"
   ]
  },
  {
   "cell_type": "code",
   "execution_count": 1859,
   "id": "b666673b-51f2-48fd-a3cf-b6d3341973da",
   "metadata": {},
   "outputs": [
    {
     "data": {
      "text/plain": [
       "np.int64(51)"
      ]
     },
     "execution_count": 1859,
     "metadata": {},
     "output_type": "execute_result"
    }
   ],
   "source": [
    "df['Values per Cylinder'].isnull().sum()"
   ]
  },
  {
   "cell_type": "code",
   "execution_count": 1860,
   "id": "7b931880-65c8-4cf0-a278-b00c73bf6ae5",
   "metadata": {},
   "outputs": [
    {
     "data": {
      "text/plain": [
       "np.float64(66.1049039246774)"
      ]
     },
     "execution_count": 1860,
     "metadata": {},
     "output_type": "execute_result"
    }
   ],
   "source": [
    "df['Values per Cylinder'].skew()"
   ]
  },
  {
   "cell_type": "code",
   "execution_count": 1861,
   "id": "765f1f69-18f9-45c4-bf8f-2ef3ac17794a",
   "metadata": {},
   "outputs": [
    {
     "data": {
      "text/plain": [
       "np.float64(4.0)"
      ]
     },
     "execution_count": 1861,
     "metadata": {},
     "output_type": "execute_result"
    }
   ],
   "source": [
    "df['Values per Cylinder'].median()"
   ]
  },
  {
   "cell_type": "code",
   "execution_count": 1862,
   "id": "f7640db0-dc7b-42a5-a42e-fa4d25e06265",
   "metadata": {},
   "outputs": [
    {
     "data": {
      "text/plain": [
       "0   4.00\n",
       "Name: Values per Cylinder, dtype: float64"
      ]
     },
     "execution_count": 1862,
     "metadata": {},
     "output_type": "execute_result"
    }
   ],
   "source": [
    "df['Values per Cylinder'].mode()"
   ]
  },
  {
   "cell_type": "code",
   "execution_count": 1863,
   "id": "eb3177a6-d178-4989-bdda-5d58ed06ef93",
   "metadata": {},
   "outputs": [],
   "source": [
    "imputer=SimpleImputer(strategy='median')\n",
    "df['Values per Cylinder']=imputer.fit_transform(df[['Values per Cylinder']])"
   ]
  },
  {
   "cell_type": "code",
   "execution_count": 1864,
   "id": "26f73b09-32ff-4046-8933-24bd418e60c9",
   "metadata": {},
   "outputs": [
    {
     "data": {
      "text/plain": [
       "np.int64(0)"
      ]
     },
     "execution_count": 1864,
     "metadata": {},
     "output_type": "execute_result"
    }
   ],
   "source": [
    "df['Values per Cylinder'].isnull().sum()"
   ]
  },
  {
   "cell_type": "code",
   "execution_count": 1865,
   "id": "c4020037-f559-438e-b8aa-aa5da6ebbe55",
   "metadata": {},
   "outputs": [
    {
     "data": {
      "text/plain": [
       "0       DOHC\n",
       "1       DOHC\n",
       "2       DOHC\n",
       "3       DOHC\n",
       "4       DOHC\n",
       "        ... \n",
       "8364     NaN\n",
       "8365    DOHC\n",
       "8366     NaN\n",
       "8367    DOHC\n",
       "8368    DOHC\n",
       "Name: Value Configuration, Length: 8369, dtype: object"
      ]
     },
     "execution_count": 1865,
     "metadata": {},
     "output_type": "execute_result"
    }
   ],
   "source": [
    "df['Value Configuration']"
   ]
  },
  {
   "cell_type": "code",
   "execution_count": 1866,
   "id": "52e0c5bd-fceb-4121-80d3-3e4bf96ed584",
   "metadata": {},
   "outputs": [
    {
     "data": {
      "text/plain": [
       "np.int64(2216)"
      ]
     },
     "execution_count": 1866,
     "metadata": {},
     "output_type": "execute_result"
    }
   ],
   "source": [
    "df['Value Configuration'].isnull().sum()"
   ]
  },
  {
   "cell_type": "code",
   "execution_count": 1867,
   "id": "8ab72cbc-fb27-4c76-9237-9c35beb77bbc",
   "metadata": {},
   "outputs": [
    {
     "data": {
      "text/plain": [
       "np.float64(26.4786712868921)"
      ]
     },
     "execution_count": 1867,
     "metadata": {},
     "output_type": "execute_result"
    }
   ],
   "source": [
    "df['Value Configuration'].isnull().sum()/df.shape[0]*100"
   ]
  },
  {
   "cell_type": "code",
   "execution_count": 1868,
   "id": "d30febae-e4fa-4aa1-813c-44a70335ecd1",
   "metadata": {},
   "outputs": [],
   "source": [
    "imputer=SimpleImputer(strategy='most_frequent')\n",
    "imputed_value=imputer.fit_transform(df[['Value Configuration']])\n",
    "df['Value Configuration']=imputed_value.flatten()"
   ]
  },
  {
   "cell_type": "code",
   "execution_count": 1869,
   "id": "3338c887-7c4d-4066-8416-56b444bf2b0e",
   "metadata": {},
   "outputs": [
    {
     "data": {
      "text/plain": [
       "np.int64(0)"
      ]
     },
     "execution_count": 1869,
     "metadata": {},
     "output_type": "execute_result"
    }
   ],
   "source": [
    "df['Value Configuration'].isnull().sum()"
   ]
  },
  {
   "cell_type": "code",
   "execution_count": 1870,
   "id": "caf9027b-a431-4188-b0a2-499b142cc669",
   "metadata": {},
   "outputs": [
    {
     "data": {
      "text/plain": [
       "0                   MPFi\n",
       "1       Direct Injection\n",
       "2                   MPFi\n",
       "3       Direct Injection\n",
       "4                    NaN\n",
       "              ...       \n",
       "8364                 NaN\n",
       "8365                MPFi\n",
       "8366                Mpfi\n",
       "8367                MPFI\n",
       "8368                CRDi\n",
       "Name: Fuel Suppy System, Length: 8369, dtype: object"
      ]
     },
     "execution_count": 1870,
     "metadata": {},
     "output_type": "execute_result"
    }
   ],
   "source": [
    "df['Fuel Suppy System']"
   ]
  },
  {
   "cell_type": "code",
   "execution_count": 1871,
   "id": "c6315098-9b19-4aa1-9862-70074e9f939f",
   "metadata": {},
   "outputs": [
    {
     "data": {
      "text/plain": [
       "np.int64(1727)"
      ]
     },
     "execution_count": 1871,
     "metadata": {},
     "output_type": "execute_result"
    }
   ],
   "source": [
    "df['Fuel Suppy System'].isnull().sum()"
   ]
  },
  {
   "cell_type": "code",
   "execution_count": 1872,
   "id": "a1eb3e70-78b0-4360-8304-18edca3c1c31",
   "metadata": {},
   "outputs": [],
   "source": [
    "imputer=SimpleImputer(strategy='most_frequent')\n",
    "imputed_value=imputer.fit_transform(df[['Fuel Suppy System']])\n",
    "df['Fuel Suppy System']=imputed_value.flatten()"
   ]
  },
  {
   "cell_type": "code",
   "execution_count": 1873,
   "id": "ccc569aa-2ce0-460a-b162-2e175b802848",
   "metadata": {},
   "outputs": [
    {
     "data": {
      "text/plain": [
       "np.int64(0)"
      ]
     },
     "execution_count": 1873,
     "metadata": {},
     "output_type": "execute_result"
    }
   ],
   "source": [
    "df['Fuel Suppy System'].isnull().sum()"
   ]
  },
  {
   "cell_type": "code",
   "execution_count": 1874,
   "id": "b99d3fa3-7c17-482c-b3e9-9d9303564995",
   "metadata": {},
   "outputs": [
    {
     "data": {
      "text/plain": [
       "np.float64(71.26299438403633)"
      ]
     },
     "execution_count": 1874,
     "metadata": {},
     "output_type": "execute_result"
    }
   ],
   "source": [
    "df['BoreX Stroke'].isnull().sum()/df.shape[0]*100"
   ]
  },
  {
   "cell_type": "code",
   "execution_count": 1875,
   "id": "0230d134-5eec-4476-80df-ffa662bb7253",
   "metadata": {},
   "outputs": [],
   "source": [
    "df=df.drop(columns='BoreX Stroke')"
   ]
  },
  {
   "cell_type": "code",
   "execution_count": 1876,
   "id": "e78f692a-96e0-4afd-92a6-8adcda50438d",
   "metadata": {},
   "outputs": [
    {
     "data": {
      "text/plain": [
       "np.float64(77.35691241486438)"
      ]
     },
     "execution_count": 1876,
     "metadata": {},
     "output_type": "execute_result"
    }
   ],
   "source": [
    "df['Compression Ratio'].isnull().sum()/df.shape[0]*100"
   ]
  },
  {
   "cell_type": "code",
   "execution_count": 1877,
   "id": "6c4d4a38-287d-4990-82c9-e6356cd1849e",
   "metadata": {},
   "outputs": [],
   "source": [
    "df=df.drop(columns='Compression Ratio')"
   ]
  },
  {
   "cell_type": "code",
   "execution_count": 1878,
   "id": "ca9a8cbe-2e73-45c7-9f68-e255e04239a1",
   "metadata": {},
   "outputs": [
    {
     "data": {
      "text/plain": [
       "np.float64(12.426813239335644)"
      ]
     },
     "execution_count": 1878,
     "metadata": {},
     "output_type": "execute_result"
    }
   ],
   "source": [
    "df['Turbo Charger'].isnull().sum()/df.shape[0]*100"
   ]
  },
  {
   "cell_type": "code",
   "execution_count": 1879,
   "id": "3aa17a51-d8e4-4f57-9a8b-b64f84f376c5",
   "metadata": {},
   "outputs": [],
   "source": [
    "imputer=SimpleImputer(strategy='most_frequent')\n",
    "imputed_value=imputer.fit_transform(df[['Turbo Charger']])\n",
    "df['Turbo Charger']=imputed_value.flatten()"
   ]
  },
  {
   "cell_type": "code",
   "execution_count": 1880,
   "id": "15ae5287-b8b1-4f3f-ad5b-98cd4589340a",
   "metadata": {},
   "outputs": [
    {
     "data": {
      "text/plain": [
       "np.int64(0)"
      ]
     },
     "execution_count": 1880,
     "metadata": {},
     "output_type": "execute_result"
    }
   ],
   "source": [
    "df['Turbo Charger'].isnull().sum()"
   ]
  },
  {
   "cell_type": "code",
   "execution_count": 1881,
   "id": "8956bf9c-b7e7-4cb1-82be-e04438a1a54b",
   "metadata": {},
   "outputs": [
    {
     "data": {
      "text/plain": [
       "np.float64(23.443661130362052)"
      ]
     },
     "execution_count": 1881,
     "metadata": {},
     "output_type": "execute_result"
    }
   ],
   "source": [
    "df['Super Charger'].isnull().sum()/df.shape[0]*100"
   ]
  },
  {
   "cell_type": "code",
   "execution_count": 1882,
   "id": "483fd550-ef6f-4714-ad46-38acc29649b9",
   "metadata": {},
   "outputs": [],
   "source": [
    "imputer=SimpleImputer(strategy='most_frequent')\n",
    "imputed_value=imputer.fit_transform(df[['Super Charger']])\n",
    "df['Super Charger']=imputed_value.flatten()"
   ]
  },
  {
   "cell_type": "code",
   "execution_count": 1883,
   "id": "265041e6-48ed-41dc-adfc-71dca44bc1eb",
   "metadata": {},
   "outputs": [
    {
     "data": {
      "text/plain": [
       "0       3715mm\n",
       "1       3998mm\n",
       "2       3746mm\n",
       "3       3995mm\n",
       "4       4300mm\n",
       "         ...  \n",
       "8364    3695mm\n",
       "8365    3395mm\n",
       "8366    4591mm\n",
       "8367    3775mm\n",
       "8368    4315mm\n",
       "Name: Length, Length: 8369, dtype: object"
      ]
     },
     "execution_count": 1883,
     "metadata": {},
     "output_type": "execute_result"
    }
   ],
   "source": [
    "df['Length']"
   ]
  },
  {
   "cell_type": "code",
   "execution_count": 1884,
   "id": "72100027-2fb4-4686-8189-f68debaa3f3e",
   "metadata": {},
   "outputs": [
    {
     "data": {
      "text/plain": [
       "np.int64(79)"
      ]
     },
     "execution_count": 1884,
     "metadata": {},
     "output_type": "execute_result"
    }
   ],
   "source": [
    "df['Length'].isnull().sum()"
   ]
  },
  {
   "cell_type": "code",
   "execution_count": 1885,
   "id": "da6ae8fa-28c2-4c06-823f-8c3c266ff438",
   "metadata": {},
   "outputs": [],
   "source": [
    "df['Length']=df['Length'].str.replace('mm','')"
   ]
  },
  {
   "cell_type": "code",
   "execution_count": 1886,
   "id": "31ea1622-b3fa-4549-8c0a-1893290daf04",
   "metadata": {},
   "outputs": [],
   "source": [
    "df['Length']=df['Length'].str.replace(',','')"
   ]
  },
  {
   "cell_type": "code",
   "execution_count": 1887,
   "id": "f75014ba-d730-448e-9a80-ac11bcaf8869",
   "metadata": {},
   "outputs": [
    {
     "data": {
      "text/plain": [
       "0       3715\n",
       "1       3998\n",
       "2       3746\n",
       "3       3995\n",
       "4       4300\n",
       "        ... \n",
       "8364    3695\n",
       "8365    3395\n",
       "8366    4591\n",
       "8367    3775\n",
       "8368    4315\n",
       "Name: Length, Length: 8369, dtype: object"
      ]
     },
     "execution_count": 1887,
     "metadata": {},
     "output_type": "execute_result"
    }
   ],
   "source": [
    "df['Length']"
   ]
  },
  {
   "cell_type": "code",
   "execution_count": 1471,
   "id": "13c1a657-e3e0-4069-ac04-f5f54a88e955",
   "metadata": {},
   "outputs": [],
   "source": [
    "df['Length']=df['Length'].astype(float)"
   ]
  },
  {
   "cell_type": "code",
   "execution_count": 1472,
   "id": "3876be2d-5c5b-4d18-958d-8a8b5490b6d1",
   "metadata": {},
   "outputs": [
    {
     "data": {
      "text/plain": [
       "np.float64(0.37768689704464364)"
      ]
     },
     "execution_count": 1472,
     "metadata": {},
     "output_type": "execute_result"
    }
   ],
   "source": [
    "df['Length'].skew()"
   ]
  },
  {
   "cell_type": "code",
   "execution_count": 1473,
   "id": "baaf0160-4150-4b2f-8d64-3e64c97300dd",
   "metadata": {},
   "outputs": [
    {
     "data": {
      "text/plain": [
       "0    3995.0\n",
       "Name: Length, dtype: float64"
      ]
     },
     "execution_count": 1473,
     "metadata": {},
     "output_type": "execute_result"
    }
   ],
   "source": [
    "df['Length'].mode()"
   ]
  },
  {
   "cell_type": "code",
   "execution_count": 1474,
   "id": "1e16c94e-fbce-4366-8736-98e03bbcc343",
   "metadata": {},
   "outputs": [],
   "source": [
    "imputer=SimpleImputer(strategy='most_frequent')\n",
    "df['Length']=imputer.fit_transform(df[['Length']])"
   ]
  },
  {
   "cell_type": "code",
   "execution_count": 1475,
   "id": "0741f243-4ab5-4f5c-a443-8961a2ee93d2",
   "metadata": {},
   "outputs": [],
   "source": [
    "df['Length']=df['Length'].astype(int)"
   ]
  },
  {
   "cell_type": "code",
   "execution_count": 1476,
   "id": "3e25f711-9cae-450d-93c6-a35f4508ea92",
   "metadata": {},
   "outputs": [
    {
     "data": {
      "text/plain": [
       "0       2425mm\n",
       "1       2519mm\n",
       "2       2400mm\n",
       "3       2425mm\n",
       "4       2600mm\n",
       "         ...  \n",
       "8364      2435\n",
       "8365    2360mm\n",
       "8366    2760mm\n",
       "8367    2360mm\n",
       "8368    2673mm\n",
       "Name: Wheel Base, Length: 8369, dtype: object"
      ]
     },
     "execution_count": 1476,
     "metadata": {},
     "output_type": "execute_result"
    }
   ],
   "source": [
    "df['Wheel Base']"
   ]
  },
  {
   "cell_type": "code",
   "execution_count": 1888,
   "id": "d606801d-35da-4e90-adac-dad7b6788fd5",
   "metadata": {},
   "outputs": [],
   "source": [
    "df['Wheel Base']=df['Wheel Base'].str.replace('mm','')"
   ]
  },
  {
   "cell_type": "code",
   "execution_count": 1889,
   "id": "060171d0-5ddd-4bd7-90af-687df24c9e43",
   "metadata": {},
   "outputs": [],
   "source": [
    "df['Wheel Base']=df['Wheel Base'].str.replace(',','')"
   ]
  },
  {
   "cell_type": "code",
   "execution_count": 1890,
   "id": "62e35245-aeb4-4910-8d23-2b15281bf406",
   "metadata": {},
   "outputs": [],
   "source": [
    "df['Wheel Base']=df['Wheel Base'].str.replace('m','')"
   ]
  },
  {
   "cell_type": "code",
   "execution_count": 1891,
   "id": "e1813df0-828f-476c-86e0-cceef79502f3",
   "metadata": {},
   "outputs": [
    {
     "name": "stdout",
     "output_type": "stream",
     "text": [
      "<class 'pandas.core.series.Series'>\n",
      "RangeIndex: 8369 entries, 0 to 8368\n",
      "Series name: Wheel Base\n",
      "Non-Null Count  Dtype \n",
      "--------------  ----- \n",
      "8206 non-null   object\n",
      "dtypes: object(1)\n",
      "memory usage: 65.5+ KB\n"
     ]
    }
   ],
   "source": [
    "df['Wheel Base'].info()"
   ]
  },
  {
   "cell_type": "code",
   "execution_count": 1892,
   "id": "798d6fde-1ea9-4429-a0ef-df4abfb7a740",
   "metadata": {},
   "outputs": [],
   "source": [
    "df['Wheel Base']=df['Wheel Base'].astype(float)"
   ]
  },
  {
   "cell_type": "code",
   "execution_count": 1893,
   "id": "354b41a2-11d4-4c8b-855f-d5c92a12c86f",
   "metadata": {},
   "outputs": [
    {
     "data": {
      "text/plain": [
       "np.float64(1.0491569521356376)"
      ]
     },
     "execution_count": 1893,
     "metadata": {},
     "output_type": "execute_result"
    }
   ],
   "source": [
    "df['Wheel Base'].skew()"
   ]
  },
  {
   "cell_type": "code",
   "execution_count": 1894,
   "id": "f8e8ea63-49b5-4e14-8d43-9a1c5b15ab78",
   "metadata": {},
   "outputs": [
    {
     "data": {
      "text/plain": [
       "np.int64(163)"
      ]
     },
     "execution_count": 1894,
     "metadata": {},
     "output_type": "execute_result"
    }
   ],
   "source": [
    "df['Wheel Base'].isnull().sum()"
   ]
  },
  {
   "cell_type": "code",
   "execution_count": 1895,
   "id": "30f6ba72-129f-4d47-963c-e18fa2ec61c8",
   "metadata": {},
   "outputs": [],
   "source": [
    "imputer=SimpleImputer(strategy='most_frequent')\n",
    "df['Wheel Base']=imputer.fit_transform(df[['Wheel Base']])"
   ]
  },
  {
   "cell_type": "code",
   "execution_count": 1896,
   "id": "7b433ea1-a2d4-49d6-8c60-1877165f2989",
   "metadata": {},
   "outputs": [],
   "source": [
    "df['Wheel Base']=df['Wheel Base'].astype(int)"
   ]
  },
  {
   "cell_type": "code",
   "execution_count": 1897,
   "id": "bf2d191e-5036-45c7-8469-311b14cf0a20",
   "metadata": {},
   "outputs": [
    {
     "data": {
      "text/plain": [
       "np.float64(42.514039909188675)"
      ]
     },
     "execution_count": 1897,
     "metadata": {},
     "output_type": "execute_result"
    }
   ],
   "source": [
    "df['Front Tread'].isnull().sum()/df.shape[0]*100"
   ]
  },
  {
   "cell_type": "code",
   "execution_count": 1898,
   "id": "e39e7272-5b07-42e7-9915-fc9536839684",
   "metadata": {},
   "outputs": [
    {
     "data": {
      "text/plain": [
       "np.float64(42.65742621579639)"
      ]
     },
     "execution_count": 1898,
     "metadata": {},
     "output_type": "execute_result"
    }
   ],
   "source": [
    "df['Rear Tread'].isnull().sum()/df.shape[0]*100"
   ]
  },
  {
   "cell_type": "code",
   "execution_count": 1899,
   "id": "c9ec6f1a-d9db-442b-98d3-8322fce21261",
   "metadata": {},
   "outputs": [],
   "source": [
    "df=df.drop(columns='Front Tread')"
   ]
  },
  {
   "cell_type": "code",
   "execution_count": 1900,
   "id": "106cabd0-6fee-4b0b-bcc0-dc6cb994f299",
   "metadata": {},
   "outputs": [],
   "source": [
    "df=df.drop(columns='Rear Tread')"
   ]
  },
  {
   "cell_type": "code",
   "execution_count": 1901,
   "id": "eb41bae3-6989-4c35-9ae7-c5b837db137b",
   "metadata": {},
   "outputs": [
    {
     "data": {
      "text/plain": [
       "0        835kg\n",
       "1       1242Kg\n",
       "2       1012kg\n",
       "3         1180\n",
       "4       1230Kg\n",
       "         ...  \n",
       "8364       810\n",
       "8365     720kg\n",
       "8366    1585kg\n",
       "8367    1030kg\n",
       "8368      1350\n",
       "Name: Kerb Weight, Length: 8369, dtype: object"
      ]
     },
     "execution_count": 1901,
     "metadata": {},
     "output_type": "execute_result"
    }
   ],
   "source": [
    "df['Kerb Weight']"
   ]
  },
  {
   "cell_type": "code",
   "execution_count": 1902,
   "id": "73f20846-ebdb-40af-9383-d47b9c20fad8",
   "metadata": {},
   "outputs": [
    {
     "data": {
      "text/plain": [
       "np.int64(59)"
      ]
     },
     "execution_count": 1902,
     "metadata": {},
     "output_type": "execute_result"
    }
   ],
   "source": [
    "df['Kerb Weight'].isnull().sum()"
   ]
  },
  {
   "cell_type": "code",
   "execution_count": 1903,
   "id": "268d7fd5-1193-4a19-bf4b-79024c15c2c6",
   "metadata": {},
   "outputs": [],
   "source": [
    "df['Kerb Weight']=df['Kerb Weight'].str.replace('kg','')"
   ]
  },
  {
   "cell_type": "code",
   "execution_count": 1904,
   "id": "efe4041a-68e7-4e04-a7f7-eda4781a3c07",
   "metadata": {},
   "outputs": [],
   "source": [
    "df['Kerb Weight']=df['Kerb Weight'].str.replace('Kg','')"
   ]
  },
  {
   "cell_type": "code",
   "execution_count": 1914,
   "id": "269c956d-b281-4458-a285-0b00ca1aa552",
   "metadata": {},
   "outputs": [],
   "source": [
    "df['Kerb Weight']=df['Kerb Weight'].str.replace(',','')"
   ]
  },
  {
   "cell_type": "code",
   "execution_count": 1906,
   "id": "f63841a1-406e-4bc6-913b-339fde070f4a",
   "metadata": {},
   "outputs": [],
   "source": [
    "df['Kerb Weight']=df['Kerb Weight'].str.replace('s','')"
   ]
  },
  {
   "cell_type": "code",
   "execution_count": 1923,
   "id": "87cfe1ee-c393-461a-8666-c11c8af77e66",
   "metadata": {},
   "outputs": [],
   "source": [
    "df['Kerb Weight']=df['Kerb Weight'].str.replace('.','')\n"
   ]
  },
  {
   "cell_type": "code",
   "execution_count": 1912,
   "id": "21e19c3c-944b-4349-a923-2e4b767f38ef",
   "metadata": {},
   "outputs": [],
   "source": [
    "df['Kerb Weight']=df['Kerb Weight'].str.split('-').str[0]"
   ]
  },
  {
   "cell_type": "code",
   "execution_count": 1909,
   "id": "46c0f301-a331-44ec-8fdc-4cfac9a6807b",
   "metadata": {},
   "outputs": [],
   "source": [
    "df['Kerb Weight'] = df['Kerb Weight'].str.strip().str.replace(\"'\", \"\").str.replace('\"', '')\n",
    "\n"
   ]
  },
  {
   "cell_type": "code",
   "execution_count": 1910,
   "id": "7781ce04-13e7-4bf2-a28a-b27044ac3017",
   "metadata": {},
   "outputs": [],
   "source": [
    "df['Kerb Weight'] = df['Kerb Weight'].replace(r'^\\s*$', np.nan, regex=True)"
   ]
  },
  {
   "cell_type": "code",
   "execution_count": 1929,
   "id": "2e096125-4661-4083-8ba8-6549dd22d8e6",
   "metadata": {},
   "outputs": [],
   "source": [
    "df['Kerb Weight']=df['Kerb Weight'].astype(float)"
   ]
  },
  {
   "cell_type": "code",
   "execution_count": 1926,
   "id": "61a27950-da76-47d9-a355-b70884b677db",
   "metadata": {},
   "outputs": [
    {
     "data": {
      "text/plain": [
       "np.float64(1.1528886945903596)"
      ]
     },
     "execution_count": 1926,
     "metadata": {},
     "output_type": "execute_result"
    }
   ],
   "source": [
    "df['Kerb Weight'].skew()"
   ]
  },
  {
   "cell_type": "code",
   "execution_count": 1934,
   "id": "82b0551b-0c2e-42a6-a487-aed7fa96a4d9",
   "metadata": {},
   "outputs": [
    {
     "data": {
      "text/plain": [
       "array([ 8350, 12420, 10120, 11800, 12300, 15510, 10700, 14400, 11050,\n",
       "        8700, 12000, 10660, 19000, 15620, 16750, 11200, 13150, 10490,\n",
       "       16000,  8750, 22000, 10500,  8450, 15850, 15950, 19400, 16500,\n",
       "       11400,  8850, 11700, 16550, 19550, 13750, 15150,  8800, 13290,\n",
       "       17350,  7620, 19900, 12500, 15350, 19800,  7050, 25350, 18250,\n",
       "       10600, 23450, 19700,  7500, 13050, 10950,  8150, 12060, 12250,\n",
       "       13200, 17000,  9600,  8500, 17200, 13600, 13760,  9800, 10150,\n",
       "       12600, 13800, 11920, 10250, 10400, 11350, 18650,  8900,  8600,\n",
       "        7300, 16520, 18350, 13450, 18200,  9250,  9100,  7600, 10860,\n",
       "       11790, 15250, 17300,  9000, 13000, 14650, 20200, 13500,  8400,\n",
       "       14450, 15800, 16080, 11000, 18300,  7550, 10200, 18790,  8550,\n",
       "       16700,  9350, 20100,  9470,  9300, 20600, 14550, 15370, 23600,\n",
       "       17450, 12380, 19540, 13900, 12850, 10800, 11090, 12740, 11580,\n",
       "       13950, 18850,  9500, 13250, 11900, 13400, 15300, 12400, 12960,\n",
       "       10420, 19600, 10440, 12550,  9850, 12350, 11070, 11150, 12200,\n",
       "       10610, 18400,  8250, 11500, 16400, 12100, 11030, 13040, 18000,\n",
       "       16800, 10300, 11750, 17800, 10720, 10650, 14900, 12450, 17700,\n",
       "       12050,  8950, 14600, 14500, 10390,  7450,  7840, 16410,  9700,\n",
       "       12750, 11600, 10850, 11250,  9400, 14250, 12900, 21950,  8650,\n",
       "       16350, 13300, 15400, 18900, 10450, 16600, 17850, 11380, 11650,\n",
       "       12280, 21520, 12800, 18800, 10550, 11950, 11060, 12880,  9200,\n",
       "       10840,  8100, 11550, 14700, 10880,  7360, 17250,  8200, 14030,\n",
       "       19150, 10100, 10640,  7700,  7790, 10160,  8300,  6990, 16200,\n",
       "        9900, 20140, 17150,  9150, 17100, 10350, 15200, 14950, 12770,\n",
       "       17750, 12080, 16300, 10140, 16040, 13100, 11450, 10530, 20950,\n",
       "       12810, 21600, 21750, 15500, 11850, 15550, 15700, 12520, 14300,\n",
       "       12010, 12700, 11300, 10900,  7850,  9820, 14390, 17030, 10360,\n",
       "       14000, 17900, 11840, 15900,  9550,  9950, 15100,  7650, 20450,\n",
       "       11210,  9390, 18450, 20000, 17950, 16250,  7200, 15430,  7740,\n",
       "       12650, 23700, 17600, 18600, 10590,  6000,  9450, 11390, 13510,\n",
       "       15670, 17400, 15980, 17550, 14850, 13650,  7270, 17500,  7100,\n",
       "       10460, 10380,  8000, 13350, 11820, 17730,  6900, 10970, 18150,\n",
       "       15750, 15650, 22400, 10920, 10480, 16100, 20400, 15450, 14750,\n",
       "       12580, 16150, 11520,  8050, 16850, 21450, 25000, 22300, 13090,\n",
       "       21320,  7260, 13550,  6250,  7570, 21150, 11100, 11730, 12460,\n",
       "       16900, 14150,  9650, 11630,  9430, 15600, 22200, 11460, 11980,\n",
       "       23300, 18550,  9050, 14050, 10690, 17610, 12330, 22800, 19950,\n",
       "       14680, 12980, 10290, 18050, 10410, 21500, 11120, 25050,  9170,\n",
       "       19200, 12180, 16440,  9240, 19450, 11420, 20300,  6500, 18160,\n",
       "       11870, 17960,  9210, 14200, 29620, 13540, 10630,  9070, 15000,\n",
       "       17990, 10620, 23500, 16450, 13120, 10260, 10580, 11370, 25150,\n",
       "       17050, 18700,  8420,  8820, 10540, 12150, 17790,  6350, 15050,\n",
       "       18570, 10520, 18950, 10230, 13020, 11540, 25500, 14040, 12780,\n",
       "       10750, 10810,  9420, 27500, 12680, 17650, 20010, 16120, 11480,\n",
       "       22100, 16680, 14350, 10220, 16950,  6750, 12120, 23760, 16650,\n",
       "       12340,  9130,  8460, 13850, 13700, 20270, 18500, 21860, 19500,\n",
       "       22700, 24600, 12480, 19050, 18750, 21840, 10870, 26000, 18660,\n",
       "       21000, 17870, 21100, 25600, 22450, 11680,  8310, 16670, 24550,\n",
       "       19300, 24890, 19250, 20640,  8470, 20800, 19940, 29000, 27000,\n",
       "       17290, 16280, 14970, 14800, 18710, 15790,  7250, 10310, 18100,\n",
       "       16140, 10270, 10000, 12390, 11110, 12160,  8540, 19350, 12110,\n",
       "       10050, 22350, 11530,  6650, 23100, 12320,  8860, 19100,  7220,\n",
       "       13890, 11610, 12310, 18130, 21850, 10130, 17660, 26750, 15330,\n",
       "       10210, 16510, 12690, 15610, 24100,  9750, 16050, 11320, 15470,\n",
       "        9280, 11910, 11020, 10930, 24250, 12950, 11310, 11240, 19650,\n",
       "       11470, 21550, 13060, 17760, 18510, 14100,  9930, 12890, 14590,\n",
       "       16810, 11040, 18740, 22500, 18240, 12170, 12610, 15270,  6950,\n",
       "       11880, 10330, 24400])"
      ]
     },
     "execution_count": 1934,
     "metadata": {},
     "output_type": "execute_result"
    }
   ],
   "source": [
    "df['Kerb Weight'].unique()"
   ]
  },
  {
   "cell_type": "code",
   "execution_count": 1930,
   "id": "ef222597-dfac-4743-9d2b-45c48d0556fc",
   "metadata": {},
   "outputs": [
    {
     "data": {
      "text/plain": [
       "np.int64(60)"
      ]
     },
     "execution_count": 1930,
     "metadata": {},
     "output_type": "execute_result"
    }
   ],
   "source": [
    "df['Kerb Weight'].isnull().sum()"
   ]
  },
  {
   "cell_type": "code",
   "execution_count": 1931,
   "id": "350db50b-0d72-41a2-8359-f841b5ae09a3",
   "metadata": {},
   "outputs": [
    {
     "data": {
      "text/plain": [
       "np.float64(11875.869539054038)"
      ]
     },
     "execution_count": 1931,
     "metadata": {},
     "output_type": "execute_result"
    }
   ],
   "source": [
    "df['Kerb Weight'].mean()"
   ]
  },
  {
   "cell_type": "code",
   "execution_count": 1932,
   "id": "61445513-6fb1-4d71-a101-c121e61ad766",
   "metadata": {},
   "outputs": [],
   "source": [
    "imputer=SimpleImputer(strategy='most_frequent')\n",
    "df['Kerb Weight']=imputer.fit_transform(df[['Kerb Weight']])"
   ]
  },
  {
   "cell_type": "code",
   "execution_count": 1933,
   "id": "b2f25797-9e26-414a-91fb-54ca72c34c39",
   "metadata": {},
   "outputs": [],
   "source": [
    "df['Kerb Weight']=df['Kerb Weight'].astype(int)"
   ]
  },
  {
   "cell_type": "code",
   "execution_count": 1935,
   "id": "6cef35ed-2067-45bb-a0a4-69e9edaa7887",
   "metadata": {},
   "outputs": [
    {
     "data": {
      "text/plain": [
       "np.float64(54.25976819213765)"
      ]
     },
     "execution_count": 1935,
     "metadata": {},
     "output_type": "execute_result"
    }
   ],
   "source": [
    "df['Gross Weight'].isnull().sum()/df.shape[0]*100"
   ]
  },
  {
   "cell_type": "code",
   "execution_count": 1936,
   "id": "c2aad16a-fb0f-4b22-893a-2f1eb2ed6c55",
   "metadata": {},
   "outputs": [],
   "source": [
    "df=df.drop(columns='Gross Weight')"
   ]
  },
  {
   "cell_type": "code",
   "execution_count": 1937,
   "id": "f123c480-9347-4f96-ba18-22ac332763f5",
   "metadata": {},
   "outputs": [
    {
     "data": {
      "text/plain": [
       "0       5 Speed \n",
       "1        5 Speed\n",
       "2        5 Speed\n",
       "3       5 Speed \n",
       "4        5 Speed\n",
       "          ...   \n",
       "8364     5-Speed\n",
       "8365     5 Speed\n",
       "8366     7 Speed\n",
       "8367     5 Speed\n",
       "8368     6 Speed\n",
       "Name: Gear Box, Length: 8369, dtype: object"
      ]
     },
     "execution_count": 1937,
     "metadata": {},
     "output_type": "execute_result"
    }
   ],
   "source": [
    "df['Gear Box']"
   ]
  },
  {
   "cell_type": "code",
   "execution_count": 1938,
   "id": "85414c26-64ec-44cc-beb8-84e589f97722",
   "metadata": {},
   "outputs": [
    {
     "data": {
      "text/plain": [
       "np.int64(106)"
      ]
     },
     "execution_count": 1938,
     "metadata": {},
     "output_type": "execute_result"
    }
   ],
   "source": [
    "df['Gear Box'].isnull().sum()"
   ]
  },
  {
   "cell_type": "code",
   "execution_count": 1522,
   "id": "db88caad-9a69-4d46-9735-fba2a56960e6",
   "metadata": {},
   "outputs": [
    {
     "data": {
      "text/plain": [
       "4775    8-Speed Steptronic\n",
       "5130                     6\n",
       "2821                     6\n",
       "5124                     5\n",
       "2622                     5\n",
       "6100                    5 \n",
       "8159                     5\n",
       "3604                     5\n",
       "3462                     6\n",
       "651                      5\n",
       "Name: Gear Box, dtype: object"
      ]
     },
     "execution_count": 1522,
     "metadata": {},
     "output_type": "execute_result"
    }
   ],
   "source": [
    "df['Gear Box'].sample(10)"
   ]
  },
  {
   "cell_type": "code",
   "execution_count": 1521,
   "id": "203b72bc-a931-4fe2-982c-16d1c9be6eb3",
   "metadata": {},
   "outputs": [],
   "source": []
  },
  {
   "cell_type": "code",
   "execution_count": 1940,
   "id": "38cc112b-c076-4246-b81f-d07367f64319",
   "metadata": {},
   "outputs": [],
   "source": [
    "imputer=SimpleImputer(strategy='most_frequent')\n",
    "imputed_value=imputer.fit_transform(df[['Gear Box']])\n",
    "df['Gear Box']=imputed_value.flatten()\n",
    "                      "
   ]
  },
  {
   "cell_type": "code",
   "execution_count": 1941,
   "id": "9c2e19c5-4a68-45d6-b006-35b740c509fc",
   "metadata": {},
   "outputs": [
    {
     "data": {
      "text/plain": [
       "np.int64(0)"
      ]
     },
     "execution_count": 1941,
     "metadata": {},
     "output_type": "execute_result"
    }
   ],
   "source": [
    "df['Gear Box'].isnull().sum()"
   ]
  },
  {
   "cell_type": "code",
   "execution_count": 1942,
   "id": "c9f757a1-c424-4b3c-988d-0fcf0e4424a7",
   "metadata": {},
   "outputs": [
    {
     "data": {
      "text/plain": [
       "0        FWD\n",
       "1        FWD\n",
       "2        FWD\n",
       "3       FWD \n",
       "4        FWD\n",
       "        ... \n",
       "8364     NaN\n",
       "8365     FWD\n",
       "8366     RWD\n",
       "8367     FWD\n",
       "8368     AWD\n",
       "Name: Drive Type, Length: 8369, dtype: object"
      ]
     },
     "execution_count": 1942,
     "metadata": {},
     "output_type": "execute_result"
    }
   ],
   "source": [
    "df['Drive Type']"
   ]
  },
  {
   "cell_type": "code",
   "execution_count": 1943,
   "id": "6975c2c5-268f-42e3-a65c-d190a1005d3b",
   "metadata": {},
   "outputs": [
    {
     "data": {
      "text/plain": [
       "np.int64(1560)"
      ]
     },
     "execution_count": 1943,
     "metadata": {},
     "output_type": "execute_result"
    }
   ],
   "source": [
    "df['Drive Type'].isnull().sum()"
   ]
  },
  {
   "cell_type": "code",
   "execution_count": 1944,
   "id": "904d47c1-4ab1-4e04-af91-a79aebca827c",
   "metadata": {},
   "outputs": [],
   "source": [
    "imputer=SimpleImputer(strategy='most_frequent')\n",
    "imputed_value=imputer.fit_transform(df[['Drive Type']])\n",
    "df['Drive Type']=imputed_value.flatten()"
   ]
  },
  {
   "cell_type": "code",
   "execution_count": 1945,
   "id": "aa53323f-e32a-4355-9315-3ea3f40b6567",
   "metadata": {},
   "outputs": [
    {
     "data": {
      "text/plain": [
       "np.int64(0)"
      ]
     },
     "execution_count": 1945,
     "metadata": {},
     "output_type": "execute_result"
    }
   ],
   "source": [
    "df['Drive Type'].isnull().sum()"
   ]
  },
  {
   "cell_type": "code",
   "execution_count": 1946,
   "id": "0837c059-5bf8-4792-82c2-e89d64baa460",
   "metadata": {},
   "outputs": [],
   "source": [
    "df=df.drop(columns='Seating Capacity')"
   ]
  },
  {
   "cell_type": "code",
   "execution_count": 1947,
   "id": "6d17114c-3ac4-4bfc-ad99-8c3979398191",
   "metadata": {},
   "outputs": [
    {
     "data": {
      "text/plain": [
       "np.int64(255)"
      ]
     },
     "execution_count": 1947,
     "metadata": {},
     "output_type": "execute_result"
    }
   ],
   "source": [
    "df['Steering Type'].isnull().sum()"
   ]
  },
  {
   "cell_type": "code",
   "execution_count": 1948,
   "id": "8d4a591a-2adb-4857-a107-1eb534332ba9",
   "metadata": {},
   "outputs": [],
   "source": [
    "imputer=SimpleImputer(strategy='most_frequent')\n",
    "imputed_value=imputer.fit_transform(df[['Steering Type']])\n",
    "df['Steering Type']=imputed_value.flatten()"
   ]
  },
  {
   "cell_type": "code",
   "execution_count": 1562,
   "id": "2ae05700-b176-40a3-b5ad-44e83fdf4e4a",
   "metadata": {},
   "outputs": [],
   "source": []
  },
  {
   "cell_type": "code",
   "execution_count": 1571,
   "id": "40d6fa19-9e6d-4748-a71a-b1a452e2337b",
   "metadata": {},
   "outputs": [],
   "source": []
  },
  {
   "cell_type": "code",
   "execution_count": 2003,
   "id": "2f84f85a-13e2-4a68-818c-1245818700c6",
   "metadata": {},
   "outputs": [],
   "source": [
    "df=df.drop(columns='Turning Radius')"
   ]
  },
  {
   "cell_type": "code",
   "execution_count": 2004,
   "id": "c3ec8b42-e5d0-4afa-8361-3446a0fef50d",
   "metadata": {},
   "outputs": [
    {
     "data": {
      "text/plain": [
       "np.int64(96)"
      ]
     },
     "execution_count": 2004,
     "metadata": {},
     "output_type": "execute_result"
    }
   ],
   "source": [
    "df['Front Brake Type'].isnull().sum()"
   ]
  },
  {
   "cell_type": "code",
   "execution_count": 2005,
   "id": "e9cba617-2127-4c67-b9e5-6e36d5344d49",
   "metadata": {},
   "outputs": [
    {
     "name": "stdout",
     "output_type": "stream",
     "text": [
      "<class 'pandas.core.series.Series'>\n",
      "RangeIndex: 8369 entries, 0 to 8368\n",
      "Series name: Front Brake Type\n",
      "Non-Null Count  Dtype \n",
      "--------------  ----- \n",
      "8273 non-null   object\n",
      "dtypes: object(1)\n",
      "memory usage: 65.5+ KB\n"
     ]
    }
   ],
   "source": [
    "df['Front Brake Type'].info()"
   ]
  },
  {
   "cell_type": "code",
   "execution_count": 2006,
   "id": "57d3deb4-20c6-4396-b7c4-b8efecc90f25",
   "metadata": {},
   "outputs": [],
   "source": [
    "imputer=SimpleImputer(strategy='most_frequent')\n",
    "imputed_value=imputer.fit_transform(df[['Front Brake Type']])\n",
    "df['Front Brake Type']=imputed_value.flatten()"
   ]
  },
  {
   "cell_type": "code",
   "execution_count": 2007,
   "id": "02c95e4d-bff1-4679-a8b3-f8ab9c013c81",
   "metadata": {},
   "outputs": [
    {
     "data": {
      "text/plain": [
       "np.int64(0)"
      ]
     },
     "execution_count": 2007,
     "metadata": {},
     "output_type": "execute_result"
    }
   ],
   "source": [
    "df['Front Brake Type'].isnull().sum()"
   ]
  },
  {
   "cell_type": "code",
   "execution_count": 2008,
   "id": "5c2aaa46-91c0-41bb-a6f2-06926a44a3bd",
   "metadata": {},
   "outputs": [
    {
     "data": {
      "text/plain": [
       "np.int64(96)"
      ]
     },
     "execution_count": 2008,
     "metadata": {},
     "output_type": "execute_result"
    }
   ],
   "source": [
    "df['Rear Brake Type'].isnull().sum()"
   ]
  },
  {
   "cell_type": "code",
   "execution_count": 2009,
   "id": "3529b5d0-b25e-4e89-b76d-839679b2faa2",
   "metadata": {},
   "outputs": [
    {
     "data": {
      "text/plain": [
       "0             Drum\n",
       "1             Drum\n",
       "2             Drum\n",
       "3             Drum\n",
       "4       Solid Disc\n",
       "           ...    \n",
       "8364          Drum\n",
       "8365          Drum\n",
       "8366    Solid Disc\n",
       "8367          Drum\n",
       "8368          Drum\n",
       "Name: Rear Brake Type, Length: 8369, dtype: object"
      ]
     },
     "execution_count": 2009,
     "metadata": {},
     "output_type": "execute_result"
    }
   ],
   "source": [
    "df['Rear Brake Type']"
   ]
  },
  {
   "cell_type": "code",
   "execution_count": 2010,
   "id": "fceca527-fe80-4a9a-b5bd-b0694c971b0e",
   "metadata": {},
   "outputs": [],
   "source": [
    "df['Rear Brake Type']=df['Rear Brake Type'].str.replace('228.6 mm dia,drums on rear wheels','Drum')"
   ]
  },
  {
   "cell_type": "code",
   "execution_count": 2011,
   "id": "24103c16-40eb-4589-861c-115bbb8e5bce",
   "metadata": {},
   "outputs": [],
   "source": [
    "imputer=SimpleImputer(strategy='most_frequent')\n",
    "imputed_value=imputer.fit_transform(df[['Rear Brake Type']])\n",
    "df['Rear Brake Type']=imputed_value.flatten()"
   ]
  },
  {
   "cell_type": "code",
   "execution_count": 2012,
   "id": "53af0cf8-720e-4924-a94d-9221be9c0c45",
   "metadata": {},
   "outputs": [
    {
     "data": {
      "text/plain": [
       "np.int64(0)"
      ]
     },
     "execution_count": 2012,
     "metadata": {},
     "output_type": "execute_result"
    }
   ],
   "source": [
    "df['Rear Brake Type'].isnull().sum()"
   ]
  },
  {
   "cell_type": "code",
   "execution_count": 2013,
   "id": "91942d49-dd2c-40b3-a6ca-d138b4d9ac81",
   "metadata": {},
   "outputs": [
    {
     "data": {
      "text/plain": [
       "np.float64(44.95160712151989)"
      ]
     },
     "execution_count": 2013,
     "metadata": {},
     "output_type": "execute_result"
    }
   ],
   "source": [
    "df['Top Speed'].isnull().sum()/df.shape[0]*100"
   ]
  },
  {
   "cell_type": "code",
   "execution_count": 2014,
   "id": "53954df9-d0c7-434a-a28d-9b1a892bb035",
   "metadata": {},
   "outputs": [],
   "source": [
    "df=df.drop(columns='Top Speed')"
   ]
  },
  {
   "cell_type": "code",
   "execution_count": 2015,
   "id": "f8eae03c-a921-4b77-8e58-259ea1fc3c3b",
   "metadata": {},
   "outputs": [
    {
     "data": {
      "text/plain": [
       "np.float64(41.96439240052575)"
      ]
     },
     "execution_count": 2015,
     "metadata": {},
     "output_type": "execute_result"
    }
   ],
   "source": [
    "df['Acceleration'].isnull().sum()/df.shape[0]*100"
   ]
  },
  {
   "cell_type": "code",
   "execution_count": 2016,
   "id": "29dd8572-d622-4dbe-9884-dbd4d89aa105",
   "metadata": {},
   "outputs": [],
   "source": [
    "df=df.drop(columns='Acceleration')"
   ]
  },
  {
   "cell_type": "code",
   "execution_count": 2017,
   "id": "d05440b1-94e9-446d-ac13-56b2e6d96da5",
   "metadata": {},
   "outputs": [
    {
     "data": {
      "text/plain": [
       "np.float64(0.9200621340661966)"
      ]
     },
     "execution_count": 2017,
     "metadata": {},
     "output_type": "execute_result"
    }
   ],
   "source": [
    "df['Tyre Type'].isnull().sum()/df.shape[0]*100"
   ]
  },
  {
   "cell_type": "code",
   "execution_count": 2018,
   "id": "b6e42f1a-40f9-487c-a02e-0640e5cbc97f",
   "metadata": {},
   "outputs": [],
   "source": [
    "imputer=SimpleImputer(strategy='most_frequent')\n",
    "imputed_value=imputer.fit_transform(df[['Tyre Type']])\n",
    "df['Tyre Type']=imputed_value.flatten()"
   ]
  },
  {
   "cell_type": "code",
   "execution_count": 2019,
   "id": "b272f224-7821-4185-9f04-6d0dd61e95fe",
   "metadata": {},
   "outputs": [
    {
     "data": {
      "text/plain": [
       "np.float64(0.0)"
      ]
     },
     "execution_count": 2019,
     "metadata": {},
     "output_type": "execute_result"
    }
   ],
   "source": [
    "df['Tyre Type'].isnull().sum()/df.shape[0]*100"
   ]
  },
  {
   "cell_type": "code",
   "execution_count": 2020,
   "id": "073ae589-7e00-4209-a2fd-164761733ead",
   "metadata": {},
   "outputs": [
    {
     "data": {
      "text/plain": [
       "np.float64(0.13143744772374238)"
      ]
     },
     "execution_count": 2020,
     "metadata": {},
     "output_type": "execute_result"
    }
   ],
   "source": [
    "df['No Door Numbers'].isnull().sum()/df.shape[0]*100"
   ]
  },
  {
   "cell_type": "code",
   "execution_count": 2021,
   "id": "5d69de8b-3d3f-4d4d-93a0-c707b958e638",
   "metadata": {},
   "outputs": [
    {
     "name": "stdout",
     "output_type": "stream",
     "text": [
      "<class 'pandas.core.series.Series'>\n",
      "RangeIndex: 8369 entries, 0 to 8368\n",
      "Series name: No Door Numbers\n",
      "Non-Null Count  Dtype  \n",
      "--------------  -----  \n",
      "8358 non-null   float64\n",
      "dtypes: float64(1)\n",
      "memory usage: 65.5 KB\n"
     ]
    }
   ],
   "source": [
    "df['No Door Numbers'].info()"
   ]
  },
  {
   "cell_type": "code",
   "execution_count": 2022,
   "id": "0b8f86c8-6a5d-4e71-b68c-504f286b1d57",
   "metadata": {},
   "outputs": [
    {
     "data": {
      "text/plain": [
       "np.float64(-1.1352447949831652)"
      ]
     },
     "execution_count": 2022,
     "metadata": {},
     "output_type": "execute_result"
    }
   ],
   "source": [
    "df['No Door Numbers'].skew()"
   ]
  },
  {
   "cell_type": "code",
   "execution_count": 2023,
   "id": "6d00dcd7-7014-4d54-be21-8cb5a88f1b91",
   "metadata": {},
   "outputs": [
    {
     "data": {
      "text/plain": [
       "np.float64(4.686049294089495)"
      ]
     },
     "execution_count": 2023,
     "metadata": {},
     "output_type": "execute_result"
    }
   ],
   "source": [
    "df['No Door Numbers'].mean()"
   ]
  },
  {
   "cell_type": "code",
   "execution_count": 2024,
   "id": "ed8a4a9b-87f9-452c-aabc-c34b8f6d044d",
   "metadata": {},
   "outputs": [
    {
     "data": {
      "text/plain": [
       "np.float64(5.0)"
      ]
     },
     "execution_count": 2024,
     "metadata": {},
     "output_type": "execute_result"
    }
   ],
   "source": [
    "df['No Door Numbers'].median()"
   ]
  },
  {
   "cell_type": "code",
   "execution_count": 2025,
   "id": "d4f3b107-78ed-4879-a884-68c0a6001da6",
   "metadata": {},
   "outputs": [
    {
     "data": {
      "text/plain": [
       "0   5.00\n",
       "Name: No Door Numbers, dtype: float64"
      ]
     },
     "execution_count": 2025,
     "metadata": {},
     "output_type": "execute_result"
    }
   ],
   "source": [
    "df['No Door Numbers'].mode()"
   ]
  },
  {
   "cell_type": "code",
   "execution_count": 2026,
   "id": "686a3767-8809-4461-890a-865498cb238c",
   "metadata": {},
   "outputs": [],
   "source": [
    "imputer=SimpleImputer(strategy='median')\n",
    "df['No Door Numbers']=imputer.fit_transform(df[['No Door Numbers']])"
   ]
  },
  {
   "cell_type": "code",
   "execution_count": 2027,
   "id": "a93dfeb7-ddc6-4973-95a4-8680b4f94dfe",
   "metadata": {},
   "outputs": [
    {
     "data": {
      "text/plain": [
       "np.int64(1593)"
      ]
     },
     "execution_count": 2027,
     "metadata": {},
     "output_type": "execute_result"
    }
   ],
   "source": [
    "df['Cargo Volumn'].isnull().sum()"
   ]
  },
  {
   "cell_type": "code",
   "execution_count": 2028,
   "id": "322dd93f-fb87-4311-a55f-c10c5df8fcec",
   "metadata": {},
   "outputs": [
    {
     "name": "stdout",
     "output_type": "stream",
     "text": [
      "<class 'pandas.core.series.Series'>\n",
      "RangeIndex: 8369 entries, 0 to 8368\n",
      "Series name: Cargo Volumn\n",
      "Non-Null Count  Dtype \n",
      "--------------  ----- \n",
      "6776 non-null   object\n",
      "dtypes: object(1)\n",
      "memory usage: 65.5+ KB\n"
     ]
    }
   ],
   "source": [
    "df['Cargo Volumn'].info()"
   ]
  },
  {
   "cell_type": "code",
   "execution_count": 2041,
   "id": "030ea5f6-8918-4ba3-ab5f-e91770b15ae6",
   "metadata": {},
   "outputs": [],
   "source": [
    "df['Cargo Volumn']=df['Cargo Volumn'].str.split(' ').str[0]"
   ]
  },
  {
   "cell_type": "code",
   "execution_count": 2037,
   "id": "29dcbe06-1033-461d-a631-55810f8762ca",
   "metadata": {},
   "outputs": [],
   "source": [
    "df['Cargo Volumn']=df['Cargo Volumn'].str.replace('Litres','')"
   ]
  },
  {
   "cell_type": "code",
   "execution_count": 2051,
   "id": "860009a0-5c2a-4090-ad8b-d55da7d650e8",
   "metadata": {},
   "outputs": [],
   "source": [
    "df['Cargo Volumn']=df['Cargo Volumn'].str.replace('litrs','')"
   ]
  },
  {
   "cell_type": "code",
   "execution_count": 2052,
   "id": "dc24c141-5ab1-476e-be6b-89be8194d78b",
   "metadata": {},
   "outputs": [],
   "source": [
    "df['Cargo Volumn']=df['Cargo Volumn'].astype(float)"
   ]
  },
  {
   "cell_type": "code",
   "execution_count": 2053,
   "id": "119e247c-79d0-40e1-8dea-35f290da36aa",
   "metadata": {},
   "outputs": [],
   "source": [
    "imputer=SimpleImputer(strategy='median')\n",
    "df['Cargo Volumn']=imputer.fit_transform(df[['Cargo Volumn']])"
   ]
  },
  {
   "cell_type": "code",
   "execution_count": 2054,
   "id": "3be5f159-9642-4945-b696-fe81f7744530",
   "metadata": {},
   "outputs": [],
   "source": [
    "df['Cargo Volumn']=df['Cargo Volumn'].astype(int)"
   ]
  },
  {
   "cell_type": "code",
   "execution_count": 2055,
   "id": "ce5568f5-6504-49c8-a9ba-00e63699d6c8",
   "metadata": {},
   "outputs": [
    {
     "data": {
      "text/plain": [
       "np.int64(0)"
      ]
     },
     "execution_count": 2055,
     "metadata": {},
     "output_type": "execute_result"
    }
   ],
   "source": [
    "df['Cargo Volumn'].isnull().sum()"
   ]
  },
  {
   "cell_type": "code",
   "execution_count": 2056,
   "id": "2c0d541c-1775-4a24-9bc0-82af85a22221",
   "metadata": {},
   "outputs": [
    {
     "data": {
      "text/plain": [
       "np.float64(35.64344605090214)"
      ]
     },
     "execution_count": 2056,
     "metadata": {},
     "output_type": "execute_result"
    }
   ],
   "source": [
    "df['Wheel Size'].isnull().sum()/df.shape[0]*100"
   ]
  },
  {
   "cell_type": "code",
   "execution_count": 2057,
   "id": "9385764f-6b7a-4eb1-b1b2-3a3f0891d2ed",
   "metadata": {},
   "outputs": [
    {
     "data": {
      "text/plain": [
       "0       NaN\n",
       "1        16\n",
       "2        14\n",
       "3        14\n",
       "4        16\n",
       "       ... \n",
       "8364    NaN\n",
       "8365    NaN\n",
       "8366     17\n",
       "8367     14\n",
       "8368     16\n",
       "Name: Wheel Size, Length: 8369, dtype: object"
      ]
     },
     "execution_count": 2057,
     "metadata": {},
     "output_type": "execute_result"
    }
   ],
   "source": [
    "df['Wheel Size']"
   ]
  },
  {
   "cell_type": "code",
   "execution_count": 2058,
   "id": "3860880f-6598-49ec-a119-8e6a62369956",
   "metadata": {},
   "outputs": [],
   "source": [
    "df['Wheel Size']=df['Wheel Size'].str.replace('R','')"
   ]
  },
  {
   "cell_type": "code",
   "execution_count": 2059,
   "id": "f5f887db-08d0-4f14-8de0-943abae6483d",
   "metadata": {},
   "outputs": [],
   "source": [
    "df['Wheel Size']=df['Wheel Size'].astype(float)"
   ]
  },
  {
   "cell_type": "code",
   "execution_count": 2060,
   "id": "50918d8a-66d0-4ed2-acef-8d61566ad8f9",
   "metadata": {},
   "outputs": [],
   "source": [
    "imputer=SimpleImputer(strategy='median')\n",
    "df['Wheel Size']=imputer.fit_transform(df[['Wheel Size']])"
   ]
  },
  {
   "cell_type": "code",
   "execution_count": null,
   "id": "22f41d7a-c003-4d49-882b-d61d27372373",
   "metadata": {},
   "outputs": [],
   "source": []
  },
  {
   "cell_type": "code",
   "execution_count": 2061,
   "id": "62b06880-40a4-41ab-93be-b29961efa072",
   "metadata": {},
   "outputs": [],
   "source": [
    "df=df.drop(columns='Alloy Wheel Size')"
   ]
  },
  {
   "cell_type": "code",
   "execution_count": 2062,
   "id": "bb26f876-36f6-4a22-9351-3f65a3a066a9",
   "metadata": {},
   "outputs": [
    {
     "data": {
      "text/plain": [
       "np.float64(93.84633767475205)"
      ]
     },
     "execution_count": 2062,
     "metadata": {},
     "output_type": "execute_result"
    }
   ],
   "source": [
    "df['Ground Clearance Unladen'].isnull().sum()/df.shape[0]*100"
   ]
  },
  {
   "cell_type": "code",
   "execution_count": 2063,
   "id": "9117e5f5-bb2b-48e5-a72e-12d1ff448524",
   "metadata": {},
   "outputs": [],
   "source": [
    "df=df.drop(columns='Ground Clearance Unladen')"
   ]
  },
  {
   "cell_type": "code",
   "execution_count": 2064,
   "id": "d093faec-573f-4450-8bb1-524a59573058",
   "metadata": {},
   "outputs": [
    {
     "data": {
      "text/plain": [
       "np.float64(0.0)"
      ]
     },
     "execution_count": 2064,
     "metadata": {},
     "output_type": "execute_result"
    }
   ],
   "source": [
    "df['city'].isnull().sum()/df.shape[0]*100"
   ]
  },
  {
   "cell_type": "code",
   "execution_count": 2065,
   "id": "0ab1d120-cdc5-4e6a-b4ee-baad31dfa5fc",
   "metadata": {},
   "outputs": [
    {
     "name": "stdout",
     "output_type": "stream",
     "text": [
      "      it      ft         bt      km transmission  ownerNo            oem  \\\n",
      "0      0  Petrol  Hatchback  120000       Manual        3         Maruti   \n",
      "1      0  Petrol        SUV   32706       Manual        2           Ford   \n",
      "2      0  Petrol  Hatchback   11949       Manual        1           Tata   \n",
      "3      0  Petrol      Sedan   17794       Manual        1        Hyundai   \n",
      "4      0  Diesel        SUV   60000       Manual        1         Maruti   \n",
      "...   ..     ...        ...     ...          ...      ...            ...   \n",
      "8364   0  Petrol  Hatchback   10000       Manual        1         Maruti   \n",
      "8365   0  Petrol  Hatchback  120000       Manual        1         Maruti   \n",
      "8366   0  Petrol      Sedan   50000    Automatic        3  Mercedes-Benz   \n",
      "8367   0  Petrol  Hatchback   40000       Manual        1         Maruti   \n",
      "8368   0  Diesel        SUV  120000       Manual        2        Renault   \n",
      "\n",
      "                      model  modelYear  centralVariantId  ... Drive Type  \\\n",
      "0            Maruti Celerio       2015              3979  ...        FWD   \n",
      "1             Ford Ecosport       2018              6087  ...        FWD   \n",
      "2                Tata Tiago       2018              2983  ...        FWD   \n",
      "3             Hyundai Xcent       2014              1867  ...       FWD    \n",
      "4        Maruti SX4 S Cross       2015              4277  ...        FWD   \n",
      "...                     ...        ...               ...  ...        ...   \n",
      "8364         Maruti Celerio       2022              8682  ...        FWD   \n",
      "8365        Maruti Alto 800       2014              3943  ...        FWD   \n",
      "8366  Mercedes-Benz C-Class       2011              4672  ...        RWD   \n",
      "8367            Maruti Ritz       2012              4144  ...        FWD   \n",
      "8368         Renault Duster       2017              5048  ...        AWD   \n",
      "\n",
      "      Steering Type  Front Brake Type Rear Brake Type         Tyre Type  \\\n",
      "0             Power   Ventilated Disc            Drum  Tubeless, Radial   \n",
      "1             Power   Ventilated Disc            Drum   Tubeless,Radial   \n",
      "2             Power              Disc            Drum          Tubeless   \n",
      "3             Power             Disc             Drum   Tubeless,Radial   \n",
      "4             Power   Ventilated Disc      Solid Disc   Tubeless,Radial   \n",
      "...             ...               ...             ...               ...   \n",
      "8364       Electric   Ventilated Disc            Drum  Tubeless, Radial   \n",
      "8365          Power        Solid Disc            Drum    Tubeless Tyres   \n",
      "8366          Power   Ventilated Disc      Solid Disc   Tubeless,Radial   \n",
      "8367          Power   Ventilated Disc            Drum   Tubeless,Radial   \n",
      "8368          Power              Disc            Drum   Tubeless,Radial   \n",
      "\n",
      "     No Door Numbers  Cargo Volumn Wheel Size       city   RPM  \n",
      "0               5.00           235      16.00  Bangalore  6000  \n",
      "1               4.00           352      16.00  Bangalore  6500  \n",
      "2               5.00           242      14.00  Bangalore  6000  \n",
      "3               4.00           407      14.00  Bangalore  6000  \n",
      "4               5.00           353      16.00  Bangalore  4000  \n",
      "...              ...           ...        ...        ...   ...  \n",
      "8364            5.00           313      16.00    Kolkata  5500  \n",
      "8365            5.00           177      16.00    Kolkata  6000  \n",
      "8366            4.00           475      17.00    Kolkata  5600  \n",
      "8367            5.00           236      14.00    Kolkata  6000  \n",
      "8368            5.00           410      16.00    Kolkata  4000  \n",
      "\n",
      "[8369 rows x 222 columns]\n"
     ]
    }
   ],
   "source": [
    "print(df)"
   ]
  },
  {
   "cell_type": "code",
   "execution_count": 2067,
   "id": "d94314af-1b00-4885-b6fa-f00cd246aaba",
   "metadata": {},
   "outputs": [],
   "source": [
    "df.to_csv('car_details_clean.csv',index=False)"
   ]
  },
  {
   "cell_type": "code",
   "execution_count": null,
   "id": "d6c3852e-938b-4338-9772-2e2567740dd1",
   "metadata": {},
   "outputs": [],
   "source": []
  }
 ],
 "metadata": {
  "kernelspec": {
   "display_name": "Python 3 (ipykernel)",
   "language": "python",
   "name": "python3"
  },
  "language_info": {
   "codemirror_mode": {
    "name": "ipython",
    "version": 3
   },
   "file_extension": ".py",
   "mimetype": "text/x-python",
   "name": "python",
   "nbconvert_exporter": "python",
   "pygments_lexer": "ipython3",
   "version": "3.12.4"
  }
 },
 "nbformat": 4,
 "nbformat_minor": 5
}
