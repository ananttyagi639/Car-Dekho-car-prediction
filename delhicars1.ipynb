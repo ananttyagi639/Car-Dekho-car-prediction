{
 "cells": [
  {
   "cell_type": "code",
   "execution_count": 1,
   "id": "83317b5a-0bf5-477e-8195-82bf26619f8c",
   "metadata": {},
   "outputs": [
    {
     "name": "stderr",
     "output_type": "stream",
     "text": [
      "C:\\Users\\anant\\AppData\\Local\\Temp\\ipykernel_36272\\3301141154.py:47: FutureWarning: Downcasting object dtype arrays on .fillna, .ffill, .bfill is deprecated and will change in a future version. Call result.infer_objects(copy=False) instead. To opt-in to the future behavior, set `pd.set_option('future.no_silent_downcasting', True)`\n",
      "  feature_df = pd.json_normalize(df['feature_dict']).fillna(False).astype(int)\n"
     ]
    }
   ],
   "source": [
    "import pandas as pd\n",
    "import json \n",
    "import numpy as np\n",
    "import seaborn as sns\n",
    "import matplotlib.pyplot as plt\n",
    "# definition of the extraction data\n",
    "# to extract car overview\n",
    "def car_overview_dict_creator(overview):\n",
    "    overview_dict = json.loads(overview.replace(\"'\", '\"').replace('None', \"1\"))\n",
    "    all_overviews = {}\n",
    "    for dictionary in overview_dict['top']:\n",
    "        all_overviews.update({dictionary['key']: dictionary['value']})\n",
    "    return all_overviews\n",
    "# to extract car feature\n",
    "def car_feature_dict_creator(feature):\n",
    "  all_features = {}\n",
    "  feature_dict = json.loads(feature.replace(\"'\", '\"').replace('None', \"1\"))\n",
    "  for dictionary in feature_dict['top']:\n",
    "    all_features.update({dictionary['value']: True})\n",
    "    for section in feature_dict.get('data', []):\n",
    "      for item in section.get('list', []):\n",
    "        all_features.update({item['value']: True})\n",
    "  return all_features\n",
    "# extract car specs\n",
    "def car_spec_dict_creator(spec):\n",
    "    all_specs = {}\n",
    "    specs_dict = json.loads(spec.replace(\"'\", '\"').replace('None', \"null\"))\n",
    "    for dictionary in specs_dict.get('top', []):\n",
    "      all_specs.update({dictionary['key']: dictionary['value']})\n",
    "    # Extract nested specifications\n",
    "    for dictionary in specs_dict.get('data', []):\n",
    "      for item in dictionary.get('list', []):\n",
    "        all_specs.update({item['key'] : item['value']})\n",
    "    return all_specs\n",
    "df = pd.read_excel(\"C:/Users/anant/OneDrive/Desktop/jupyter/PROJECT 3/delhi_cars.xlsx\")\n",
    "#to extract car detail\n",
    "df.new_car_detail=df['new_car_detail'].apply(lambda x : json.loads(x.replace(\"'\",'\"').replace('None',\"1\")))\n",
    "df_car_detail = pd.DataFrame(df.new_car_detail.to_list())\n",
    "# to extract car overview\n",
    "df.new_car_overview = df['new_car_overview'].apply(lambda overview: car_overview_dict_creator(overview))\n",
    "df_car_overview = pd.DataFrame(df.new_car_overview.to_list())\n",
    "# to extract car feature\n",
    "feature = pd.DataFrame(df.new_car_feature)\n",
    "feature = feature.rename(columns={feature.columns[0]: 'feature'})\n",
    "df = df.merge(feature, left_index=True, right_index=True)\n",
    "df['feature_dict'] = df['feature'].apply(car_feature_dict_creator)\n",
    "feature_df = pd.json_normalize(df['feature_dict']).fillna(False).astype(int)\n",
    "# extract car specs\n",
    "df['new_car_specs'] = df['new_car_specs'].apply(lambda spec: car_spec_dict_creator(spec))\n",
    "df_car_specs = pd.DataFrame(df['new_car_specs'].tolist())\n",
    "df_bangalore = pd.concat([df_car_detail,df_car_overview,feature_df, df_car_specs], axis=1)\n",
    "df_bangalore ['city'] = 'Delhi'\n",
    "df_bangalore.to_csv('structured_delhi_cars.csv', index=False)"
   ]
  },
  {
   "cell_type": "code",
   "execution_count": null,
   "id": "962a9356-2cdb-403f-ad08-23299e2f1960",
   "metadata": {},
   "outputs": [],
   "source": []
  }
 ],
 "metadata": {
  "kernelspec": {
   "display_name": "Python 3 (ipykernel)",
   "language": "python",
   "name": "python3"
  },
  "language_info": {
   "codemirror_mode": {
    "name": "ipython",
    "version": 3
   },
   "file_extension": ".py",
   "mimetype": "text/x-python",
   "name": "python",
   "nbconvert_exporter": "python",
   "pygments_lexer": "ipython3",
   "version": "3.12.4"
  }
 },
 "nbformat": 4,
 "nbformat_minor": 5
}
